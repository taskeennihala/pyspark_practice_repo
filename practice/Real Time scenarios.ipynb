{
 "cells": [
  {
   "cell_type": "markdown",
   "metadata": {
    "application/vnd.databricks.v1+cell": {
     "cellMetadata": {},
     "inputWidgets": {},
     "nuid": "51ccf88f-8942-4c9a-861d-e7476076f826",
     "showTitle": false,
     "title": ""
    }
   },
   "source": [
    "### converting csv to json\n"
   ]
  },
  {
   "cell_type": "code",
   "execution_count": 0,
   "metadata": {
    "application/vnd.databricks.v1+cell": {
     "cellMetadata": {
      "byteLimit": 2048000,
      "rowLimit": 10000
     },
     "inputWidgets": {},
     "nuid": "9da3781e-dace-42bd-8deb-5a043501ea9a",
     "showTitle": false,
     "title": ""
    }
   },
   "outputs": [
    {
     "output_type": "display_data",
     "data": {
      "text/html": [
       "<style scoped>\n",
       "  .table-result-container {\n",
       "    max-height: 300px;\n",
       "    overflow: auto;\n",
       "  }\n",
       "  table, th, td {\n",
       "    border: 1px solid black;\n",
       "    border-collapse: collapse;\n",
       "  }\n",
       "  th, td {\n",
       "    padding: 5px;\n",
       "  }\n",
       "  th {\n",
       "    text-align: left;\n",
       "  }\n",
       "</style><div class='table-result-container'><table class='table-result'><thead style='background-color: white'><tr><th>custid</th><th>custname</th><th>itemname</th><th>quanity</th></tr></thead><tbody><tr><td>100</td><td>Apple</td><td>book</td><td>5</td></tr><tr><td>101</td><td>Banana</td><td>Pen</td><td>10</td></tr><tr><td>100</td><td>Apple</td><td>Box</td><td>8</td></tr><tr><td>101</td><td>Banana</td><td>Fan</td><td>1</td></tr><tr><td>102</td><td>Grapes</td><td>Ball</td><td>1</td></tr><tr><td>103</td><td>jackFruit</td><td>Ink</td><td>10</td></tr></tbody></table></div>"
      ]
     },
     "metadata": {
      "application/vnd.databricks.v1+output": {
       "addedWidgets": {},
       "aggData": [],
       "aggError": "",
       "aggOverflow": false,
       "aggSchema": [],
       "aggSeriesLimitReached": false,
       "aggType": "",
       "arguments": {},
       "columnCustomDisplayInfos": {},
       "data": [
        [
         100,
         "Apple",
         "book",
         5
        ],
        [
         101,
         "Banana",
         "Pen",
         10
        ],
        [
         100,
         "Apple",
         "Box",
         8
        ],
        [
         101,
         "Banana",
         "Fan",
         1
        ],
        [
         102,
         "Grapes",
         "Ball",
         1
        ],
        [
         103,
         "jackFruit",
         "Ink",
         10
        ]
       ],
       "datasetInfos": [],
       "dbfsResultPath": null,
       "isJsonSchema": true,
       "metadata": {},
       "overflow": false,
       "plotOptions": {
        "customPlotOptions": {},
        "displayType": "table",
        "pivotAggregation": null,
        "pivotColumns": null,
        "xColumns": null,
        "yColumns": null
       },
       "removedWidgets": [],
       "schema": [
        {
         "metadata": "{}",
         "name": "custid",
         "type": "\"long\""
        },
        {
         "metadata": "{}",
         "name": "custname",
         "type": "\"string\""
        },
        {
         "metadata": "{}",
         "name": "itemname",
         "type": "\"string\""
        },
        {
         "metadata": "{}",
         "name": "quanity",
         "type": "\"long\""
        }
       ],
       "type": "table"
      }
     },
     "output_type": "display_data"
    }
   ],
   "source": [
    "data=[(100,\"Apple\",\"book\",5),\n",
    "      (101,\"Banana\",\"Pen\",10),\n",
    "      (100,\"Apple\",\"Box\",8),\n",
    "      (101,\"Banana\",\"Fan\",1),\n",
    "      (102,\"Grapes\",\"Ball\",1),\n",
    "      (103,\"jackFruit\",\"Ink\",10)]\n",
    "df=spark.createDataFrame(data,[\"custid\",\"custname\",\"itemname\",\"quanity\"])\n",
    "display(df)"
   ]
  },
  {
   "cell_type": "code",
   "execution_count": 0,
   "metadata": {
    "application/vnd.databricks.v1+cell": {
     "cellMetadata": {
      "byteLimit": 2048000,
      "rowLimit": 10000
     },
     "inputWidgets": {},
     "nuid": "5b9c5407-b42e-4de6-9eb5-ebe2d17aad8b",
     "showTitle": false,
     "title": ""
    }
   },
   "outputs": [
    {
     "output_type": "stream",
     "name": "stdout",
     "output_type": "stream",
     "text": [
      "+------+---------+---------------------------------------------------------------------+\n|custid|custname |map_from_entries(collect_list(struct(itemname, quanity)) AS purchase)|\n+------+---------+---------------------------------------------------------------------+\n|100   |Apple    |{book -> 5, Box -> 8}                                                |\n|101   |Banana   |{Pen -> 10, Fan -> 1}                                                |\n|102   |Grapes   |{Ball -> 1}                                                          |\n|103   |jackFruit|{Ink -> 10}                                                          |\n+------+---------+---------------------------------------------------------------------+\n\n"
     ]
    },
    {
     "output_type": "display_data",
     "data": {
      "text/html": [
       "<style scoped>\n",
       "  .table-result-container {\n",
       "    max-height: 300px;\n",
       "    overflow: auto;\n",
       "  }\n",
       "  table, th, td {\n",
       "    border: 1px solid black;\n",
       "    border-collapse: collapse;\n",
       "  }\n",
       "  th, td {\n",
       "    padding: 5px;\n",
       "  }\n",
       "  th {\n",
       "    text-align: left;\n",
       "  }\n",
       "</style><div class='table-result-container'><table class='table-result'><thead style='background-color: white'><tr><th>custid</th><th>custname</th><th>map_from_entries(collect_list(struct(itemname, quanity)) AS purchase)</th></tr></thead><tbody><tr><td>100</td><td>Apple</td><td>Map(book -> 5, Box -> 8)</td></tr><tr><td>101</td><td>Banana</td><td>Map(Pen -> 10, Fan -> 1)</td></tr><tr><td>102</td><td>Grapes</td><td>Map(Ball -> 1)</td></tr><tr><td>103</td><td>jackFruit</td><td>Map(Ink -> 10)</td></tr></tbody></table></div>"
      ]
     },
     "metadata": {
      "application/vnd.databricks.v1+output": {
       "addedWidgets": {},
       "aggData": [],
       "aggError": "",
       "aggOverflow": false,
       "aggSchema": [],
       "aggSeriesLimitReached": false,
       "aggType": "",
       "arguments": {},
       "columnCustomDisplayInfos": {},
       "data": [
        [
         100,
         "Apple",
         {
          "Box": 8,
          "book": 5
         }
        ],
        [
         101,
         "Banana",
         {
          "Fan": 1,
          "Pen": 10
         }
        ],
        [
         102,
         "Grapes",
         {
          "Ball": 1
         }
        ],
        [
         103,
         "jackFruit",
         {
          "Ink": 10
         }
        ]
       ],
       "datasetInfos": [],
       "dbfsResultPath": null,
       "isJsonSchema": true,
       "metadata": {},
       "overflow": false,
       "plotOptions": {
        "customPlotOptions": {},
        "displayType": "table",
        "pivotAggregation": null,
        "pivotColumns": null,
        "xColumns": null,
        "yColumns": null
       },
       "removedWidgets": [],
       "schema": [
        {
         "metadata": "{}",
         "name": "custid",
         "type": "\"long\""
        },
        {
         "metadata": "{}",
         "name": "custname",
         "type": "\"string\""
        },
        {
         "metadata": "{}",
         "name": "map_from_entries(collect_list(struct(itemname, quanity)) AS purchase)",
         "type": "{\"type\":\"map\",\"keyType\":\"string\",\"valueType\":\"long\",\"valueContainsNull\":true}"
        }
       ],
       "type": "table"
      }
     },
     "output_type": "display_data"
    }
   ],
   "source": [
    "from pyspark.sql import functions as f\n",
    "df2=df.groupBy(\"custid\",\"custname\").agg(f.map_from_entries(f.collect_list(f.struct(\"itemname\",\"quanity\")).alias(\"purchase\")))\n",
    "df2.show(truncate=False)\n",
    "df2.display()"
   ]
  },
  {
   "cell_type": "code",
   "execution_count": 0,
   "metadata": {
    "application/vnd.databricks.v1+cell": {
     "cellMetadata": {
      "byteLimit": 2048000,
      "rowLimit": 10000
     },
     "inputWidgets": {},
     "nuid": "604d7a5c-2999-444e-a651-0e13d391151c",
     "showTitle": false,
     "title": ""
    }
   },
   "outputs": [
    {
     "output_type": "stream",
     "name": "stdout",
     "output_type": "stream",
     "text": [
      "[{'custid': 100, 'custname': 'Apple', 'map_from_entries(collect_list(struct(itemname, quanity)) AS purchase)': {'Box': 8, 'book': 5}}, {'custid': 101, 'custname': 'Banana', 'map_from_entries(collect_list(struct(itemname, quanity)) AS purchase)': {'Pen': 10, 'Fan': 1}}, {'custid': 102, 'custname': 'Grapes', 'map_from_entries(collect_list(struct(itemname, quanity)) AS purchase)': {'Ball': 1}}, {'custid': 103, 'custname': 'jackFruit', 'map_from_entries(collect_list(struct(itemname, quanity)) AS purchase)': {'Ink': 10}}]\n"
     ]
    }
   ],
   "source": [
    "my_format=[i.asDict(recursive=True) for i in df2.collect()]\n",
    "print(my_format)"
   ]
  },
  {
   "cell_type": "markdown",
   "metadata": {
    "application/vnd.databricks.v1+cell": {
     "cellMetadata": {
      "byteLimit": 2048000,
      "rowLimit": 10000
     },
     "inputWidgets": {},
     "nuid": "3593b00d-9db3-42d4-9c72-ace4576c51fb",
     "showTitle": false,
     "title": ""
    }
   },
   "source": [
    "### spliting a single column value to multiple rows in pyspark"
   ]
  },
  {
   "cell_type": "code",
   "execution_count": 0,
   "metadata": {
    "application/vnd.databricks.v1+cell": {
     "cellMetadata": {
      "byteLimit": 2048000,
      "rowLimit": 10000
     },
     "inputWidgets": {},
     "nuid": "5e5a868d-fcae-4cea-97c5-31c85927fbef",
     "showTitle": false,
     "title": ""
    }
   },
   "outputs": [
    {
     "output_type": "stream",
     "name": "stdout",
     "output_type": "stream",
     "text": [
      "+--------------------------------------------------------------------------+\n|Col1                                                                      |\n+--------------------------------------------------------------------------+\n|1001|Ram|28|Java|1002|Raj|24|Database|1004|Jam|28|DotNet|1005|Kesh|25|Java|\n+--------------------------------------------------------------------------+\n\n"
     ]
    }
   ],
   "source": [
    "df=spark.read.format(\"csv\").option(\"header\",\"false\").load(\"dbfs:/FileStore/stream_write_1/sample.csv\")\n",
    "df1=df.toDF(\"Col1\")\n",
    "df1.show(truncate=False)"
   ]
  },
  {
   "cell_type": "code",
   "execution_count": 0,
   "metadata": {
    "application/vnd.databricks.v1+cell": {
     "cellMetadata": {
      "byteLimit": 2048000,
      "rowLimit": 10000
     },
     "inputWidgets": {},
     "nuid": "6e493651-22a5-4584-9fa9-637311fad2b1",
     "showTitle": false,
     "title": ""
    }
   },
   "outputs": [
    {
     "output_type": "stream",
     "name": "stdout",
     "output_type": "stream",
     "text": [
      "+--------------------------------------------------------------------------------+\n|Col2                                                                            |\n+--------------------------------------------------------------------------------+\n|1001|Ram|28|Java|\\n1002|Raj|24|Database|\\n1004|Jam|28|DotNet|\\n1005|Kesh|25|Java|\n+--------------------------------------------------------------------------------+\n\n"
     ]
    }
   ],
   "source": [
    "from pyspark.sql import functions as f\n",
    "df2=df1.withColumn('Col2',f.regexp_replace(f.col(\"Col1\"),\"(.*?\\\\|){4}\",\"$0\\n\"))\n",
    "df2.select(\"Col2\").show(truncate=False)\n"
   ]
  },
  {
   "cell_type": "code",
   "execution_count": 0,
   "metadata": {
    "application/vnd.databricks.v1+cell": {
     "cellMetadata": {
      "byteLimit": 2048000,
      "rowLimit": 10000
     },
     "inputWidgets": {},
     "nuid": "6faf7402-36ba-4737-8945-e99572d47d4f",
     "showTitle": false,
     "title": ""
    }
   },
   "outputs": [
    {
     "output_type": "stream",
     "name": "stdout",
     "output_type": "stream",
     "text": [
      "+----+-----+---+--------+\n| eno|ename|age|    tech|\n+----+-----+---+--------+\n|1001|  Ram| 28|    Java|\n|1002|  Raj| 24|Database|\n|1004|  Jam| 28|  DotNet|\n|1005| Kesh| 25|    Java|\n+----+-----+---+--------+\n\n"
     ]
    }
   ],
   "source": [
    "df_header=['eno','ename','age','tech']\n",
    "df2.select(f.explode(f.split(\"Col2\",\"\\n\")))\\\n",
    "    .select(f.split(\"col\",\"\\|\").alias(\"value\"))\\\n",
    "    .select(*map(lambda i: f.col(\"value\").getItem(df_header.index(i)).alias(i),df_header)).show()"
   ]
  },
  {
   "cell_type": "code",
   "execution_count": 0,
   "metadata": {
    "application/vnd.databricks.v1+cell": {
     "cellMetadata": {
      "byteLimit": 2048000,
      "rowLimit": 10000
     },
     "inputWidgets": {},
     "nuid": "93cac073-0296-45e5-8d89-e0e11e1fa87b",
     "showTitle": false,
     "title": ""
    }
   },
   "outputs": [
    {
     "output_type": "stream",
     "name": "stdout",
     "output_type": "stream",
     "text": [
      "+----+-----+----+----+\n| eno|ename| age|tech|\n+----+-----+----+----+\n|1001| 1001|1001|1001|\n|1002| 1002|1002|1002|\n|1004| 1004|1004|1004|\n|1005| 1005|1005|1005|\n+----+-----+----+----+\n\n"
     ]
    }
   ],
   "source": [
    "\n",
    "df_header=['eno','ename','age','tech']\n",
    "df2.select(f.explode(f.split(\"Col2\",\"\\n\")))\\\n",
    "    .select(f.split(\"col\",\"\\|\").alias(\"value\"))\\\n",
    "    .select(*map(lambda i: f.col(\"value\").getItem(df_header.index(i)).alias(i),df_header)).show()"
   ]
  },
  {
   "cell_type": "code",
   "execution_count": 0,
   "metadata": {
    "application/vnd.databricks.v1+cell": {
     "cellMetadata": {
      "byteLimit": 2048000,
      "rowLimit": 10000
     },
     "inputWidgets": {},
     "nuid": "684fc66a-4c8b-4eb8-ad66-f3662c913323",
     "showTitle": false,
     "title": ""
    }
   },
   "outputs": [
    {
     "output_type": "stream",
     "name": "stdout",
     "output_type": "stream",
     "text": [
      "+----------------------------------------------------------------------------------+\n|split(Col2, \\n, -1)                                                               |\n+----------------------------------------------------------------------------------+\n|[1001|Ram|28|Java|, 1002|Raj|24|Database|, 1004|Jam|28|DotNet|, 1005|Kesh|25|Java]|\n+----------------------------------------------------------------------------------+\n\n+---------------------+\n|col                  |\n+---------------------+\n|1001|Ram|28|Java|    |\n|1002|Raj|24|Database||\n|1004|Jam|28|DotNet|  |\n|1005|Kesh|25|Java    |\n+---------------------+\n\n+---------------------------+\n|value                      |\n+---------------------------+\n|[1001, Ram, 28, Java, ]    |\n|[1002, Raj, 24, Database, ]|\n|[1004, Jam, 28, DotNet, ]  |\n|[1005, Kesh, 25, Java]     |\n+---------------------------+\n\n"
     ]
    }
   ],
   "source": [
    "df_header=['eno','ename','age','tech']\n",
    "df2.select(f.split(\"Col2\",\"\\n\")).show(truncate=False)\n",
    "df2.select(f.explode(f.split(\"Col2\",\"\\n\"))).show(truncate=False)\n",
    "df2.select(f.explode(f.split(\"Col2\",\"\\n\")))\\\n",
    "    .select(f.split(\"col\",\"\\|\").alias(\"value\")).show(truncate=False)"
   ]
  },
  {
   "cell_type": "markdown",
   "metadata": {
    "application/vnd.databricks.v1+cell": {
     "cellMetadata": {},
     "inputWidgets": {},
     "nuid": "cea11595-5250-471a-8900-33ef60a7dad1",
     "showTitle": false,
     "title": ""
    }
   },
   "source": [
    "### Regexp_replace and ReplaceAll"
   ]
  },
  {
   "cell_type": "code",
   "execution_count": 0,
   "metadata": {
    "application/vnd.databricks.v1+cell": {
     "cellMetadata": {
      "byteLimit": 2048000,
      "rowLimit": 10000
     },
     "inputWidgets": {},
     "nuid": "847e5682-63ef-4f12-b407-4effef4a685e",
     "showTitle": false,
     "title": ""
    }
   },
   "outputs": [
    {
     "output_type": "display_data",
     "data": {
      "text/html": [
       "<style scoped>\n",
       "  .table-result-container {\n",
       "    max-height: 300px;\n",
       "    overflow: auto;\n",
       "  }\n",
       "  table, th, td {\n",
       "    border: 1px solid black;\n",
       "    border-collapse: collapse;\n",
       "  }\n",
       "  th, td {\n",
       "    padding: 5px;\n",
       "  }\n",
       "  th {\n",
       "    text-align: left;\n",
       "  }\n",
       "</style><div class='table-result-container'><table class='table-result'><thead style='background-color: white'><tr><th>SNo|Sname|Sub1|Sub2|Sub3|Sub4</th></tr></thead><tbody><tr><td>111|apple|90|70|34|67</td></tr><tr><td>112|orange|67|34|98|55</td></tr><tr><td>113|grapes|56|89|23|90</td></tr><tr><td>114|mango|55|88|33|90</td></tr><tr><td>115|linci|89|76|89|45</td></tr></tbody></table></div>"
      ]
     },
     "metadata": {
      "application/vnd.databricks.v1+output": {
       "addedWidgets": {},
       "aggData": [],
       "aggError": "",
       "aggOverflow": false,
       "aggSchema": [],
       "aggSeriesLimitReached": false,
       "aggType": "",
       "arguments": {},
       "columnCustomDisplayInfos": {},
       "data": [
        [
         "111|apple|90|70|34|67"
        ],
        [
         "112|orange|67|34|98|55"
        ],
        [
         "113|grapes|56|89|23|90"
        ],
        [
         "114|mango|55|88|33|90"
        ],
        [
         "115|linci|89|76|89|45"
        ]
       ],
       "datasetInfos": [],
       "dbfsResultPath": null,
       "isJsonSchema": true,
       "metadata": {},
       "overflow": false,
       "plotOptions": {
        "customPlotOptions": {},
        "displayType": "table",
        "pivotAggregation": null,
        "pivotColumns": null,
        "xColumns": null,
        "yColumns": null
       },
       "removedWidgets": [],
       "schema": [
        {
         "metadata": "{}",
         "name": "SNo|Sname|Sub1|Sub2|Sub3|Sub4",
         "type": "\"string\""
        }
       ],
       "type": "table"
      }
     },
     "output_type": "display_data"
    }
   ],
   "source": [
    "df=spark.read.format(\"csv\").option(\"header\",\"true\").load(\"dbfs:/FileStore/sample.csv\")\n",
    "display(df)"
   ]
  },
  {
   "cell_type": "code",
   "execution_count": 0,
   "metadata": {
    "application/vnd.databricks.v1+cell": {
     "cellMetadata": {
      "byteLimit": 2048000,
      "rowLimit": 10000
     },
     "inputWidgets": {},
     "nuid": "9d8cdb65-762c-4d8d-9f96-9a357af19d91",
     "showTitle": false,
     "title": ""
    }
   },
   "outputs": [
    {
     "output_type": "stream",
     "name": "stdout",
     "output_type": "stream",
     "text": [
      "+---+--------------+--------------+\n|id |name          |name_array    |\n+---+--------------+--------------+\n|1  |{John, Doe}   |[John, Doe]   |\n|2  |{Jane, Smith} |[Jane, Smith] |\n|3  |{Bob, Johnson}|[Bob, Johnson]|\n+---+--------------+--------------+\n\n"
     ]
    }
   ],
   "source": [
    "from pyspark.sql import SparkSession\n",
    "from pyspark.sql.functions import col, array\n",
    "\n",
    "spark = SparkSession.builder.appName(\"example\").getOrCreate()\n",
    "\n",
    "data = [(1, (\"John\", \"Doe\")), (2, (\"Jane\", \"Smith\")), (3, (\"Bob\", \"Johnson\"))]\n",
    "columns = [\"id\", \"name\"]\n",
    "\n",
    "df = spark.createDataFrame(data, columns)\n",
    "\n",
    "df_array = df.withColumn(\"name_array\", array(col(\"name.*\")))\n",
    "\n",
    "df_array.show(truncate=False)"
   ]
  }
 ],
 "metadata": {
  "application/vnd.databricks.v1+notebook": {
   "dashboards": [],
   "language": "python",
   "notebookMetadata": {
    "pythonIndentUnit": 4
   },
   "notebookName": "Real Time scenarios",
   "widgets": {}
  }
 },
 "nbformat": 4,
 "nbformat_minor": 0
}
