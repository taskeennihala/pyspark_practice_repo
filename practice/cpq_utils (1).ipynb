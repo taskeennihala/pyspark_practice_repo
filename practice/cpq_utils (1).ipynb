{
 "cells": [
  {
   "cell_type": "code",
   "execution_count": 0,
   "metadata": {
    "application/vnd.databricks.v1+cell": {
     "cellMetadata": {
      "byteLimit": 2048000,
      "rowLimit": 10000
     },
     "inputWidgets": {},
     "nuid": "2c79fc1e-f219-483d-bc35-e096183d8385",
     "showTitle": true,
     "title": "required modules "
    }
   },
   "outputs": [],
   "source": [
    "from pyspark.sql.functions import*\n",
    "from pyspark.sql.types import StructType, StructField, IntegerType, StringType, ArrayType\n",
    "from pyspark.sql.functions import current_timestamp"
   ]
  },
  {
   "cell_type": "code",
   "execution_count": 0,
   "metadata": {
    "application/vnd.databricks.v1+cell": {
     "cellMetadata": {
      "byteLimit": 2048000,
      "rowLimit": 10000
     },
     "inputWidgets": {},
     "nuid": "624fba30-94f7-419f-9744-ebc4ed596bf4",
     "showTitle": true,
     "title": "defining function to read "
    }
   },
   "outputs": [],
   "source": [
    "def read_data_from_bronze(path,format_name,**schema):\n",
    "    return spark.read.format(format_name).options(**schema).load(path)"
   ]
  },
  {
   "cell_type": "code",
   "execution_count": 0,
   "metadata": {
    "application/vnd.databricks.v1+cell": {
     "cellMetadata": {
      "byteLimit": 2048000,
      "rowLimit": 10000
     },
     "inputWidgets": {},
     "nuid": "b502ec88-4191-4656-b888-54197f33426c",
     "showTitle": true,
     "title": "defining function for all dataframe"
    }
   },
   "outputs": [],
   "source": [
    "def select_columns(read_data_cpq, columns):\n",
    "    return read_data_cpq.select(*columns)"
   ]
  },
  {
   "cell_type": "code",
   "execution_count": 0,
   "metadata": {
    "application/vnd.databricks.v1+cell": {
     "cellMetadata": {
      "byteLimit": 2048000,
      "rowLimit": 10000
     },
     "inputWidgets": {},
     "nuid": "fb0f7a3d-e151-4a6f-91be-fb190c84d84d",
     "showTitle": true,
     "title": "required columns list values "
    }
   },
   "outputs": [],
   "source": [
    "customefields_cpq_list = [\"quoteNumber\", \"quoteId\", \"CustomFields\", \"load_data\"]\n",
    "involvedparties_cpq_list=[\"quoteNumber\", \"quoteId\", \"InvolvedParties\", \"load_data\"]\n",
    "amount_columns_list = [\"quoteNumber\",\"quoteId\",\"AverageGrossMarginPercent\",\"Cost\",\"TotalAmount\",\"TotalListPrice\",\"TotalNetPrice\",\n",
    "\"TotalProductDiscountAmount\",\"load_data\"]\n",
    "cpq_header_columns_list = [\"quoteNumber\",\"quoteId\",\"CurrencyCode\",\"DateCreated\",\"DateModified\",\"DistributionChannel\",\"Division\",\n",
    "\"EffectiveDate\",\"ErrorMessage\",\"ExternalId\",\"ExternalSystemId\",\"IsPrimary\",\"MarketCode\",\"MarketId\",\"OpportunityId\",\"OpportunityName\",\n",
    "\"Origin\",\"OwnerId\",\"PriceBookId\",\"QuoteTables\",\"RevisionNumber\",\"StatINDIAId\",\"StatINDIAName\",\"StatINRId\",\"StatINRName\",\"StatusId\",\n",
    "\"StatusName\",\"load_data\"]"
   ]
  },
  {
   "cell_type": "code",
   "execution_count": 0,
   "metadata": {
    "application/vnd.databricks.v1+cell": {
     "cellMetadata": {
      "byteLimit": 2048000,
      "rowLimit": 10000
     },
     "inputWidgets": {},
     "nuid": "505de0eb-c46d-40fb-ac17-7f13a2240398",
     "showTitle": true,
     "title": "defining function to explode columns"
    }
   },
   "outputs": [],
   "source": [
    "def explode_column(dataframe, column_name):\n",
    "    return dataframe.withColumn(column_name, explode(column_name))"
   ]
  },
  {
   "cell_type": "code",
   "execution_count": 0,
   "metadata": {
    "application/vnd.databricks.v1+cell": {
     "cellMetadata": {
      "byteLimit": 2048000,
      "rowLimit": 10000
     },
     "inputWidgets": {},
     "nuid": "194e0c39-3b0c-4f81-967d-52b48a9b74dc",
     "showTitle": true,
     "title": "defining function to split content and name from customfields column"
    }
   },
   "outputs": [],
   "source": [
    "def transform_exploded_column(dataframe,customfields,content,name):\n",
    "    return dataframe.select(\"*\",col(customfields).getItem(content).alias(\"content\"),col(customfields).getItem(name).alias(\"Name\")).drop(customfields)"
   ]
  },
  {
   "cell_type": "code",
   "execution_count": 0,
   "metadata": {
    "application/vnd.databricks.v1+cell": {
     "cellMetadata": {
      "byteLimit": 2048000,
      "rowLimit": 10000
     },
     "inputWidgets": {},
     "nuid": "bbc776c9-fea9-4dc5-8a3f-ff8796fdbbe1",
     "showTitle": true,
     "title": "defining function to split the df"
    }
   },
   "outputs": [],
   "source": [
    "def split_and_select_columns(dataframe, column_name,splitted_data):\n",
    "    split_df = dataframe.withColumn(\"splitted_data\", col(column_name))\n",
    "    return split_df.select(\"*\", \"splitted_data.*\").drop(\"splitted_data\").drop(column_name)"
   ]
  },
  {
   "cell_type": "code",
   "execution_count": 0,
   "metadata": {
    "application/vnd.databricks.v1+cell": {
     "cellMetadata": {
      "byteLimit": 2048000,
      "rowLimit": 10000
     },
     "inputWidgets": {},
     "nuid": "b7c677b8-3fca-4696-b316-f12688340b44",
     "showTitle": true,
     "title": "pivoting the columns from amount df"
    }
   },
   "outputs": [],
   "source": [
    "def pivot_df(df,column_name,column_value):\n",
    "    for i in range (len(column_name)):\n",
    "       df= df.withColumn(column_name[i]+\"_\"+column_value[0],col(column_name[i]).getField(column_value[0]))\\\n",
    "        .withColumn(column_name[i]+\"_\"+column_value[1],col(column_name[i]).getField(column_value[1])).drop(column_name[i])\n",
    "    return df"
   ]
  },
  {
   "cell_type": "code",
   "execution_count": 0,
   "metadata": {
    "application/vnd.databricks.v1+cell": {
     "cellMetadata": {
      "byteLimit": 2048000,
      "rowLimit": 10000
     },
     "inputWidgets": {},
     "nuid": "6add5439-e9e3-4998-8993-e207f30f5412",
     "showTitle": true,
     "title": "defining function to create folder_name"
    }
   },
   "outputs": [],
   "source": [
    "def create_folder(folder_name):\n",
    "    for i in folder_name:\n",
    "        dbutils.fs.mkdirs(f\"/FileStore/{i}\")   "
   ]
  },
  {
   "cell_type": "code",
   "execution_count": 0,
   "metadata": {
    "application/vnd.databricks.v1+cell": {
     "cellMetadata": {
      "byteLimit": 2048000,
      "rowLimit": 10000
     },
     "inputWidgets": {},
     "nuid": "d34f2a67-aa94-4360-ba56-5ad0ad845f3f",
     "showTitle": true,
     "title": "defining function to write data to silver"
    }
   },
   "outputs": [],
   "source": [
    "def write_data_silver(df, path):\n",
    "     df.write.format(\"delta\").mode(\"overwrite\") .option(\"mergeSchema\", \"true\") .save(path)"
   ]
  }
 ],
 "metadata": {
  "application/vnd.databricks.v1+notebook": {
   "dashboards": [],
   "language": "python",
   "notebookMetadata": {
    "pythonIndentUnit": 4
   },
   "notebookName": "cpq_utils",
   "widgets": {}
  }
 },
 "nbformat": 4,
 "nbformat_minor": 0
}
