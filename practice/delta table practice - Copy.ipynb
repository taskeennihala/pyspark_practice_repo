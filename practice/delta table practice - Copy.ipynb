{
 "cells": [
  {
   "cell_type": "code",
   "execution_count": 0,
   "metadata": {
    "application/vnd.databricks.v1+cell": {
     "cellMetadata": {
      "byteLimit": 2048000,
      "rowLimit": 10000
     },
     "inputWidgets": {},
     "nuid": "15e9020e-64b3-4fdc-b0b6-1619ae3aec2a",
     "showTitle": false,
     "title": ""
    }
   },
   "outputs": [],
   "source": [
    "from pyspark.sql.functions import*\n",
    "from pyspark.sql.types import StructType,StructField, StringType, IntegerType"
   ]
  },
  {
   "cell_type": "code",
   "execution_count": 0,
   "metadata": {
    "application/vnd.databricks.v1+cell": {
     "cellMetadata": {
      "byteLimit": 2048000,
      "rowLimit": 10000
     },
     "inputWidgets": {},
     "nuid": "6c1fda24-1472-46e4-a516-b3189d6c8a68",
     "showTitle": true,
     "title": "File1"
    }
   },
   "outputs": [
    {
     "output_type": "display_data",
     "data": {
      "text/html": [
       "<style scoped>\n",
       "  .table-result-container {\n",
       "    max-height: 300px;\n",
       "    overflow: auto;\n",
       "  }\n",
       "  table, th, td {\n",
       "    border: 1px solid black;\n",
       "    border-collapse: collapse;\n",
       "  }\n",
       "  th, td {\n",
       "    padding: 5px;\n",
       "  }\n",
       "  th {\n",
       "    text-align: left;\n",
       "  }\n",
       "</style><div class='table-result-container'><table class='table-result'><thead style='background-color: white'><tr><th>Name</th><th>Rollnum</th><th>Department</th></tr></thead><tbody><tr><td>Nihala</td><td>23</td><td>ECE</td></tr><tr><td>Nancy</td><td>24</td><td>ECE</td></tr><tr><td>Lishma</td><td>25</td><td>ECE</td></tr><tr><td>Rayan</td><td>26</td><td>CIVIL</td></tr></tbody></table></div>"
      ]
     },
     "metadata": {
      "application/vnd.databricks.v1+output": {
       "addedWidgets": {},
       "aggData": [],
       "aggError": "",
       "aggOverflow": false,
       "aggSchema": [],
       "aggSeriesLimitReached": false,
       "aggType": "",
       "arguments": {},
       "columnCustomDisplayInfos": {},
       "data": [
        [
         "Nihala",
         23,
         "ECE"
        ],
        [
         "Nancy",
         24,
         "ECE"
        ],
        [
         "Lishma",
         25,
         "ECE"
        ],
        [
         "Rayan",
         26,
         "CIVIL"
        ]
       ],
       "datasetInfos": [],
       "dbfsResultPath": null,
       "isJsonSchema": true,
       "metadata": {},
       "overflow": false,
       "plotOptions": {
        "customPlotOptions": {},
        "displayType": "table",
        "pivotAggregation": null,
        "pivotColumns": null,
        "xColumns": null,
        "yColumns": null
       },
       "removedWidgets": [],
       "schema": [
        {
         "metadata": "{}",
         "name": "Name",
         "type": "\"string\""
        },
        {
         "metadata": "{}",
         "name": "Rollnum",
         "type": "\"integer\""
        },
        {
         "metadata": "{}",
         "name": "Department",
         "type": "\"string\""
        }
       ],
       "type": "table"
      }
     },
     "output_type": "display_data"
    }
   ],
   "source": [
    "data=[(\"Nihala\",23,\"ECE\"),\n",
    "      (\"Nancy\",24,\"ECE\"),\n",
    "      (\"Lishma\",25,\"ECE\"),\n",
    "      (\"Rayan\",26,\"CIVIL\")]\n",
    "\n",
    "schema=StructType([\n",
    "    StructField(\"Name\",StringType()),\n",
    "    StructField(\"Rollnum\",IntegerType()),\n",
    "    StructField(\"Department\",StringType())\n",
    "])\n",
    "\n",
    "df=spark.createDataFrame(data=data,schema=schema)\n",
    "df.display()"
   ]
  },
  {
   "cell_type": "code",
   "execution_count": 0,
   "metadata": {
    "application/vnd.databricks.v1+cell": {
     "cellMetadata": {
      "byteLimit": 2048000,
      "rowLimit": 10000
     },
     "inputWidgets": {},
     "nuid": "6013b313-c3d8-49c7-b1ed-7cc053a7fe69",
     "showTitle": false,
     "title": ""
    }
   },
   "outputs": [],
   "source": [
    "df.write.format(\"delta\").mode(\"append\").option(\"mergeSchema\",True).saveAsTable(\"mm1\")"
   ]
  },
  {
   "cell_type": "code",
   "execution_count": 0,
   "metadata": {
    "application/vnd.databricks.v1+cell": {
     "cellMetadata": {
      "byteLimit": 2048000,
      "rowLimit": 10000
     },
     "inputWidgets": {},
     "nuid": "ac3aa701-9b7e-4222-91e8-bea18f5f584e",
     "showTitle": true,
     "title": "File2"
    }
   },
   "outputs": [
    {
     "output_type": "display_data",
     "data": {
      "text/html": [
       "<style scoped>\n",
       "  .table-result-container {\n",
       "    max-height: 300px;\n",
       "    overflow: auto;\n",
       "  }\n",
       "  table, th, td {\n",
       "    border: 1px solid black;\n",
       "    border-collapse: collapse;\n",
       "  }\n",
       "  th, td {\n",
       "    padding: 5px;\n",
       "  }\n",
       "  th {\n",
       "    text-align: left;\n",
       "  }\n",
       "</style><div class='table-result-container'><table class='table-result'><thead style='background-color: white'><tr><th>Name</th><th>Rollnum</th><th>Department</th><th>Registernum</th></tr></thead><tbody><tr><td>Lavanya</td><td>27</td><td>CIVIL</td><td>101</td></tr><tr><td>Mythili</td><td>28</td><td>CIVIL</td><td>102</td></tr><tr><td>Rayan</td><td>26</td><td>CIVIL</td><td>103</td></tr></tbody></table></div>"
      ]
     },
     "metadata": {
      "application/vnd.databricks.v1+output": {
       "addedWidgets": {},
       "aggData": [],
       "aggError": "",
       "aggOverflow": false,
       "aggSchema": [],
       "aggSeriesLimitReached": false,
       "aggType": "",
       "arguments": {},
       "columnCustomDisplayInfos": {},
       "data": [
        [
         "Lavanya",
         27,
         "CIVIL",
         101
        ],
        [
         "Mythili",
         28,
         "CIVIL",
         102
        ],
        [
         "Rayan",
         26,
         "CIVIL",
         103
        ]
       ],
       "datasetInfos": [],
       "dbfsResultPath": null,
       "isJsonSchema": true,
       "metadata": {},
       "overflow": false,
       "plotOptions": {
        "customPlotOptions": {},
        "displayType": "table",
        "pivotAggregation": null,
        "pivotColumns": null,
        "xColumns": null,
        "yColumns": null
       },
       "removedWidgets": [],
       "schema": [
        {
         "metadata": "{}",
         "name": "Name",
         "type": "\"string\""
        },
        {
         "metadata": "{}",
         "name": "Rollnum",
         "type": "\"integer\""
        },
        {
         "metadata": "{}",
         "name": "Department",
         "type": "\"string\""
        },
        {
         "metadata": "{}",
         "name": "Registernum",
         "type": "\"integer\""
        }
       ],
       "type": "table"
      }
     },
     "output_type": "display_data"
    }
   ],
   "source": [
    "schema=StructType([\n",
    "    StructField(\"Name\",StringType()),\n",
    "    StructField(\"Rollnum\",IntegerType()),\n",
    "    StructField(\"Department\",StringType()),\n",
    "    StructField(\"Registernum\",IntegerType())\n",
    "])\n",
    "\n",
    "data=[(\"Lavanya\",27,\"CIVIL\",101),\n",
    "      (\"Mythili\",28,\"CIVIL\",102),\n",
    "      (\"Rayan\",26,\"CIVIL\",103)]\n",
    "\n",
    "df1=spark.createDataFrame(data,schema)\n",
    "df1.display()"
   ]
  },
  {
   "cell_type": "code",
   "execution_count": 0,
   "metadata": {
    "application/vnd.databricks.v1+cell": {
     "cellMetadata": {
      "byteLimit": 2048000,
      "rowLimit": 10000
     },
     "inputWidgets": {},
     "nuid": "e09b0f63-bedd-4a90-a43a-93dce10f7bb5",
     "showTitle": false,
     "title": ""
    }
   },
   "outputs": [],
   "source": [
    "df1.write.format(\"delta\").mode(\"append\").option(\"mergeSchema\",True).saveAsTable(\"mm1\")"
   ]
  },
  {
   "cell_type": "code",
   "execution_count": 0,
   "metadata": {
    "application/vnd.databricks.v1+cell": {
     "cellMetadata": {
      "byteLimit": 2048000,
      "implicitDf": true,
      "rowLimit": 10000
     },
     "inputWidgets": {},
     "nuid": "2df2086f-b4fa-485b-ba68-eefce2af7c3a",
     "showTitle": false,
     "title": ""
    }
   },
   "outputs": [
    {
     "output_type": "display_data",
     "data": {
      "text/html": [
       "<style scoped>\n",
       "  .table-result-container {\n",
       "    max-height: 300px;\n",
       "    overflow: auto;\n",
       "  }\n",
       "  table, th, td {\n",
       "    border: 1px solid black;\n",
       "    border-collapse: collapse;\n",
       "  }\n",
       "  th, td {\n",
       "    padding: 5px;\n",
       "  }\n",
       "  th {\n",
       "    text-align: left;\n",
       "  }\n",
       "</style><div class='table-result-container'><table class='table-result'><thead style='background-color: white'><tr><th>Name</th><th>Rollnum</th><th>Department</th><th>Registernum</th></tr></thead><tbody><tr><td>Lavanya</td><td>27</td><td>CIVIL</td><td>101</td></tr><tr><td>Lavanya</td><td>27</td><td>CIVIL</td><td>101</td></tr><tr><td>Mythili</td><td>28</td><td>CIVIL</td><td>102</td></tr><tr><td>Mythili</td><td>28</td><td>CIVIL</td><td>102</td></tr><tr><td>Rayan</td><td>26</td><td>CIVIL</td><td>103</td></tr><tr><td>Rayan</td><td>26</td><td>CIVIL</td><td>103</td></tr><tr><td>Rayan</td><td>26</td><td>CIVIL</td><td>null</td></tr><tr><td>Rayan</td><td>26</td><td>CIVIL</td><td>null</td></tr><tr><td>Nihala</td><td>23</td><td>ECE</td><td>null</td></tr><tr><td>Lishma</td><td>25</td><td>ECE</td><td>null</td></tr><tr><td>Nihala</td><td>23</td><td>ECE</td><td>null</td></tr><tr><td>Lishma</td><td>25</td><td>ECE</td><td>null</td></tr><tr><td>Nancy</td><td>24</td><td>ECE</td><td>null</td></tr><tr><td>Nancy</td><td>24</td><td>ECE</td><td>null</td></tr></tbody></table></div>"
      ]
     },
     "metadata": {
      "application/vnd.databricks.v1+output": {
       "addedWidgets": {},
       "aggData": [],
       "aggError": "",
       "aggOverflow": false,
       "aggSchema": [],
       "aggSeriesLimitReached": false,
       "aggType": "",
       "arguments": {},
       "columnCustomDisplayInfos": {},
       "data": [
        [
         "Lavanya",
         27,
         "CIVIL",
         101
        ],
        [
         "Lavanya",
         27,
         "CIVIL",
         101
        ],
        [
         "Mythili",
         28,
         "CIVIL",
         102
        ],
        [
         "Mythili",
         28,
         "CIVIL",
         102
        ],
        [
         "Rayan",
         26,
         "CIVIL",
         103
        ],
        [
         "Rayan",
         26,
         "CIVIL",
         103
        ],
        [
         "Rayan",
         26,
         "CIVIL",
         null
        ],
        [
         "Rayan",
         26,
         "CIVIL",
         null
        ],
        [
         "Nihala",
         23,
         "ECE",
         null
        ],
        [
         "Lishma",
         25,
         "ECE",
         null
        ],
        [
         "Nihala",
         23,
         "ECE",
         null
        ],
        [
         "Lishma",
         25,
         "ECE",
         null
        ],
        [
         "Nancy",
         24,
         "ECE",
         null
        ],
        [
         "Nancy",
         24,
         "ECE",
         null
        ]
       ],
       "datasetInfos": [],
       "dbfsResultPath": null,
       "isJsonSchema": true,
       "metadata": {},
       "overflow": false,
       "plotOptions": {
        "customPlotOptions": {},
        "displayType": "table",
        "pivotAggregation": null,
        "pivotColumns": null,
        "xColumns": null,
        "yColumns": null
       },
       "removedWidgets": [],
       "schema": [
        {
         "metadata": "{}",
         "name": "Name",
         "type": "\"string\""
        },
        {
         "metadata": "{}",
         "name": "Rollnum",
         "type": "\"integer\""
        },
        {
         "metadata": "{}",
         "name": "Department",
         "type": "\"string\""
        },
        {
         "metadata": "{}",
         "name": "Registernum",
         "type": "\"integer\""
        }
       ],
       "type": "table"
      }
     },
     "output_type": "display_data"
    }
   ],
   "source": [
    "%sql\n",
    "select * from mm1"
   ]
  },
  {
   "cell_type": "code",
   "execution_count": 0,
   "metadata": {
    "application/vnd.databricks.v1+cell": {
     "cellMetadata": {
      "byteLimit": 2048000,
      "implicitDf": true,
      "rowLimit": 10000
     },
     "inputWidgets": {},
     "nuid": "17d971ae-bf20-4863-b59a-4719ea1dda4d",
     "showTitle": true,
     "title": "update and delete using sql"
    }
   },
   "outputs": [
    {
     "output_type": "display_data",
     "data": {
      "text/html": [
       "<style scoped>\n",
       "  .table-result-container {\n",
       "    max-height: 300px;\n",
       "    overflow: auto;\n",
       "  }\n",
       "  table, th, td {\n",
       "    border: 1px solid black;\n",
       "    border-collapse: collapse;\n",
       "  }\n",
       "  th, td {\n",
       "    padding: 5px;\n",
       "  }\n",
       "  th {\n",
       "    text-align: left;\n",
       "  }\n",
       "</style><div class='table-result-container'><table class='table-result'><thead style='background-color: white'><tr><th>Name</th><th>Rollnum</th><th>Department</th><th>Registernum</th></tr></thead><tbody><tr><td>Rayan</td><td>26</td><td>CIVIL</td><td>103</td></tr><tr><td>Rayan</td><td>26</td><td>CIVIL</td><td>103</td></tr><tr><td>Rayan</td><td>26</td><td>CIVIL</td><td>null</td></tr><tr><td>Rayan</td><td>26</td><td>CIVIL</td><td>null</td></tr></tbody></table></div>"
      ]
     },
     "metadata": {
      "application/vnd.databricks.v1+output": {
       "addedWidgets": {},
       "aggData": [],
       "aggError": "",
       "aggOverflow": false,
       "aggSchema": [],
       "aggSeriesLimitReached": false,
       "aggType": "",
       "arguments": {},
       "columnCustomDisplayInfos": {},
       "data": [
        [
         "Rayan",
         26,
         "CIVIL",
         103
        ],
        [
         "Rayan",
         26,
         "CIVIL",
         103
        ],
        [
         "Rayan",
         26,
         "CIVIL",
         null
        ],
        [
         "Rayan",
         26,
         "CIVIL",
         null
        ]
       ],
       "datasetInfos": [],
       "dbfsResultPath": null,
       "isJsonSchema": true,
       "metadata": {},
       "overflow": false,
       "plotOptions": {
        "customPlotOptions": {},
        "displayType": "table",
        "pivotAggregation": null,
        "pivotColumns": null,
        "xColumns": null,
        "yColumns": null
       },
       "removedWidgets": [],
       "schema": [
        {
         "metadata": "{}",
         "name": "Name",
         "type": "\"string\""
        },
        {
         "metadata": "{}",
         "name": "Rollnum",
         "type": "\"integer\""
        },
        {
         "metadata": "{}",
         "name": "Department",
         "type": "\"string\""
        },
        {
         "metadata": "{}",
         "name": "Registernum",
         "type": "\"integer\""
        }
       ],
       "type": "table"
      }
     },
     "output_type": "display_data"
    }
   ],
   "source": [
    "%sql\n",
    "select * from mm1 where Name=\"Rayan\""
   ]
  },
  {
   "cell_type": "code",
   "execution_count": 0,
   "metadata": {
    "application/vnd.databricks.v1+cell": {
     "cellMetadata": {
      "byteLimit": 2048000,
      "implicitDf": true,
      "rowLimit": 10000
     },
     "inputWidgets": {},
     "nuid": "05ebc6a0-ff03-45c9-8aa7-694951ead4fc",
     "showTitle": false,
     "title": ""
    }
   },
   "outputs": [
    {
     "output_type": "display_data",
     "data": {
      "text/html": [
       "<style scoped>\n",
       "  .table-result-container {\n",
       "    max-height: 300px;\n",
       "    overflow: auto;\n",
       "  }\n",
       "  table, th, td {\n",
       "    border: 1px solid black;\n",
       "    border-collapse: collapse;\n",
       "  }\n",
       "  th, td {\n",
       "    padding: 5px;\n",
       "  }\n",
       "  th {\n",
       "    text-align: left;\n",
       "  }\n",
       "</style><div class='table-result-container'><table class='table-result'><thead style='background-color: white'><tr><th>num_affected_rows</th></tr></thead><tbody><tr><td>2</td></tr></tbody></table></div>"
      ]
     },
     "metadata": {
      "application/vnd.databricks.v1+output": {
       "addedWidgets": {},
       "aggData": [],
       "aggError": "",
       "aggOverflow": false,
       "aggSchema": [],
       "aggSeriesLimitReached": false,
       "aggType": "",
       "arguments": {},
       "columnCustomDisplayInfos": {},
       "data": [
        [
         2
        ]
       ],
       "datasetInfos": [],
       "dbfsResultPath": null,
       "isJsonSchema": true,
       "metadata": {},
       "overflow": false,
       "plotOptions": {
        "customPlotOptions": {},
        "displayType": "table",
        "pivotAggregation": null,
        "pivotColumns": null,
        "xColumns": null,
        "yColumns": null
       },
       "removedWidgets": [],
       "schema": [
        {
         "metadata": "{}",
         "name": "num_affected_rows",
         "type": "\"long\""
        }
       ],
       "type": "table"
      }
     },
     "output_type": "display_data"
    }
   ],
   "source": [
    "%sql\n",
    "update mm1 set Rollnum=00 where Name=\"Rayan\" and Registernum is null"
   ]
  },
  {
   "cell_type": "code",
   "execution_count": 0,
   "metadata": {
    "application/vnd.databricks.v1+cell": {
     "cellMetadata": {
      "byteLimit": 2048000,
      "implicitDf": true,
      "rowLimit": 10000
     },
     "inputWidgets": {},
     "nuid": "1dfdf566-c936-4b44-8d7f-2a640952a2ab",
     "showTitle": false,
     "title": ""
    }
   },
   "outputs": [
    {
     "output_type": "display_data",
     "data": {
      "text/html": [
       "<style scoped>\n",
       "  .table-result-container {\n",
       "    max-height: 300px;\n",
       "    overflow: auto;\n",
       "  }\n",
       "  table, th, td {\n",
       "    border: 1px solid black;\n",
       "    border-collapse: collapse;\n",
       "  }\n",
       "  th, td {\n",
       "    padding: 5px;\n",
       "  }\n",
       "  th {\n",
       "    text-align: left;\n",
       "  }\n",
       "</style><div class='table-result-container'><table class='table-result'><thead style='background-color: white'><tr><th>Name</th><th>Rollnum</th><th>Department</th><th>Registernum</th></tr></thead><tbody><tr><td>Lavanya</td><td>27</td><td>CIVIL</td><td>101</td></tr><tr><td>Lavanya</td><td>27</td><td>CIVIL</td><td>101</td></tr><tr><td>Mythili</td><td>28</td><td>CIVIL</td><td>102</td></tr><tr><td>Mythili</td><td>28</td><td>CIVIL</td><td>102</td></tr><tr><td>Rayan</td><td>26</td><td>CIVIL</td><td>103</td></tr><tr><td>Rayan</td><td>26</td><td>CIVIL</td><td>103</td></tr><tr><td>Rayan</td><td>0</td><td>CIVIL</td><td>null</td></tr><tr><td>Rayan</td><td>0</td><td>CIVIL</td><td>null</td></tr><tr><td>Nihala</td><td>23</td><td>ECE</td><td>null</td></tr><tr><td>Lishma</td><td>25</td><td>ECE</td><td>null</td></tr><tr><td>Nihala</td><td>23</td><td>ECE</td><td>null</td></tr><tr><td>Lishma</td><td>25</td><td>ECE</td><td>null</td></tr><tr><td>Nancy</td><td>24</td><td>ECE</td><td>null</td></tr><tr><td>Nancy</td><td>24</td><td>ECE</td><td>null</td></tr></tbody></table></div>"
      ]
     },
     "metadata": {
      "application/vnd.databricks.v1+output": {
       "addedWidgets": {},
       "aggData": [],
       "aggError": "",
       "aggOverflow": false,
       "aggSchema": [],
       "aggSeriesLimitReached": false,
       "aggType": "",
       "arguments": {},
       "columnCustomDisplayInfos": {},
       "data": [
        [
         "Lavanya",
         27,
         "CIVIL",
         101
        ],
        [
         "Lavanya",
         27,
         "CIVIL",
         101
        ],
        [
         "Mythili",
         28,
         "CIVIL",
         102
        ],
        [
         "Mythili",
         28,
         "CIVIL",
         102
        ],
        [
         "Rayan",
         26,
         "CIVIL",
         103
        ],
        [
         "Rayan",
         26,
         "CIVIL",
         103
        ],
        [
         "Rayan",
         0,
         "CIVIL",
         null
        ],
        [
         "Rayan",
         0,
         "CIVIL",
         null
        ],
        [
         "Nihala",
         23,
         "ECE",
         null
        ],
        [
         "Lishma",
         25,
         "ECE",
         null
        ],
        [
         "Nihala",
         23,
         "ECE",
         null
        ],
        [
         "Lishma",
         25,
         "ECE",
         null
        ],
        [
         "Nancy",
         24,
         "ECE",
         null
        ],
        [
         "Nancy",
         24,
         "ECE",
         null
        ]
       ],
       "datasetInfos": [],
       "dbfsResultPath": null,
       "isJsonSchema": true,
       "metadata": {},
       "overflow": false,
       "plotOptions": {
        "customPlotOptions": {},
        "displayType": "table",
        "pivotAggregation": null,
        "pivotColumns": null,
        "xColumns": null,
        "yColumns": null
       },
       "removedWidgets": [],
       "schema": [
        {
         "metadata": "{}",
         "name": "Name",
         "type": "\"string\""
        },
        {
         "metadata": "{}",
         "name": "Rollnum",
         "type": "\"integer\""
        },
        {
         "metadata": "{}",
         "name": "Department",
         "type": "\"string\""
        },
        {
         "metadata": "{}",
         "name": "Registernum",
         "type": "\"integer\""
        }
       ],
       "type": "table"
      }
     },
     "output_type": "display_data"
    }
   ],
   "source": [
    "%sql\n",
    "select*from mm1"
   ]
  },
  {
   "cell_type": "code",
   "execution_count": 0,
   "metadata": {
    "application/vnd.databricks.v1+cell": {
     "cellMetadata": {
      "byteLimit": 2048000,
      "implicitDf": true,
      "rowLimit": 10000
     },
     "inputWidgets": {},
     "nuid": "e98f9b4e-7cb2-49bc-a297-ca77512c350e",
     "showTitle": false,
     "title": ""
    }
   },
   "outputs": [
    {
     "output_type": "display_data",
     "data": {
      "text/html": [
       "<style scoped>\n",
       "  .table-result-container {\n",
       "    max-height: 300px;\n",
       "    overflow: auto;\n",
       "  }\n",
       "  table, th, td {\n",
       "    border: 1px solid black;\n",
       "    border-collapse: collapse;\n",
       "  }\n",
       "  th, td {\n",
       "    padding: 5px;\n",
       "  }\n",
       "  th {\n",
       "    text-align: left;\n",
       "  }\n",
       "</style><div class='table-result-container'><table class='table-result'><thead style='background-color: white'><tr><th>num_affected_rows</th></tr></thead><tbody><tr><td>0</td></tr></tbody></table></div>"
      ]
     },
     "metadata": {
      "application/vnd.databricks.v1+output": {
       "addedWidgets": {},
       "aggData": [],
       "aggError": "",
       "aggOverflow": false,
       "aggSchema": [],
       "aggSeriesLimitReached": false,
       "aggType": "",
       "arguments": {},
       "columnCustomDisplayInfos": {},
       "data": [
        [
         0
        ]
       ],
       "datasetInfos": [],
       "dbfsResultPath": null,
       "isJsonSchema": true,
       "metadata": {},
       "overflow": false,
       "plotOptions": {
        "customPlotOptions": {},
        "displayType": "table",
        "pivotAggregation": null,
        "pivotColumns": null,
        "xColumns": null,
        "yColumns": null
       },
       "removedWidgets": [],
       "schema": [
        {
         "metadata": "{}",
         "name": "num_affected_rows",
         "type": "\"long\""
        }
       ],
       "type": "table"
      }
     },
     "output_type": "display_data"
    }
   ],
   "source": [
    "%sql\n",
    "delete from mm1 where Registernum = null"
   ]
  },
  {
   "cell_type": "code",
   "execution_count": 0,
   "metadata": {
    "application/vnd.databricks.v1+cell": {
     "cellMetadata": {
      "byteLimit": 2048000,
      "implicitDf": true,
      "rowLimit": 10000
     },
     "inputWidgets": {},
     "nuid": "0680d0e9-0ea7-4120-9c94-92e9f1194dd9",
     "showTitle": false,
     "title": ""
    }
   },
   "outputs": [
    {
     "output_type": "display_data",
     "data": {
      "text/html": [
       "<style scoped>\n",
       "  .table-result-container {\n",
       "    max-height: 300px;\n",
       "    overflow: auto;\n",
       "  }\n",
       "  table, th, td {\n",
       "    border: 1px solid black;\n",
       "    border-collapse: collapse;\n",
       "  }\n",
       "  th, td {\n",
       "    padding: 5px;\n",
       "  }\n",
       "  th {\n",
       "    text-align: left;\n",
       "  }\n",
       "</style><div class='table-result-container'><table class='table-result'><thead style='background-color: white'><tr><th>Name</th><th>Rollnum</th><th>Department</th><th>Registernum</th></tr></thead><tbody><tr><td>Lavanya</td><td>27</td><td>CIVIL</td><td>101</td></tr><tr><td>Lavanya</td><td>27</td><td>CIVIL</td><td>101</td></tr><tr><td>Mythili</td><td>28</td><td>CIVIL</td><td>102</td></tr><tr><td>Mythili</td><td>28</td><td>CIVIL</td><td>102</td></tr><tr><td>Rayan</td><td>26</td><td>CIVIL</td><td>103</td></tr><tr><td>Rayan</td><td>26</td><td>CIVIL</td><td>103</td></tr><tr><td>Rayan</td><td>0</td><td>CIVIL</td><td>null</td></tr><tr><td>Rayan</td><td>0</td><td>CIVIL</td><td>null</td></tr><tr><td>Nihala</td><td>23</td><td>ECE</td><td>null</td></tr><tr><td>Nihala</td><td>23</td><td>ECE</td><td>null</td></tr><tr><td>Lishma</td><td>25</td><td>ECE</td><td>null</td></tr><tr><td>Lishma</td><td>25</td><td>ECE</td><td>null</td></tr><tr><td>Nancy</td><td>24</td><td>ECE</td><td>null</td></tr><tr><td>Nancy</td><td>24</td><td>ECE</td><td>null</td></tr></tbody></table></div>"
      ]
     },
     "metadata": {
      "application/vnd.databricks.v1+output": {
       "addedWidgets": {},
       "aggData": [],
       "aggError": "",
       "aggOverflow": false,
       "aggSchema": [],
       "aggSeriesLimitReached": false,
       "aggType": "",
       "arguments": {},
       "columnCustomDisplayInfos": {},
       "data": [
        [
         "Lavanya",
         27,
         "CIVIL",
         101
        ],
        [
         "Lavanya",
         27,
         "CIVIL",
         101
        ],
        [
         "Mythili",
         28,
         "CIVIL",
         102
        ],
        [
         "Mythili",
         28,
         "CIVIL",
         102
        ],
        [
         "Rayan",
         26,
         "CIVIL",
         103
        ],
        [
         "Rayan",
         26,
         "CIVIL",
         103
        ],
        [
         "Rayan",
         0,
         "CIVIL",
         null
        ],
        [
         "Rayan",
         0,
         "CIVIL",
         null
        ],
        [
         "Nihala",
         23,
         "ECE",
         null
        ],
        [
         "Nihala",
         23,
         "ECE",
         null
        ],
        [
         "Lishma",
         25,
         "ECE",
         null
        ],
        [
         "Lishma",
         25,
         "ECE",
         null
        ],
        [
         "Nancy",
         24,
         "ECE",
         null
        ],
        [
         "Nancy",
         24,
         "ECE",
         null
        ]
       ],
       "datasetInfos": [],
       "dbfsResultPath": null,
       "isJsonSchema": true,
       "metadata": {},
       "overflow": false,
       "plotOptions": {
        "customPlotOptions": {},
        "displayType": "table",
        "pivotAggregation": null,
        "pivotColumns": null,
        "xColumns": null,
        "yColumns": null
       },
       "removedWidgets": [],
       "schema": [
        {
         "metadata": "{}",
         "name": "Name",
         "type": "\"string\""
        },
        {
         "metadata": "{}",
         "name": "Rollnum",
         "type": "\"integer\""
        },
        {
         "metadata": "{}",
         "name": "Department",
         "type": "\"string\""
        },
        {
         "metadata": "{}",
         "name": "Registernum",
         "type": "\"integer\""
        }
       ],
       "type": "table"
      }
     },
     "output_type": "display_data"
    }
   ],
   "source": [
    "%sql\n",
    "select * from mm1"
   ]
  },
  {
   "cell_type": "code",
   "execution_count": 0,
   "metadata": {
    "application/vnd.databricks.v1+cell": {
     "cellMetadata": {
      "byteLimit": 2048000,
      "implicitDf": true,
      "rowLimit": 10000
     },
     "inputWidgets": {},
     "nuid": "7055dd7d-0255-4178-bab0-32e1f18bbc83",
     "showTitle": false,
     "title": ""
    }
   },
   "outputs": [
    {
     "output_type": "display_data",
     "data": {
      "text/html": [
       "<style scoped>\n",
       "  .table-result-container {\n",
       "    max-height: 300px;\n",
       "    overflow: auto;\n",
       "  }\n",
       "  table, th, td {\n",
       "    border: 1px solid black;\n",
       "    border-collapse: collapse;\n",
       "  }\n",
       "  th, td {\n",
       "    padding: 5px;\n",
       "  }\n",
       "  th {\n",
       "    text-align: left;\n",
       "  }\n",
       "</style><div class='table-result-container'><table class='table-result'><thead style='background-color: white'><tr><th>num_affected_rows</th></tr></thead><tbody><tr><td>2</td></tr></tbody></table></div>"
      ]
     },
     "metadata": {
      "application/vnd.databricks.v1+output": {
       "addedWidgets": {},
       "aggData": [],
       "aggError": "",
       "aggOverflow": false,
       "aggSchema": [],
       "aggSeriesLimitReached": false,
       "aggType": "",
       "arguments": {},
       "columnCustomDisplayInfos": {},
       "data": [
        [
         2
        ]
       ],
       "datasetInfos": [],
       "dbfsResultPath": null,
       "isJsonSchema": true,
       "metadata": {},
       "overflow": false,
       "plotOptions": {
        "customPlotOptions": {},
        "displayType": "table",
        "pivotAggregation": null,
        "pivotColumns": null,
        "xColumns": null,
        "yColumns": null
       },
       "removedWidgets": [],
       "schema": [
        {
         "metadata": "{}",
         "name": "num_affected_rows",
         "type": "\"long\""
        }
       ],
       "type": "table"
      }
     },
     "output_type": "display_data"
    }
   ],
   "source": [
    "%sql\n",
    "delete from mm1 where Department= \"CIVIL\" and Registernum is null"
   ]
  },
  {
   "cell_type": "code",
   "execution_count": 0,
   "metadata": {
    "application/vnd.databricks.v1+cell": {
     "cellMetadata": {
      "byteLimit": 2048000,
      "implicitDf": true,
      "rowLimit": 10000
     },
     "inputWidgets": {},
     "nuid": "261b2740-1677-4c2b-ab15-b6e4ea6a9bf6",
     "showTitle": false,
     "title": ""
    }
   },
   "outputs": [
    {
     "output_type": "display_data",
     "data": {
      "text/html": [
       "<style scoped>\n",
       "  .table-result-container {\n",
       "    max-height: 300px;\n",
       "    overflow: auto;\n",
       "  }\n",
       "  table, th, td {\n",
       "    border: 1px solid black;\n",
       "    border-collapse: collapse;\n",
       "  }\n",
       "  th, td {\n",
       "    padding: 5px;\n",
       "  }\n",
       "  th {\n",
       "    text-align: left;\n",
       "  }\n",
       "</style><div class='table-result-container'><table class='table-result'><thead style='background-color: white'><tr><th>Name</th><th>Rollnum</th><th>Department</th><th>Registernum</th></tr></thead><tbody><tr><td>Lavanya</td><td>27</td><td>CIVIL</td><td>101</td></tr><tr><td>Lavanya</td><td>27</td><td>CIVIL</td><td>101</td></tr><tr><td>Mythili</td><td>28</td><td>CIVIL</td><td>102</td></tr><tr><td>Mythili</td><td>28</td><td>CIVIL</td><td>102</td></tr><tr><td>Rayan</td><td>26</td><td>CIVIL</td><td>103</td></tr><tr><td>Rayan</td><td>26</td><td>CIVIL</td><td>103</td></tr><tr><td>Nihala</td><td>23</td><td>ECE</td><td>null</td></tr><tr><td>Nihala</td><td>23</td><td>ECE</td><td>null</td></tr><tr><td>Lishma</td><td>25</td><td>ECE</td><td>null</td></tr><tr><td>Lishma</td><td>25</td><td>ECE</td><td>null</td></tr><tr><td>Nancy</td><td>24</td><td>ECE</td><td>null</td></tr><tr><td>Nancy</td><td>24</td><td>ECE</td><td>null</td></tr></tbody></table></div>"
      ]
     },
     "metadata": {
      "application/vnd.databricks.v1+output": {
       "addedWidgets": {},
       "aggData": [],
       "aggError": "",
       "aggOverflow": false,
       "aggSchema": [],
       "aggSeriesLimitReached": false,
       "aggType": "",
       "arguments": {},
       "columnCustomDisplayInfos": {},
       "data": [
        [
         "Lavanya",
         27,
         "CIVIL",
         101
        ],
        [
         "Lavanya",
         27,
         "CIVIL",
         101
        ],
        [
         "Mythili",
         28,
         "CIVIL",
         102
        ],
        [
         "Mythili",
         28,
         "CIVIL",
         102
        ],
        [
         "Rayan",
         26,
         "CIVIL",
         103
        ],
        [
         "Rayan",
         26,
         "CIVIL",
         103
        ],
        [
         "Nihala",
         23,
         "ECE",
         null
        ],
        [
         "Nihala",
         23,
         "ECE",
         null
        ],
        [
         "Lishma",
         25,
         "ECE",
         null
        ],
        [
         "Lishma",
         25,
         "ECE",
         null
        ],
        [
         "Nancy",
         24,
         "ECE",
         null
        ],
        [
         "Nancy",
         24,
         "ECE",
         null
        ]
       ],
       "datasetInfos": [],
       "dbfsResultPath": null,
       "isJsonSchema": true,
       "metadata": {},
       "overflow": false,
       "plotOptions": {
        "customPlotOptions": {},
        "displayType": "table",
        "pivotAggregation": null,
        "pivotColumns": null,
        "xColumns": null,
        "yColumns": null
       },
       "removedWidgets": [],
       "schema": [
        {
         "metadata": "{}",
         "name": "Name",
         "type": "\"string\""
        },
        {
         "metadata": "{}",
         "name": "Rollnum",
         "type": "\"integer\""
        },
        {
         "metadata": "{}",
         "name": "Department",
         "type": "\"string\""
        },
        {
         "metadata": "{}",
         "name": "Registernum",
         "type": "\"integer\""
        }
       ],
       "type": "table"
      }
     },
     "output_type": "display_data"
    }
   ],
   "source": [
    "%sql\n",
    "select * from mm1"
   ]
  },
  {
   "cell_type": "code",
   "execution_count": 0,
   "metadata": {
    "application/vnd.databricks.v1+cell": {
     "cellMetadata": {
      "byteLimit": 2048000,
      "implicitDf": true,
      "rowLimit": 10000
     },
     "inputWidgets": {},
     "nuid": "d9831f7f-3601-4556-a683-5f9365929c2b",
     "showTitle": false,
     "title": ""
    }
   },
   "outputs": [
    {
     "output_type": "display_data",
     "data": {
      "text/html": [
       "<style scoped>\n",
       "  .table-result-container {\n",
       "    max-height: 300px;\n",
       "    overflow: auto;\n",
       "  }\n",
       "  table, th, td {\n",
       "    border: 1px solid black;\n",
       "    border-collapse: collapse;\n",
       "  }\n",
       "  th, td {\n",
       "    padding: 5px;\n",
       "  }\n",
       "  th {\n",
       "    text-align: left;\n",
       "  }\n",
       "</style><div class='table-result-container'><table class='table-result'><thead style='background-color: white'><tr><th>num_affected_rows</th></tr></thead><tbody><tr><td>6</td></tr></tbody></table></div>"
      ]
     },
     "metadata": {
      "application/vnd.databricks.v1+output": {
       "addedWidgets": {},
       "aggData": [],
       "aggError": "",
       "aggOverflow": false,
       "aggSchema": [],
       "aggSeriesLimitReached": false,
       "aggType": "",
       "arguments": {},
       "columnCustomDisplayInfos": {},
       "data": [
        [
         6
        ]
       ],
       "datasetInfos": [],
       "dbfsResultPath": null,
       "isJsonSchema": true,
       "metadata": {},
       "overflow": false,
       "plotOptions": {
        "customPlotOptions": {},
        "displayType": "table",
        "pivotAggregation": null,
        "pivotColumns": null,
        "xColumns": null,
        "yColumns": null
       },
       "removedWidgets": [],
       "schema": [
        {
         "metadata": "{}",
         "name": "num_affected_rows",
         "type": "\"long\""
        }
       ],
       "type": "table"
      }
     },
     "output_type": "display_data"
    }
   ],
   "source": [
    "%sql\n",
    "delete from mm1 where Department= \"ECE\" and Registernum is null"
   ]
  },
  {
   "cell_type": "code",
   "execution_count": 0,
   "metadata": {
    "application/vnd.databricks.v1+cell": {
     "cellMetadata": {
      "byteLimit": 2048000,
      "implicitDf": true,
      "rowLimit": 10000
     },
     "inputWidgets": {},
     "nuid": "dfbb8347-f72a-415b-8841-b89e41a53fb3",
     "showTitle": false,
     "title": ""
    }
   },
   "outputs": [
    {
     "output_type": "display_data",
     "data": {
      "text/html": [
       "<style scoped>\n",
       "  .table-result-container {\n",
       "    max-height: 300px;\n",
       "    overflow: auto;\n",
       "  }\n",
       "  table, th, td {\n",
       "    border: 1px solid black;\n",
       "    border-collapse: collapse;\n",
       "  }\n",
       "  th, td {\n",
       "    padding: 5px;\n",
       "  }\n",
       "  th {\n",
       "    text-align: left;\n",
       "  }\n",
       "</style><div class='table-result-container'><table class='table-result'><thead style='background-color: white'><tr><th>Name</th><th>Rollnum</th><th>Department</th><th>Registernum</th></tr></thead><tbody><tr><td>Lavanya</td><td>27</td><td>CIVIL</td><td>101</td></tr><tr><td>Lavanya</td><td>27</td><td>CIVIL</td><td>101</td></tr><tr><td>Mythili</td><td>28</td><td>CIVIL</td><td>102</td></tr><tr><td>Mythili</td><td>28</td><td>CIVIL</td><td>102</td></tr><tr><td>Rayan</td><td>26</td><td>CIVIL</td><td>103</td></tr><tr><td>Rayan</td><td>26</td><td>CIVIL</td><td>103</td></tr></tbody></table></div>"
      ]
     },
     "metadata": {
      "application/vnd.databricks.v1+output": {
       "addedWidgets": {},
       "aggData": [],
       "aggError": "",
       "aggOverflow": false,
       "aggSchema": [],
       "aggSeriesLimitReached": false,
       "aggType": "",
       "arguments": {},
       "columnCustomDisplayInfos": {},
       "data": [
        [
         "Lavanya",
         27,
         "CIVIL",
         101
        ],
        [
         "Lavanya",
         27,
         "CIVIL",
         101
        ],
        [
         "Mythili",
         28,
         "CIVIL",
         102
        ],
        [
         "Mythili",
         28,
         "CIVIL",
         102
        ],
        [
         "Rayan",
         26,
         "CIVIL",
         103
        ],
        [
         "Rayan",
         26,
         "CIVIL",
         103
        ]
       ],
       "datasetInfos": [],
       "dbfsResultPath": null,
       "isJsonSchema": true,
       "metadata": {},
       "overflow": false,
       "plotOptions": {
        "customPlotOptions": {},
        "displayType": "table",
        "pivotAggregation": null,
        "pivotColumns": null,
        "xColumns": null,
        "yColumns": null
       },
       "removedWidgets": [],
       "schema": [
        {
         "metadata": "{}",
         "name": "Name",
         "type": "\"string\""
        },
        {
         "metadata": "{}",
         "name": "Rollnum",
         "type": "\"integer\""
        },
        {
         "metadata": "{}",
         "name": "Department",
         "type": "\"string\""
        },
        {
         "metadata": "{}",
         "name": "Registernum",
         "type": "\"integer\""
        }
       ],
       "type": "table"
      }
     },
     "output_type": "display_data"
    }
   ],
   "source": [
    "%sql\n",
    "select * from mm1"
   ]
  },
  {
   "cell_type": "code",
   "execution_count": 0,
   "metadata": {
    "application/vnd.databricks.v1+cell": {
     "cellMetadata": {
      "byteLimit": 2048000,
      "implicitDf": true,
      "rowLimit": 10000
     },
     "inputWidgets": {},
     "nuid": "9f158daf-7c43-4534-8f08-affc1103c19e",
     "showTitle": true,
     "title": "Time Travel"
    }
   },
   "outputs": [
    {
     "output_type": "display_data",
     "data": {
      "text/html": [
       "<style scoped>\n",
       "  .table-result-container {\n",
       "    max-height: 300px;\n",
       "    overflow: auto;\n",
       "  }\n",
       "  table, th, td {\n",
       "    border: 1px solid black;\n",
       "    border-collapse: collapse;\n",
       "  }\n",
       "  th, td {\n",
       "    padding: 5px;\n",
       "  }\n",
       "  th {\n",
       "    text-align: left;\n",
       "  }\n",
       "</style><div class='table-result-container'><table class='table-result'><thead style='background-color: white'><tr><th>version</th><th>timestamp</th><th>userId</th><th>userName</th><th>operation</th><th>operationParameters</th><th>job</th><th>notebook</th><th>clusterId</th><th>readVersion</th><th>isolationLevel</th><th>isBlindAppend</th><th>operationMetrics</th><th>userMetadata</th><th>engineInfo</th></tr></thead><tbody><tr><td>24</td><td>2023-12-18T10:27:04.000+0000</td><td>4655955229434883</td><td>nihalataskeen.inayathulla@diggibyte.com</td><td>DELETE</td><td>Map(predicate -> [\"((Department#19921 = ECE) AND isnull(Registernum#19922))\"])</td><td>null</td><td>List(3466538472569052)</td><td>1218-091256-wxah832</td><td>23</td><td>WriteSerializable</td><td>false</td><td>Map(numRemovedFiles -> 6, numRemovedBytes -> 6478, numCopiedRows -> 0, numDeletionVectorsAdded -> 0, numDeletionVectorsRemoved -> 0, numAddedChangeFiles -> 0, executionTimeMs -> 3260, numDeletedRows -> 6, scanTimeMs -> 2208, numAddedFiles -> 0, numAddedBytes -> 0, rewriteTimeMs -> 1051)</td><td>null</td><td>Databricks-Runtime/12.2.x-scala2.12</td></tr><tr><td>23</td><td>2023-12-18T10:26:38.000+0000</td><td>4655955229434883</td><td>nihalataskeen.inayathulla@diggibyte.com</td><td>DELETE</td><td>Map(predicate -> [\"((Department#19437 = CIVIL) AND isnull(Registernum#19438))\"])</td><td>null</td><td>List(3466538472569052)</td><td>1218-091256-wxah832</td><td>22</td><td>WriteSerializable</td><td>false</td><td>Map(numRemovedFiles -> 0, numRemovedBytes -> 0, numCopiedRows -> 0, numDeletionVectorsAdded -> 0, numDeletionVectorsRemoved -> 0, numAddedChangeFiles -> 0, executionTimeMs -> 285, numDeletedRows -> 0, scanTimeMs -> 284, numAddedFiles -> 0, numAddedBytes -> 0, rewriteTimeMs -> 0)</td><td>null</td><td>Databricks-Runtime/12.2.x-scala2.12</td></tr><tr><td>22</td><td>2023-12-18T10:26:11.000+0000</td><td>4655955229434883</td><td>nihalataskeen.inayathulla@diggibyte.com</td><td>UPDATE</td><td>Map(predicate -> [\"((Name#18718 = Rayan) AND isnull(Registernum#18721))\"])</td><td>null</td><td>List(3466538472569052)</td><td>1218-091256-wxah832</td><td>21</td><td>WriteSerializable</td><td>false</td><td>Map(numRemovedFiles -> 0, numRemovedBytes -> 0, numCopiedRows -> 0, numDeletionVectorsAdded -> 0, numDeletionVectorsRemoved -> 0, numAddedChangeFiles -> 0, executionTimeMs -> 191, scanTimeMs -> 191, numAddedFiles -> 0, numUpdatedRows -> 0, numAddedBytes -> 0, rewriteTimeMs -> 0)</td><td>null</td><td>Databricks-Runtime/12.2.x-scala2.12</td></tr><tr><td>21</td><td>2023-12-18T10:26:04.000+0000</td><td>4655955229434883</td><td>nihalataskeen.inayathulla@diggibyte.com</td><td>DELETE</td><td>Map(predicate -> [\"((Department#17520 = CIVIL) AND isnull(Registernum#17521))\"])</td><td>null</td><td>List(3466538472569052)</td><td>1218-091256-wxah832</td><td>20</td><td>WriteSerializable</td><td>false</td><td>Map(numRemovedFiles -> 2, numRemovedBytes -> 2596, numCopiedRows -> 0, numDeletionVectorsAdded -> 0, numDeletionVectorsRemoved -> 0, numAddedChangeFiles -> 0, executionTimeMs -> 2116, numDeletedRows -> 2, scanTimeMs -> 878, numAddedFiles -> 0, numAddedBytes -> 0, rewriteTimeMs -> 1237)</td><td>null</td><td>Databricks-Runtime/12.2.x-scala2.12</td></tr><tr><td>20</td><td>2023-12-18T10:25:53.000+0000</td><td>4655955229434883</td><td>nihalataskeen.inayathulla@diggibyte.com</td><td>DELETE</td><td>Map(predicate -> [\"null\"])</td><td>null</td><td>List(3466538472569052)</td><td>1218-091256-wxah832</td><td>19</td><td>WriteSerializable</td><td>false</td><td>Map(numRemovedFiles -> 0, numRemovedBytes -> 0, numCopiedRows -> 0, numDeletionVectorsAdded -> 0, numDeletionVectorsRemoved -> 0, numAddedChangeFiles -> 0, executionTimeMs -> 20, numDeletedRows -> 0, scanTimeMs -> 13, numAddedFiles -> 0, numAddedBytes -> 0, rewriteTimeMs -> 0)</td><td>null</td><td>Databricks-Runtime/12.2.x-scala2.12</td></tr><tr><td>19</td><td>2023-12-18T10:25:47.000+0000</td><td>4655955229434883</td><td>nihalataskeen.inayathulla@diggibyte.com</td><td>UPDATE</td><td>Map(predicate -> [\"((Name#15956 = Rayan) AND isnull(Registernum#15959))\"])</td><td>null</td><td>List(3466538472569052)</td><td>1218-091256-wxah832</td><td>18</td><td>WriteSerializable</td><td>false</td><td>Map(numRemovedFiles -> 2, numRemovedBytes -> 2178, numCopiedRows -> 0, numDeletionVectorsAdded -> 0, numDeletionVectorsRemoved -> 0, numAddedChangeFiles -> 0, executionTimeMs -> 1742, scanTimeMs -> 826, numAddedFiles -> 2, numUpdatedRows -> 2, numAddedBytes -> 2596, rewriteTimeMs -> 915)</td><td>null</td><td>Databricks-Runtime/12.2.x-scala2.12</td></tr><tr><td>18</td><td>2023-12-18T10:25:38.000+0000</td><td>4655955229434883</td><td>nihalataskeen.inayathulla@diggibyte.com</td><td>WRITE</td><td>Map(mode -> Append, partitionBy -> [])</td><td>null</td><td>List(3466538472569052)</td><td>1218-091256-wxah832</td><td>17</td><td>WriteSerializable</td><td>true</td><td>Map(numFiles -> 3, numOutputRows -> 3, numOutputBytes -> 4028)</td><td>null</td><td>Databricks-Runtime/12.2.x-scala2.12</td></tr><tr><td>17</td><td>2023-12-18T10:25:34.000+0000</td><td>4655955229434883</td><td>nihalataskeen.inayathulla@diggibyte.com</td><td>WRITE</td><td>Map(mode -> Append, partitionBy -> [])</td><td>null</td><td>List(3466538472569052)</td><td>1218-091256-wxah832</td><td>16</td><td>WriteSerializable</td><td>true</td><td>Map(numFiles -> 4, numOutputRows -> 4, numOutputBytes -> 4328)</td><td>null</td><td>Databricks-Runtime/12.2.x-scala2.12</td></tr><tr><td>16</td><td>2023-12-18T10:25:24.000+0000</td><td>4655955229434883</td><td>nihalataskeen.inayathulla@diggibyte.com</td><td>WRITE</td><td>Map(mode -> Append, partitionBy -> [])</td><td>null</td><td>List(3466538472569052)</td><td>1218-091256-wxah832</td><td>15</td><td>WriteSerializable</td><td>true</td><td>Map(numFiles -> 4, numOutputRows -> 4, numOutputBytes -> 4328)</td><td>null</td><td>Databricks-Runtime/12.2.x-scala2.12</td></tr><tr><td>15</td><td>2023-12-18T10:24:32.000+0000</td><td>4655955229434883</td><td>nihalataskeen.inayathulla@diggibyte.com</td><td>CREATE OR REPLACE TABLE AS SELECT</td><td>Map(isManaged -> true, description -> null, partitionBy -> [], properties -> {})</td><td>null</td><td>List(3466538472569052)</td><td>1218-091256-wxah832</td><td>14</td><td>WriteSerializable</td><td>false</td><td>Map(numFiles -> 3, numOutputRows -> 3, numOutputBytes -> 4028)</td><td>null</td><td>Databricks-Runtime/12.2.x-scala2.12</td></tr><tr><td>14</td><td>2023-12-18T10:24:18.000+0000</td><td>4655955229434883</td><td>nihalataskeen.inayathulla@diggibyte.com</td><td>CREATE OR REPLACE TABLE AS SELECT</td><td>Map(isManaged -> true, description -> null, partitionBy -> [], properties -> {})</td><td>null</td><td>List(3466538472569052)</td><td>1218-091256-wxah832</td><td>13</td><td>WriteSerializable</td><td>false</td><td>Map(numFiles -> 4, numOutputRows -> 4, numOutputBytes -> 4328)</td><td>null</td><td>Databricks-Runtime/12.2.x-scala2.12</td></tr><tr><td>13</td><td>2023-12-18T10:23:46.000+0000</td><td>4655955229434883</td><td>nihalataskeen.inayathulla@diggibyte.com</td><td>WRITE</td><td>Map(mode -> Append, partitionBy -> [])</td><td>null</td><td>List(3466538472569052)</td><td>1218-091256-wxah832</td><td>12</td><td>WriteSerializable</td><td>true</td><td>Map(numFiles -> 3, numOutputRows -> 3, numOutputBytes -> 4028)</td><td>null</td><td>Databricks-Runtime/12.2.x-scala2.12</td></tr><tr><td>12</td><td>2023-12-18T10:23:35.000+0000</td><td>4655955229434883</td><td>nihalataskeen.inayathulla@diggibyte.com</td><td>WRITE</td><td>Map(mode -> Append, partitionBy -> [])</td><td>null</td><td>List(3466538472569052)</td><td>1218-091256-wxah832</td><td>11</td><td>WriteSerializable</td><td>true</td><td>Map(numFiles -> 4, numOutputRows -> 4, numOutputBytes -> 4328)</td><td>null</td><td>Databricks-Runtime/12.2.x-scala2.12</td></tr><tr><td>11</td><td>2023-12-18T10:22:30.000+0000</td><td>4655955229434883</td><td>nihalataskeen.inayathulla@diggibyte.com</td><td>DELETE</td><td>Map(predicate -> [\"((Department#9338 = CIVIL) AND isnull(Registernum#9339))\"])</td><td>null</td><td>List(3466538472569052)</td><td>1218-091256-wxah832</td><td>10</td><td>WriteSerializable</td><td>false</td><td>Map(numRemovedFiles -> 1, numRemovedBytes -> 1298, numCopiedRows -> 0, numDeletionVectorsAdded -> 0, numDeletionVectorsRemoved -> 0, numAddedChangeFiles -> 0, executionTimeMs -> 2274, numDeletedRows -> 1, scanTimeMs -> 1423, numAddedFiles -> 0, numAddedBytes -> 0, rewriteTimeMs -> 851)</td><td>null</td><td>Databricks-Runtime/12.2.x-scala2.12</td></tr><tr><td>10</td><td>2023-12-18T10:19:39.000+0000</td><td>4655955229434883</td><td>nihalataskeen.inayathulla@diggibyte.com</td><td>DELETE</td><td>Map(predicate -> [\"null\"])</td><td>null</td><td>List(3466538472569052)</td><td>1218-091256-wxah832</td><td>9</td><td>WriteSerializable</td><td>false</td><td>Map(numRemovedFiles -> 0, numRemovedBytes -> 0, numCopiedRows -> 0, numDeletionVectorsAdded -> 0, numDeletionVectorsRemoved -> 0, numAddedChangeFiles -> 0, executionTimeMs -> 59, numDeletedRows -> 0, scanTimeMs -> 59, numAddedFiles -> 0, numAddedBytes -> 0, rewriteTimeMs -> 0)</td><td>null</td><td>Databricks-Runtime/12.2.x-scala2.12</td></tr><tr><td>9</td><td>2023-12-18T10:19:21.000+0000</td><td>4655955229434883</td><td>nihalataskeen.inayathulla@diggibyte.com</td><td>UPDATE</td><td>Map(predicate -> [\"((Name#8050 = Rayan) AND isnull(Registernum#8053))\"])</td><td>null</td><td>List(3466538472569052)</td><td>1218-091256-wxah832</td><td>8</td><td>WriteSerializable</td><td>false</td><td>Map(numRemovedFiles -> 1, numRemovedBytes -> 1298, numCopiedRows -> 0, numDeletionVectorsAdded -> 0, numDeletionVectorsRemoved -> 0, numAddedChangeFiles -> 0, executionTimeMs -> 1871, scanTimeMs -> 926, numAddedFiles -> 1, numUpdatedRows -> 1, numAddedBytes -> 1298, rewriteTimeMs -> 945)</td><td>null</td><td>Databricks-Runtime/12.2.x-scala2.12</td></tr><tr><td>8</td><td>2023-12-18T10:18:52.000+0000</td><td>4655955229434883</td><td>nihalataskeen.inayathulla@diggibyte.com</td><td>WRITE</td><td>Map(mode -> Append, partitionBy -> [])</td><td>null</td><td>List(3466538472569052)</td><td>1218-091256-wxah832</td><td>7</td><td>WriteSerializable</td><td>true</td><td>Map(numFiles -> 3, numOutputRows -> 3, numOutputBytes -> 4028)</td><td>null</td><td>Databricks-Runtime/12.2.x-scala2.12</td></tr><tr><td>7</td><td>2023-12-18T10:17:33.000+0000</td><td>4655955229434883</td><td>nihalataskeen.inayathulla@diggibyte.com</td><td>DELETE</td><td>Map(predicate -> [\"null\"])</td><td>null</td><td>List(3466538472569052)</td><td>1218-091256-wxah832</td><td>6</td><td>WriteSerializable</td><td>false</td><td>Map(numRemovedFiles -> 0, numRemovedBytes -> 0, numCopiedRows -> 0, numDeletionVectorsAdded -> 0, numDeletionVectorsRemoved -> 0, numAddedChangeFiles -> 0, executionTimeMs -> 27, numDeletedRows -> 0, scanTimeMs -> 27, numAddedFiles -> 0, numAddedBytes -> 0, rewriteTimeMs -> 0)</td><td>null</td><td>Databricks-Runtime/12.2.x-scala2.12</td></tr><tr><td>6</td><td>2023-12-18T10:16:40.000+0000</td><td>4655955229434883</td><td>nihalataskeen.inayathulla@diggibyte.com</td><td>DELETE</td><td>Map(predicate -> [\"null\"])</td><td>null</td><td>List(3466538472569052)</td><td>1218-091256-wxah832</td><td>5</td><td>WriteSerializable</td><td>false</td><td>Map(numRemovedFiles -> 0, numRemovedBytes -> 0, numCopiedRows -> 0, numDeletionVectorsAdded -> 0, numDeletionVectorsRemoved -> 0, numAddedChangeFiles -> 0, executionTimeMs -> 52, numDeletedRows -> 0, scanTimeMs -> 46, numAddedFiles -> 0, numAddedBytes -> 0, rewriteTimeMs -> 0)</td><td>null</td><td>Databricks-Runtime/12.2.x-scala2.12</td></tr><tr><td>5</td><td>2023-12-18T09:53:21.000+0000</td><td>4655955229434883</td><td>nihalataskeen.inayathulla@diggibyte.com</td><td>UPDATE</td><td>Map(predicate -> [\"((Name#5293 = Rayan) AND isnull(Registernum#5296))\"])</td><td>null</td><td>List(3466538472569052)</td><td>1218-091256-wxah832</td><td>4</td><td>WriteSerializable</td><td>false</td><td>Map(numRemovedFiles -> 1, numRemovedBytes -> 1298, numCopiedRows -> 0, numDeletionVectorsAdded -> 0, numDeletionVectorsRemoved -> 0, numAddedChangeFiles -> 0, executionTimeMs -> 2453, scanTimeMs -> 1493, numAddedFiles -> 1, numUpdatedRows -> 1, numAddedBytes -> 1298, rewriteTimeMs -> 959)</td><td>null</td><td>Databricks-Runtime/12.2.x-scala2.12</td></tr><tr><td>4</td><td>2023-12-18T09:52:13.000+0000</td><td>4655955229434883</td><td>nihalataskeen.inayathulla@diggibyte.com</td><td>UPDATE</td><td>Map(predicate -> [\"((Name#4751 = Rayan) AND isnull(Registernum#4754))\"])</td><td>null</td><td>List(3466538472569052)</td><td>1218-091256-wxah832</td><td>3</td><td>WriteSerializable</td><td>false</td><td>Map(numRemovedFiles -> 1, numRemovedBytes -> 1298, numCopiedRows -> 0, numDeletionVectorsAdded -> 0, numDeletionVectorsRemoved -> 0, numAddedChangeFiles -> 0, executionTimeMs -> 2815, scanTimeMs -> 1462, numAddedFiles -> 1, numUpdatedRows -> 1, numAddedBytes -> 1298, rewriteTimeMs -> 1352)</td><td>null</td><td>Databricks-Runtime/12.2.x-scala2.12</td></tr><tr><td>3</td><td>2023-12-18T09:46:31.000+0000</td><td>4655955229434883</td><td>nihalataskeen.inayathulla@diggibyte.com</td><td>UPDATE</td><td>Map(predicate -> [\"((Name#3963 = Rayan) AND isnull(Registernum#3966))\"])</td><td>null</td><td>List(3466538472569052)</td><td>1218-091256-wxah832</td><td>2</td><td>WriteSerializable</td><td>false</td><td>Map(numRemovedFiles -> 1, numRemovedBytes -> 1089, numCopiedRows -> 0, numDeletionVectorsAdded -> 0, numDeletionVectorsRemoved -> 0, numAddedChangeFiles -> 0, executionTimeMs -> 3823, scanTimeMs -> 2305, numAddedFiles -> 1, numUpdatedRows -> 1, numAddedBytes -> 1298, rewriteTimeMs -> 1476)</td><td>null</td><td>Databricks-Runtime/12.2.x-scala2.12</td></tr><tr><td>2</td><td>2023-12-18T09:43:34.000+0000</td><td>4655955229434883</td><td>nihalataskeen.inayathulla@diggibyte.com</td><td>WRITE</td><td>Map(mode -> Append, partitionBy -> [])</td><td>null</td><td>List(3466538472569052)</td><td>1218-091256-wxah832</td><td>1</td><td>WriteSerializable</td><td>true</td><td>Map(numFiles -> 3, numOutputRows -> 3, numOutputBytes -> 4000)</td><td>null</td><td>Databricks-Runtime/12.2.x-scala2.12</td></tr><tr><td>1</td><td>2023-12-18T09:23:32.000+0000</td><td>4655955229434883</td><td>nihalataskeen.inayathulla@diggibyte.com</td><td>WRITE</td><td>Map(mode -> Append, partitionBy -> [])</td><td>null</td><td>List(3466538472569052)</td><td>1218-091256-wxah832</td><td>0</td><td>WriteSerializable</td><td>true</td><td>Map(numFiles -> 2, numOutputRows -> 2, numOutputBytes -> 2666)</td><td>null</td><td>Databricks-Runtime/12.2.x-scala2.12</td></tr><tr><td>0</td><td>2023-12-18T09:20:56.000+0000</td><td>4655955229434883</td><td>nihalataskeen.inayathulla@diggibyte.com</td><td>CREATE TABLE AS SELECT</td><td>Map(isManaged -> true, description -> null, partitionBy -> [], properties -> {})</td><td>null</td><td>List(3466538472569052)</td><td>1218-091256-wxah832</td><td>null</td><td>WriteSerializable</td><td>true</td><td>Map(numFiles -> 4, numOutputRows -> 4, numOutputBytes -> 4328)</td><td>null</td><td>Databricks-Runtime/12.2.x-scala2.12</td></tr></tbody></table></div>"
      ]
     },
     "metadata": {
      "application/vnd.databricks.v1+output": {
       "addedWidgets": {},
       "aggData": [],
       "aggError": "",
       "aggOverflow": false,
       "aggSchema": [],
       "aggSeriesLimitReached": false,
       "aggType": "",
       "arguments": {},
       "columnCustomDisplayInfos": {},
       "data": [
        [
         24,
         "2023-12-18T10:27:04.000+0000",
         "4655955229434883",
         "nihalataskeen.inayathulla@diggibyte.com",
         "DELETE",
         {
          "predicate": "[\"((Department#19921 = ECE) AND isnull(Registernum#19922))\"]"
         },
         null,
         [
          "3466538472569052"
         ],
         "1218-091256-wxah832",
         23,
         "WriteSerializable",
         false,
         {
          "executionTimeMs": "3260",
          "numAddedBytes": "0",
          "numAddedChangeFiles": "0",
          "numAddedFiles": "0",
          "numCopiedRows": "0",
          "numDeletedRows": "6",
          "numDeletionVectorsAdded": "0",
          "numDeletionVectorsRemoved": "0",
          "numRemovedBytes": "6478",
          "numRemovedFiles": "6",
          "rewriteTimeMs": "1051",
          "scanTimeMs": "2208"
         },
         null,
         "Databricks-Runtime/12.2.x-scala2.12"
        ],
        [
         23,
         "2023-12-18T10:26:38.000+0000",
         "4655955229434883",
         "nihalataskeen.inayathulla@diggibyte.com",
         "DELETE",
         {
          "predicate": "[\"((Department#19437 = CIVIL) AND isnull(Registernum#19438))\"]"
         },
         null,
         [
          "3466538472569052"
         ],
         "1218-091256-wxah832",
         22,
         "WriteSerializable",
         false,
         {
          "executionTimeMs": "285",
          "numAddedBytes": "0",
          "numAddedChangeFiles": "0",
          "numAddedFiles": "0",
          "numCopiedRows": "0",
          "numDeletedRows": "0",
          "numDeletionVectorsAdded": "0",
          "numDeletionVectorsRemoved": "0",
          "numRemovedBytes": "0",
          "numRemovedFiles": "0",
          "rewriteTimeMs": "0",
          "scanTimeMs": "284"
         },
         null,
         "Databricks-Runtime/12.2.x-scala2.12"
        ],
        [
         22,
         "2023-12-18T10:26:11.000+0000",
         "4655955229434883",
         "nihalataskeen.inayathulla@diggibyte.com",
         "UPDATE",
         {
          "predicate": "[\"((Name#18718 = Rayan) AND isnull(Registernum#18721))\"]"
         },
         null,
         [
          "3466538472569052"
         ],
         "1218-091256-wxah832",
         21,
         "WriteSerializable",
         false,
         {
          "executionTimeMs": "191",
          "numAddedBytes": "0",
          "numAddedChangeFiles": "0",
          "numAddedFiles": "0",
          "numCopiedRows": "0",
          "numDeletionVectorsAdded": "0",
          "numDeletionVectorsRemoved": "0",
          "numRemovedBytes": "0",
          "numRemovedFiles": "0",
          "numUpdatedRows": "0",
          "rewriteTimeMs": "0",
          "scanTimeMs": "191"
         },
         null,
         "Databricks-Runtime/12.2.x-scala2.12"
        ],
        [
         21,
         "2023-12-18T10:26:04.000+0000",
         "4655955229434883",
         "nihalataskeen.inayathulla@diggibyte.com",
         "DELETE",
         {
          "predicate": "[\"((Department#17520 = CIVIL) AND isnull(Registernum#17521))\"]"
         },
         null,
         [
          "3466538472569052"
         ],
         "1218-091256-wxah832",
         20,
         "WriteSerializable",
         false,
         {
          "executionTimeMs": "2116",
          "numAddedBytes": "0",
          "numAddedChangeFiles": "0",
          "numAddedFiles": "0",
          "numCopiedRows": "0",
          "numDeletedRows": "2",
          "numDeletionVectorsAdded": "0",
          "numDeletionVectorsRemoved": "0",
          "numRemovedBytes": "2596",
          "numRemovedFiles": "2",
          "rewriteTimeMs": "1237",
          "scanTimeMs": "878"
         },
         null,
         "Databricks-Runtime/12.2.x-scala2.12"
        ],
        [
         20,
         "2023-12-18T10:25:53.000+0000",
         "4655955229434883",
         "nihalataskeen.inayathulla@diggibyte.com",
         "DELETE",
         {
          "predicate": "[\"null\"]"
         },
         null,
         [
          "3466538472569052"
         ],
         "1218-091256-wxah832",
         19,
         "WriteSerializable",
         false,
         {
          "executionTimeMs": "20",
          "numAddedBytes": "0",
          "numAddedChangeFiles": "0",
          "numAddedFiles": "0",
          "numCopiedRows": "0",
          "numDeletedRows": "0",
          "numDeletionVectorsAdded": "0",
          "numDeletionVectorsRemoved": "0",
          "numRemovedBytes": "0",
          "numRemovedFiles": "0",
          "rewriteTimeMs": "0",
          "scanTimeMs": "13"
         },
         null,
         "Databricks-Runtime/12.2.x-scala2.12"
        ],
        [
         19,
         "2023-12-18T10:25:47.000+0000",
         "4655955229434883",
         "nihalataskeen.inayathulla@diggibyte.com",
         "UPDATE",
         {
          "predicate": "[\"((Name#15956 = Rayan) AND isnull(Registernum#15959))\"]"
         },
         null,
         [
          "3466538472569052"
         ],
         "1218-091256-wxah832",
         18,
         "WriteSerializable",
         false,
         {
          "executionTimeMs": "1742",
          "numAddedBytes": "2596",
          "numAddedChangeFiles": "0",
          "numAddedFiles": "2",
          "numCopiedRows": "0",
          "numDeletionVectorsAdded": "0",
          "numDeletionVectorsRemoved": "0",
          "numRemovedBytes": "2178",
          "numRemovedFiles": "2",
          "numUpdatedRows": "2",
          "rewriteTimeMs": "915",
          "scanTimeMs": "826"
         },
         null,
         "Databricks-Runtime/12.2.x-scala2.12"
        ],
        [
         18,
         "2023-12-18T10:25:38.000+0000",
         "4655955229434883",
         "nihalataskeen.inayathulla@diggibyte.com",
         "WRITE",
         {
          "mode": "Append",
          "partitionBy": "[]"
         },
         null,
         [
          "3466538472569052"
         ],
         "1218-091256-wxah832",
         17,
         "WriteSerializable",
         true,
         {
          "numFiles": "3",
          "numOutputBytes": "4028",
          "numOutputRows": "3"
         },
         null,
         "Databricks-Runtime/12.2.x-scala2.12"
        ],
        [
         17,
         "2023-12-18T10:25:34.000+0000",
         "4655955229434883",
         "nihalataskeen.inayathulla@diggibyte.com",
         "WRITE",
         {
          "mode": "Append",
          "partitionBy": "[]"
         },
         null,
         [
          "3466538472569052"
         ],
         "1218-091256-wxah832",
         16,
         "WriteSerializable",
         true,
         {
          "numFiles": "4",
          "numOutputBytes": "4328",
          "numOutputRows": "4"
         },
         null,
         "Databricks-Runtime/12.2.x-scala2.12"
        ],
        [
         16,
         "2023-12-18T10:25:24.000+0000",
         "4655955229434883",
         "nihalataskeen.inayathulla@diggibyte.com",
         "WRITE",
         {
          "mode": "Append",
          "partitionBy": "[]"
         },
         null,
         [
          "3466538472569052"
         ],
         "1218-091256-wxah832",
         15,
         "WriteSerializable",
         true,
         {
          "numFiles": "4",
          "numOutputBytes": "4328",
          "numOutputRows": "4"
         },
         null,
         "Databricks-Runtime/12.2.x-scala2.12"
        ],
        [
         15,
         "2023-12-18T10:24:32.000+0000",
         "4655955229434883",
         "nihalataskeen.inayathulla@diggibyte.com",
         "CREATE OR REPLACE TABLE AS SELECT",
         {
          "description": null,
          "isManaged": "true",
          "partitionBy": "[]",
          "properties": "{}"
         },
         null,
         [
          "3466538472569052"
         ],
         "1218-091256-wxah832",
         14,
         "WriteSerializable",
         false,
         {
          "numFiles": "3",
          "numOutputBytes": "4028",
          "numOutputRows": "3"
         },
         null,
         "Databricks-Runtime/12.2.x-scala2.12"
        ],
        [
         14,
         "2023-12-18T10:24:18.000+0000",
         "4655955229434883",
         "nihalataskeen.inayathulla@diggibyte.com",
         "CREATE OR REPLACE TABLE AS SELECT",
         {
          "description": null,
          "isManaged": "true",
          "partitionBy": "[]",
          "properties": "{}"
         },
         null,
         [
          "3466538472569052"
         ],
         "1218-091256-wxah832",
         13,
         "WriteSerializable",
         false,
         {
          "numFiles": "4",
          "numOutputBytes": "4328",
          "numOutputRows": "4"
         },
         null,
         "Databricks-Runtime/12.2.x-scala2.12"
        ],
        [
         13,
         "2023-12-18T10:23:46.000+0000",
         "4655955229434883",
         "nihalataskeen.inayathulla@diggibyte.com",
         "WRITE",
         {
          "mode": "Append",
          "partitionBy": "[]"
         },
         null,
         [
          "3466538472569052"
         ],
         "1218-091256-wxah832",
         12,
         "WriteSerializable",
         true,
         {
          "numFiles": "3",
          "numOutputBytes": "4028",
          "numOutputRows": "3"
         },
         null,
         "Databricks-Runtime/12.2.x-scala2.12"
        ],
        [
         12,
         "2023-12-18T10:23:35.000+0000",
         "4655955229434883",
         "nihalataskeen.inayathulla@diggibyte.com",
         "WRITE",
         {
          "mode": "Append",
          "partitionBy": "[]"
         },
         null,
         [
          "3466538472569052"
         ],
         "1218-091256-wxah832",
         11,
         "WriteSerializable",
         true,
         {
          "numFiles": "4",
          "numOutputBytes": "4328",
          "numOutputRows": "4"
         },
         null,
         "Databricks-Runtime/12.2.x-scala2.12"
        ],
        [
         11,
         "2023-12-18T10:22:30.000+0000",
         "4655955229434883",
         "nihalataskeen.inayathulla@diggibyte.com",
         "DELETE",
         {
          "predicate": "[\"((Department#9338 = CIVIL) AND isnull(Registernum#9339))\"]"
         },
         null,
         [
          "3466538472569052"
         ],
         "1218-091256-wxah832",
         10,
         "WriteSerializable",
         false,
         {
          "executionTimeMs": "2274",
          "numAddedBytes": "0",
          "numAddedChangeFiles": "0",
          "numAddedFiles": "0",
          "numCopiedRows": "0",
          "numDeletedRows": "1",
          "numDeletionVectorsAdded": "0",
          "numDeletionVectorsRemoved": "0",
          "numRemovedBytes": "1298",
          "numRemovedFiles": "1",
          "rewriteTimeMs": "851",
          "scanTimeMs": "1423"
         },
         null,
         "Databricks-Runtime/12.2.x-scala2.12"
        ],
        [
         10,
         "2023-12-18T10:19:39.000+0000",
         "4655955229434883",
         "nihalataskeen.inayathulla@diggibyte.com",
         "DELETE",
         {
          "predicate": "[\"null\"]"
         },
         null,
         [
          "3466538472569052"
         ],
         "1218-091256-wxah832",
         9,
         "WriteSerializable",
         false,
         {
          "executionTimeMs": "59",
          "numAddedBytes": "0",
          "numAddedChangeFiles": "0",
          "numAddedFiles": "0",
          "numCopiedRows": "0",
          "numDeletedRows": "0",
          "numDeletionVectorsAdded": "0",
          "numDeletionVectorsRemoved": "0",
          "numRemovedBytes": "0",
          "numRemovedFiles": "0",
          "rewriteTimeMs": "0",
          "scanTimeMs": "59"
         },
         null,
         "Databricks-Runtime/12.2.x-scala2.12"
        ],
        [
         9,
         "2023-12-18T10:19:21.000+0000",
         "4655955229434883",
         "nihalataskeen.inayathulla@diggibyte.com",
         "UPDATE",
         {
          "predicate": "[\"((Name#8050 = Rayan) AND isnull(Registernum#8053))\"]"
         },
         null,
         [
          "3466538472569052"
         ],
         "1218-091256-wxah832",
         8,
         "WriteSerializable",
         false,
         {
          "executionTimeMs": "1871",
          "numAddedBytes": "1298",
          "numAddedChangeFiles": "0",
          "numAddedFiles": "1",
          "numCopiedRows": "0",
          "numDeletionVectorsAdded": "0",
          "numDeletionVectorsRemoved": "0",
          "numRemovedBytes": "1298",
          "numRemovedFiles": "1",
          "numUpdatedRows": "1",
          "rewriteTimeMs": "945",
          "scanTimeMs": "926"
         },
         null,
         "Databricks-Runtime/12.2.x-scala2.12"
        ],
        [
         8,
         "2023-12-18T10:18:52.000+0000",
         "4655955229434883",
         "nihalataskeen.inayathulla@diggibyte.com",
         "WRITE",
         {
          "mode": "Append",
          "partitionBy": "[]"
         },
         null,
         [
          "3466538472569052"
         ],
         "1218-091256-wxah832",
         7,
         "WriteSerializable",
         true,
         {
          "numFiles": "3",
          "numOutputBytes": "4028",
          "numOutputRows": "3"
         },
         null,
         "Databricks-Runtime/12.2.x-scala2.12"
        ],
        [
         7,
         "2023-12-18T10:17:33.000+0000",
         "4655955229434883",
         "nihalataskeen.inayathulla@diggibyte.com",
         "DELETE",
         {
          "predicate": "[\"null\"]"
         },
         null,
         [
          "3466538472569052"
         ],
         "1218-091256-wxah832",
         6,
         "WriteSerializable",
         false,
         {
          "executionTimeMs": "27",
          "numAddedBytes": "0",
          "numAddedChangeFiles": "0",
          "numAddedFiles": "0",
          "numCopiedRows": "0",
          "numDeletedRows": "0",
          "numDeletionVectorsAdded": "0",
          "numDeletionVectorsRemoved": "0",
          "numRemovedBytes": "0",
          "numRemovedFiles": "0",
          "rewriteTimeMs": "0",
          "scanTimeMs": "27"
         },
         null,
         "Databricks-Runtime/12.2.x-scala2.12"
        ],
        [
         6,
         "2023-12-18T10:16:40.000+0000",
         "4655955229434883",
         "nihalataskeen.inayathulla@diggibyte.com",
         "DELETE",
         {
          "predicate": "[\"null\"]"
         },
         null,
         [
          "3466538472569052"
         ],
         "1218-091256-wxah832",
         5,
         "WriteSerializable",
         false,
         {
          "executionTimeMs": "52",
          "numAddedBytes": "0",
          "numAddedChangeFiles": "0",
          "numAddedFiles": "0",
          "numCopiedRows": "0",
          "numDeletedRows": "0",
          "numDeletionVectorsAdded": "0",
          "numDeletionVectorsRemoved": "0",
          "numRemovedBytes": "0",
          "numRemovedFiles": "0",
          "rewriteTimeMs": "0",
          "scanTimeMs": "46"
         },
         null,
         "Databricks-Runtime/12.2.x-scala2.12"
        ],
        [
         5,
         "2023-12-18T09:53:21.000+0000",
         "4655955229434883",
         "nihalataskeen.inayathulla@diggibyte.com",
         "UPDATE",
         {
          "predicate": "[\"((Name#5293 = Rayan) AND isnull(Registernum#5296))\"]"
         },
         null,
         [
          "3466538472569052"
         ],
         "1218-091256-wxah832",
         4,
         "WriteSerializable",
         false,
         {
          "executionTimeMs": "2453",
          "numAddedBytes": "1298",
          "numAddedChangeFiles": "0",
          "numAddedFiles": "1",
          "numCopiedRows": "0",
          "numDeletionVectorsAdded": "0",
          "numDeletionVectorsRemoved": "0",
          "numRemovedBytes": "1298",
          "numRemovedFiles": "1",
          "numUpdatedRows": "1",
          "rewriteTimeMs": "959",
          "scanTimeMs": "1493"
         },
         null,
         "Databricks-Runtime/12.2.x-scala2.12"
        ],
        [
         4,
         "2023-12-18T09:52:13.000+0000",
         "4655955229434883",
         "nihalataskeen.inayathulla@diggibyte.com",
         "UPDATE",
         {
          "predicate": "[\"((Name#4751 = Rayan) AND isnull(Registernum#4754))\"]"
         },
         null,
         [
          "3466538472569052"
         ],
         "1218-091256-wxah832",
         3,
         "WriteSerializable",
         false,
         {
          "executionTimeMs": "2815",
          "numAddedBytes": "1298",
          "numAddedChangeFiles": "0",
          "numAddedFiles": "1",
          "numCopiedRows": "0",
          "numDeletionVectorsAdded": "0",
          "numDeletionVectorsRemoved": "0",
          "numRemovedBytes": "1298",
          "numRemovedFiles": "1",
          "numUpdatedRows": "1",
          "rewriteTimeMs": "1352",
          "scanTimeMs": "1462"
         },
         null,
         "Databricks-Runtime/12.2.x-scala2.12"
        ],
        [
         3,
         "2023-12-18T09:46:31.000+0000",
         "4655955229434883",
         "nihalataskeen.inayathulla@diggibyte.com",
         "UPDATE",
         {
          "predicate": "[\"((Name#3963 = Rayan) AND isnull(Registernum#3966))\"]"
         },
         null,
         [
          "3466538472569052"
         ],
         "1218-091256-wxah832",
         2,
         "WriteSerializable",
         false,
         {
          "executionTimeMs": "3823",
          "numAddedBytes": "1298",
          "numAddedChangeFiles": "0",
          "numAddedFiles": "1",
          "numCopiedRows": "0",
          "numDeletionVectorsAdded": "0",
          "numDeletionVectorsRemoved": "0",
          "numRemovedBytes": "1089",
          "numRemovedFiles": "1",
          "numUpdatedRows": "1",
          "rewriteTimeMs": "1476",
          "scanTimeMs": "2305"
         },
         null,
         "Databricks-Runtime/12.2.x-scala2.12"
        ],
        [
         2,
         "2023-12-18T09:43:34.000+0000",
         "4655955229434883",
         "nihalataskeen.inayathulla@diggibyte.com",
         "WRITE",
         {
          "mode": "Append",
          "partitionBy": "[]"
         },
         null,
         [
          "3466538472569052"
         ],
         "1218-091256-wxah832",
         1,
         "WriteSerializable",
         true,
         {
          "numFiles": "3",
          "numOutputBytes": "4000",
          "numOutputRows": "3"
         },
         null,
         "Databricks-Runtime/12.2.x-scala2.12"
        ],
        [
         1,
         "2023-12-18T09:23:32.000+0000",
         "4655955229434883",
         "nihalataskeen.inayathulla@diggibyte.com",
         "WRITE",
         {
          "mode": "Append",
          "partitionBy": "[]"
         },
         null,
         [
          "3466538472569052"
         ],
         "1218-091256-wxah832",
         0,
         "WriteSerializable",
         true,
         {
          "numFiles": "2",
          "numOutputBytes": "2666",
          "numOutputRows": "2"
         },
         null,
         "Databricks-Runtime/12.2.x-scala2.12"
        ],
        [
         0,
         "2023-12-18T09:20:56.000+0000",
         "4655955229434883",
         "nihalataskeen.inayathulla@diggibyte.com",
         "CREATE TABLE AS SELECT",
         {
          "description": null,
          "isManaged": "true",
          "partitionBy": "[]",
          "properties": "{}"
         },
         null,
         [
          "3466538472569052"
         ],
         "1218-091256-wxah832",
         null,
         "WriteSerializable",
         true,
         {
          "numFiles": "4",
          "numOutputBytes": "4328",
          "numOutputRows": "4"
         },
         null,
         "Databricks-Runtime/12.2.x-scala2.12"
        ]
       ],
       "datasetInfos": [],
       "dbfsResultPath": null,
       "isJsonSchema": true,
       "metadata": {},
       "overflow": false,
       "plotOptions": {
        "customPlotOptions": {},
        "displayType": "table",
        "pivotAggregation": null,
        "pivotColumns": null,
        "xColumns": null,
        "yColumns": null
       },
       "removedWidgets": [],
       "schema": [
        {
         "metadata": "{}",
         "name": "version",
         "type": "\"long\""
        },
        {
         "metadata": "{}",
         "name": "timestamp",
         "type": "\"timestamp\""
        },
        {
         "metadata": "{}",
         "name": "userId",
         "type": "\"string\""
        },
        {
         "metadata": "{}",
         "name": "userName",
         "type": "\"string\""
        },
        {
         "metadata": "{}",
         "name": "operation",
         "type": "\"string\""
        },
        {
         "metadata": "{}",
         "name": "operationParameters",
         "type": "{\"type\":\"map\",\"keyType\":\"string\",\"valueType\":\"string\",\"valueContainsNull\":true}"
        },
        {
         "metadata": "{}",
         "name": "job",
         "type": "{\"type\":\"struct\",\"fields\":[{\"name\":\"jobId\",\"type\":\"string\",\"nullable\":true,\"metadata\":{}},{\"name\":\"jobName\",\"type\":\"string\",\"nullable\":true,\"metadata\":{}},{\"name\":\"jobRunId\",\"type\":\"string\",\"nullable\":true,\"metadata\":{}},{\"name\":\"runId\",\"type\":\"string\",\"nullable\":true,\"metadata\":{}},{\"name\":\"jobOwnerId\",\"type\":\"string\",\"nullable\":true,\"metadata\":{}},{\"name\":\"triggerType\",\"type\":\"string\",\"nullable\":true,\"metadata\":{}}]}"
        },
        {
         "metadata": "{}",
         "name": "notebook",
         "type": "{\"type\":\"struct\",\"fields\":[{\"name\":\"notebookId\",\"type\":\"string\",\"nullable\":true,\"metadata\":{}}]}"
        },
        {
         "metadata": "{}",
         "name": "clusterId",
         "type": "\"string\""
        },
        {
         "metadata": "{}",
         "name": "readVersion",
         "type": "\"long\""
        },
        {
         "metadata": "{}",
         "name": "isolationLevel",
         "type": "\"string\""
        },
        {
         "metadata": "{}",
         "name": "isBlindAppend",
         "type": "\"boolean\""
        },
        {
         "metadata": "{}",
         "name": "operationMetrics",
         "type": "{\"type\":\"map\",\"keyType\":\"string\",\"valueType\":\"string\",\"valueContainsNull\":true}"
        },
        {
         "metadata": "{}",
         "name": "userMetadata",
         "type": "\"string\""
        },
        {
         "metadata": "{}",
         "name": "engineInfo",
         "type": "\"string\""
        }
       ],
       "type": "table"
      }
     },
     "output_type": "display_data"
    }
   ],
   "source": [
    "%sql\n",
    "describe history mm1"
   ]
  },
  {
   "cell_type": "code",
   "execution_count": 0,
   "metadata": {
    "application/vnd.databricks.v1+cell": {
     "cellMetadata": {
      "byteLimit": 2048000,
      "implicitDf": true,
      "rowLimit": 10000
     },
     "inputWidgets": {},
     "nuid": "4562438d-0b01-4b18-93f2-a17575cc5fb1",
     "showTitle": false,
     "title": ""
    }
   },
   "outputs": [
    {
     "output_type": "display_data",
     "data": {
      "text/html": [
       "<style scoped>\n",
       "  .table-result-container {\n",
       "    max-height: 300px;\n",
       "    overflow: auto;\n",
       "  }\n",
       "  table, th, td {\n",
       "    border: 1px solid black;\n",
       "    border-collapse: collapse;\n",
       "  }\n",
       "  th, td {\n",
       "    padding: 5px;\n",
       "  }\n",
       "  th {\n",
       "    text-align: left;\n",
       "  }\n",
       "</style><div class='table-result-container'><table class='table-result'><thead style='background-color: white'><tr><th>Name</th><th>Rollnum</th><th>Department</th><th>Registernum</th></tr></thead><tbody><tr><td>Rayan</td><td>26</td><td>CIVIL</td><td>null</td></tr><tr><td>Rayan</td><td>26</td><td>CIVIL</td><td>null</td></tr></tbody></table></div>"
      ]
     },
     "metadata": {
      "application/vnd.databricks.v1+output": {
       "addedWidgets": {},
       "aggData": [],
       "aggError": "",
       "aggOverflow": false,
       "aggSchema": [],
       "aggSeriesLimitReached": false,
       "aggType": "",
       "arguments": {},
       "columnCustomDisplayInfos": {},
       "data": [
        [
         "Rayan",
         26,
         "CIVIL",
         null
        ],
        [
         "Rayan",
         26,
         "CIVIL",
         null
        ]
       ],
       "datasetInfos": [],
       "dbfsResultPath": null,
       "isJsonSchema": true,
       "metadata": {},
       "overflow": false,
       "plotOptions": {
        "customPlotOptions": {},
        "displayType": "table",
        "pivotAggregation": null,
        "pivotColumns": null,
        "xColumns": null,
        "yColumns": null
       },
       "removedWidgets": [],
       "schema": [
        {
         "metadata": "{}",
         "name": "Name",
         "type": "\"string\""
        },
        {
         "metadata": "{}",
         "name": "Rollnum",
         "type": "\"integer\""
        },
        {
         "metadata": "{}",
         "name": "Department",
         "type": "\"string\""
        },
        {
         "metadata": "{}",
         "name": "Registernum",
         "type": "\"integer\""
        }
       ],
       "type": "table"
      }
     },
     "output_type": "display_data"
    }
   ],
   "source": [
    "%sql\n",
    "select * from mm1 version as of 18 where Name = \"Rayan\" and Registernum is null"
   ]
  },
  {
   "cell_type": "code",
   "execution_count": 0,
   "metadata": {
    "application/vnd.databricks.v1+cell": {
     "cellMetadata": {
      "byteLimit": 2048000,
      "implicitDf": true,
      "rowLimit": 10000
     },
     "inputWidgets": {},
     "nuid": "f0e99b56-1150-4624-83af-5682eac3b09c",
     "showTitle": false,
     "title": ""
    }
   },
   "outputs": [
    {
     "output_type": "display_data",
     "data": {
      "text/html": [
       "<style scoped>\n",
       "  .table-result-container {\n",
       "    max-height: 300px;\n",
       "    overflow: auto;\n",
       "  }\n",
       "  table, th, td {\n",
       "    border: 1px solid black;\n",
       "    border-collapse: collapse;\n",
       "  }\n",
       "  th, td {\n",
       "    padding: 5px;\n",
       "  }\n",
       "  th {\n",
       "    text-align: left;\n",
       "  }\n",
       "</style><div class='table-result-container'><table class='table-result'><thead style='background-color: white'><tr><th>num_affected_rows</th></tr></thead><tbody><tr><td>0</td></tr></tbody></table></div>"
      ]
     },
     "metadata": {
      "application/vnd.databricks.v1+output": {
       "addedWidgets": {},
       "aggData": [],
       "aggError": "",
       "aggOverflow": false,
       "aggSchema": [],
       "aggSeriesLimitReached": false,
       "aggType": "",
       "arguments": {},
       "columnCustomDisplayInfos": {},
       "data": [
        [
         0
        ]
       ],
       "datasetInfos": [],
       "dbfsResultPath": null,
       "isJsonSchema": true,
       "metadata": {},
       "overflow": false,
       "plotOptions": {
        "customPlotOptions": {},
        "displayType": "table",
        "pivotAggregation": null,
        "pivotColumns": null,
        "xColumns": null,
        "yColumns": null
       },
       "removedWidgets": [],
       "schema": [
        {
         "metadata": "{}",
         "name": "num_affected_rows",
         "type": "\"long\""
        }
       ],
       "type": "table"
      }
     },
     "output_type": "display_data"
    }
   ],
   "source": [
    "%sql\n",
    "update delta.`dbfs:/user/hive/warehouse/mm1` set Rollnum = 99 where Name=\"Rayan\" and Registernum is null"
   ]
  },
  {
   "cell_type": "code",
   "execution_count": 0,
   "metadata": {
    "application/vnd.databricks.v1+cell": {
     "cellMetadata": {
      "byteLimit": 2048000,
      "implicitDf": true,
      "rowLimit": 10000
     },
     "inputWidgets": {},
     "nuid": "0e31734b-04a6-4d63-8ebc-ca329a015ecf",
     "showTitle": false,
     "title": ""
    }
   },
   "outputs": [
    {
     "output_type": "display_data",
     "data": {
      "text/html": [
       "<style scoped>\n",
       "  .table-result-container {\n",
       "    max-height: 300px;\n",
       "    overflow: auto;\n",
       "  }\n",
       "  table, th, td {\n",
       "    border: 1px solid black;\n",
       "    border-collapse: collapse;\n",
       "  }\n",
       "  th, td {\n",
       "    padding: 5px;\n",
       "  }\n",
       "  th {\n",
       "    text-align: left;\n",
       "  }\n",
       "</style><div class='table-result-container'><table class='table-result'><thead style='background-color: white'><tr><th>Name</th><th>Rollnum</th><th>Department</th><th>Registernum</th></tr></thead><tbody><tr><td>Lavanya</td><td>27</td><td>CIVIL</td><td>101</td></tr><tr><td>Lavanya</td><td>27</td><td>CIVIL</td><td>101</td></tr><tr><td>Mythili</td><td>28</td><td>CIVIL</td><td>102</td></tr><tr><td>Mythili</td><td>28</td><td>CIVIL</td><td>102</td></tr><tr><td>Rayan</td><td>26</td><td>CIVIL</td><td>103</td></tr><tr><td>Rayan</td><td>26</td><td>CIVIL</td><td>103</td></tr></tbody></table></div>"
      ]
     },
     "metadata": {
      "application/vnd.databricks.v1+output": {
       "addedWidgets": {},
       "aggData": [],
       "aggError": "",
       "aggOverflow": false,
       "aggSchema": [],
       "aggSeriesLimitReached": false,
       "aggType": "",
       "arguments": {},
       "columnCustomDisplayInfos": {},
       "data": [
        [
         "Lavanya",
         27,
         "CIVIL",
         101
        ],
        [
         "Lavanya",
         27,
         "CIVIL",
         101
        ],
        [
         "Mythili",
         28,
         "CIVIL",
         102
        ],
        [
         "Mythili",
         28,
         "CIVIL",
         102
        ],
        [
         "Rayan",
         26,
         "CIVIL",
         103
        ],
        [
         "Rayan",
         26,
         "CIVIL",
         103
        ]
       ],
       "datasetInfos": [],
       "dbfsResultPath": null,
       "isJsonSchema": true,
       "metadata": {},
       "overflow": false,
       "plotOptions": {
        "customPlotOptions": {},
        "displayType": "table",
        "pivotAggregation": null,
        "pivotColumns": null,
        "xColumns": null,
        "yColumns": null
       },
       "removedWidgets": [],
       "schema": [
        {
         "metadata": "{}",
         "name": "Name",
         "type": "\"string\""
        },
        {
         "metadata": "{}",
         "name": "Rollnum",
         "type": "\"integer\""
        },
        {
         "metadata": "{}",
         "name": "Department",
         "type": "\"string\""
        },
        {
         "metadata": "{}",
         "name": "Registernum",
         "type": "\"integer\""
        }
       ],
       "type": "table"
      }
     },
     "output_type": "display_data"
    }
   ],
   "source": [
    "%sql\n",
    "select * from mm1"
   ]
  }
 ],
 "metadata": {
  "application/vnd.databricks.v1+notebook": {
   "dashboards": [],
   "language": "python",
   "notebookMetadata": {
    "mostRecentlyExecutedCommandWithImplicitDF": {
     "commandId": 3613858136571339,
     "dataframes": [
      "_sqldf"
     ]
    },
    "pythonIndentUnit": 4
   },
   "notebookName": "delta table practice",
   "widgets": {}
  }
 },
 "nbformat": 4,
 "nbformat_minor": 0
}
