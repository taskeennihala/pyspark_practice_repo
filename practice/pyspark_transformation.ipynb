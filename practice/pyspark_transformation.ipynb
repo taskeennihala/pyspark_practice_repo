{
 "cells": [
  {
   "cell_type": "code",
   "execution_count": 0,
   "metadata": {
    "application/vnd.databricks.v1+cell": {
     "cellMetadata": {
      "byteLimit": 2048000,
      "rowLimit": 10000
     },
     "inputWidgets": {},
     "nuid": "456dfd49-3c47-4b9b-b358-97c279e35465",
     "showTitle": false,
     "title": ""
    }
   },
   "outputs": [],
   "source": [
    "from pyspark.sql.functions import col,split,avg,desc,to_date,floor,when\n",
    "from pyspark.sql.types import FloatType "
   ]
  },
  {
   "cell_type": "code",
   "execution_count": 0,
   "metadata": {
    "application/vnd.databricks.v1+cell": {
     "cellMetadata": {
      "byteLimit": 2048000,
      "rowLimit": 10000
     },
     "inputWidgets": {},
     "nuid": "1e8a4092-9b63-4cfe-9231-7cfb602d1c1a",
     "showTitle": false,
     "title": ""
    }
   },
   "outputs": [
    {
     "output_type": "display_data",
     "data": {
      "text/html": [
       "<style scoped>\n",
       "  .table-result-container {\n",
       "    max-height: 300px;\n",
       "    overflow: auto;\n",
       "  }\n",
       "  table, th, td {\n",
       "    border: 1px solid black;\n",
       "    border-collapse: collapse;\n",
       "  }\n",
       "  th, td {\n",
       "    padding: 5px;\n",
       "  }\n",
       "  th {\n",
       "    text-align: left;\n",
       "  }\n",
       "</style><div class='table-result-container'><table class='table-result'><thead style='background-color: white'><tr><th>Customer Id</th><th>Name</th><th>Email Id</th><th>address</th><th>gender</th><th>age</th><th>Joining Date</th><th>registered</th><th>order ID</th><th>orders</th><th>spent</th><th>job</th><th>hobbies</th><th>is_married</th></tr></thead><tbody><tr><td>amxjo131</td><td>Joseph Rice</td><td>josephrice131@slingacademy.com</td><td>91773 Miller Shoal Diaztown, FL 38841</td><td>male</td><td>43</td><td>07-12-2022 20:15</td><td>05-05-2019</td><td>null</td><td>7</td><td>568.29</td><td>Artist</td><td>Playing sports</td><td>FALSE</td></tr><tr><td>amxga386</td><td>Gary Moore</td><td>garymoore386@slingacademy.com</td><td>6450 John Lodge Territon, KY 95945</td><td>male</td><td>71</td><td>07-12-2021 20:15</td><td>20-05-2020</td><td>null</td><td>11</td><td>568.92</td><td>Artist</td><td>Swimming</td><td>TRUE</td></tr><tr><td>amxj944</td><td>John Walker</td><td>johnwalker944@slingacademy.com</td><td>27265 Murray Island Kevinfort, PA 63231</td><td>male</td><td>44</td><td>07-12-2022 20:15</td><td>04-04-2020</td><td>null</td><td>11</td><td>497.12</td><td>Clerk</td><td>Painting</td><td>FALSE</td></tr><tr><td>amxer176</td><td>Eric Carter</td><td>ericcarter176@slingacademy.com</td><td>USNS Knight FPO AA 76532</td><td>male</td><td>38</td><td>07-12-2022 20:15</td><td>30-01-2019</td><td>null</td><td>17</td><td>834.6</td><td>Butcher</td><td>Playing musical instruments</td><td>FALSE</td></tr><tr><td>amxwi427</td><td>William Jackson</td><td>williamjackson427@slingacademy.com</td><td>170 Jackson Loaf Kristenland, AS 48876</td><td>male</td><td>58</td><td>10-12-2022 20:15</td><td>01-07-2022</td><td>null</td><td>14</td><td>151.59</td><td>Engineer</td><td>Reading</td><td>FALSE</td></tr><tr><td>amxni228</td><td>Nicole Jones</td><td>nicolejones228@slingacademy.com</td><td>14354 Baker Harbor Apt. 017 Ericville, HI 11192</td><td>female</td><td>33</td><td>07-12-2022 20:15</td><td>07-08-2021</td><td>null</td><td>19</td><td>33.17</td><td>Unemployed</td><td>Running</td><td>TRUE</td></tr><tr><td>amxda980</td><td>David Davis</td><td>daviddavis980@slingacademy.com</td><td>021 Katherine Mall Jameston, DC 24685</td><td>male</td><td>59</td><td>07-12-2022 20:15</td><td>16-06-2022</td><td>null</td><td>9</td><td>970.96</td><td>Doctor</td><td>Playing sports</td><td>FALSE</td></tr><tr><td>amxja889</td><td>Jason Montgomery</td><td>jasonmontgomery889@slingacademy.com</td><td>14657 Scott Loop Apt. 735 Port Ashley, NH 34470</td><td>male</td><td>58</td><td>07-12-2023 20:15</td><td>13-11-2021</td><td>null</td><td>12</td><td>676.2</td><td>Waitress</td><td>Collecting</td><td>FALSE</td></tr><tr><td>amxke695</td><td>Kent Weaver</td><td>kentweaver695@slingacademy.com</td><td>6644 Mitchell Burg Victorhaven, KS 66356</td><td>male</td><td>61</td><td>07-01-2022 20:15</td><td>11-06-2023</td><td>null</td><td>1</td><td>674.37</td><td>Clerk</td><td>Hiking</td><td>FALSE</td></tr><tr><td>amxda573</td><td>Darrell Dillon</td><td>darrelldillon573@slingacademy.com</td><td>PSC 7267, Box 9911 APO AE 49343</td><td>male</td><td>50</td><td>07-0-2022 20:15</td><td>13-09-2022</td><td>null</td><td>12</td><td>750.72</td><td>Dentist</td><td>Watching movies</td><td>FALSE</td></tr><tr><td>amxja322</td><td>Jacqueline Wang</td><td>jacquelinewang322@slingacademy.com</td><td>16963 Stewart Curve Suite 27 South Cameron, ND 25136</td><td>female</td><td>22</td><td>07-12-2022 20:15</td><td>08-02-2023</td><td>null</td><td>12</td><td>962.47</td><td>Housewife</td><td>Collecting</td><td>FALSE</td></tr><tr><td>amxjo185</td><td>Jodi Gonzalez</td><td>jodigonzalez185@slingacademy.com</td><td>378 Johnson Oval South Stacie, RI 76332</td><td>female</td><td>69</td><td>07-12-2022 20:15</td><td>25-06-2021</td><td>null</td><td>12</td><td>68.67</td><td>Baker</td><td>Photography</td><td>FALSE</td></tr><tr><td>amxom769</td><td>Omar Martin</td><td>omarmartin769@slingacademy.com</td><td>Unit 9103 Box 4771 DPO AA 16592</td><td>male</td><td>28</td><td>07-12-2022 20:15</td><td>28-05-2023</td><td>null</td><td>3</td><td>162.58</td><td>Doctor</td><td>Gardening</td><td>TRUE</td></tr><tr><td>amxni473</td><td>Nicole Lara</td><td>nicolelara473@slingacademy.com</td><td>9822 Lisa Courts Johnhaven, IL 80438</td><td>female</td><td>77</td><td>07-01-2022 20:15</td><td>03-03-2023</td><td>null</td><td>17</td><td>309.81</td><td>Janitor</td><td>Hiking</td><td>TRUE</td></tr><tr><td>amxja753</td><td>Jason Brown</td><td>jasonbrown753@slingacademy.com</td><td>7310 Romero Summit East Scotttown, DC 53183</td><td>male</td><td>63</td><td>07-14-2022  20:15:39</td><td>05-12-2022</td><td>null</td><td>13</td><td>763.27</td><td>Lawyer</td><td>Fishing</td><td>TRUE</td></tr><tr><td>amxda257</td><td>David Benson</td><td>davidbenson257@slingacademy.com</td><td>444 Derek Summit Lisaborough, WA 20685</td><td>male</td><td>61</td><td>07-12-2022 20:15</td><td>15-04-2022</td><td>null</td><td>17</td><td>111.11</td><td>Lawyer</td><td>Meditation</td><td>TRUE</td></tr><tr><td>amxki513</td><td>Kimberly Mora</td><td>kimberlymora513@slingacademy.com</td><td>7679 Perry Square West Amybury, RI 15144</td><td>female</td><td>34</td><td>07-12-2022 20:15</td><td>19-05-2019</td><td>null</td><td>10</td><td>208.46</td><td>Farmer</td><td>Collecting</td><td>FALSE</td></tr><tr><td>amxer904</td><td>Erik Macias</td><td>erikmacias904@wingacademy.com</td><td>568 Christopher Tunnel Toddburgh, DE 86966</td><td>male</td><td>25</td><td>07-12-2022 20:15</td><td>18-04-2020</td><td>null</td><td>8</td><td>439.53</td><td>Accountant</td><td>Fishing</td><td>FALSE</td></tr><tr><td>amxja681</td><td>James Johnson</td><td>jamesjohnson681@wingacademy.com</td><td>19870 Sean Parkway North Jamesfurt, NC 28950</td><td>male</td><td>67</td><td>07-08-2022 20:15</td><td>17-02-2019</td><td>null</td><td>5</td><td>394.95</td><td>Security Guard</td><td>Watching movies</td><td>FALSE</td></tr><tr><td>amxde324</td><td>Derek Peterson</td><td>derekpeterson324@wingacademy.com</td><td>70830 Jonathan Pine Wilcoxburgh, MI 38265</td><td>male</td><td>36</td><td>07-12-2022 20:15</td><td>15-12-2020</td><td>null</td><td>2</td><td>153.8</td><td>Architect</td><td>Photography</td><td>TRUE</td></tr><tr><td>amxdi438</td><td>Diane Henson</td><td>dianehenson438@wingacademy.com</td><td>86382 Baker Ports Apt. 074 Cookfurt, NM 54313</td><td>female</td><td>74</td><td>07-12-2022 20:15</td><td>21-03-2020</td><td>null</td><td>19</td><td>62.52</td><td>Butcher</td><td>Playing musical instruments</td><td>FALSE</td></tr><tr><td>amxco721</td><td>Cody Lyons</td><td>codylyons721@wingacademy.com</td><td>60971 Carrillo Square Suite 141 New Kimberlybury, AS 02128</td><td>male</td><td>47</td><td>07-12-2022 20:15</td><td>25-11-2019</td><td>null</td><td>14</td><td>43.17</td><td>Baker</td><td>Hunting</td><td>FALSE</td></tr><tr><td>amxma249</td><td>Margaret Hardy</td><td>margarethardy249@wingacademy.com</td><td>2900 Sandra Villages Apt. 985 Phillipsstad, NH 19830</td><td>female</td><td>25</td><td>07-12-2022 20:15</td><td>17-07-2021</td><td>null</td><td>9</td><td>455.27</td><td>Barber</td><td>Other</td><td>FALSE</td></tr><tr><td>amxar881</td><td>Arthur Hayes</td><td>arthurhayes881@wingacademy.com</td><td>353 Elizabeth Forest Deannachester, NM 66952</td><td>male</td><td>75</td><td>07-15-2022  20:15:39</td><td>01-04-2021</td><td>null</td><td>6</td><td>749.78</td><td>Chef</td><td>Sewing</td><td>FALSE</td></tr><tr><td>amxra702</td><td>Raymond Taylor</td><td>raymondtaylor702@wingacademy.com</td><td>07867 John Mills Apt. 985 Tinaville, ID 59142</td><td>male</td><td>36</td><td>07-12-2022 20:15</td><td>24-09-2021</td><td>null</td><td>6</td><td>125.18</td><td>Butcher</td><td>Playing musical instruments</td><td>FALSE</td></tr><tr><td>amxti476</td><td>Tina Moore</td><td>tinamoore476@wingacademy.com</td><td>50984 Shelly Pass Port Nicholas, SC 48629</td><td>female</td><td>34</td><td>07-12-2022 20:15</td><td>15-07-2020</td><td>null</td><td>17</td><td>888.53</td><td>Chef</td><td>Running</td><td>FALSE</td></tr><tr><td>amxky170</td><td>Kylie White</td><td>kyliewhite170@wingacademy.com</td><td>5004 Christine Falls Suite 217 Jasonburgh, NJ 75688</td><td>female</td><td>63</td><td>07-12-2022 20:15</td><td>03-02-2020</td><td>null</td><td>6</td><td>872.18</td><td>Janitor</td><td>Reading</td><td>TRUE</td></tr><tr><td>amxjo648</td><td>Jonathan Manning</td><td>jonathanmanning648@wingacademy.com</td><td>1501 Gregory Glens Suite 940 Stephensstad, GU 55206</td><td>male</td><td>30</td><td>07-12-2022 20:15</td><td>21-01-2022</td><td>null</td><td>0</td><td>178.54</td><td>Librarian</td><td>Playing sports</td><td>FALSE</td></tr><tr><td>amxan256</td><td>Angela Bryant</td><td>angelabryant256@wingacademy.com</td><td>01454 Christopher Turnpike North Ryanstad, MI 36226</td><td>female</td><td>23</td><td>07-12-2022 20:15</td><td>11-09-2019</td><td>null</td><td>3</td><td>525.2</td><td>Politician</td><td>Cycling</td><td>FALSE</td></tr></tbody></table></div>"
      ]
     },
     "metadata": {
      "application/vnd.databricks.v1+output": {
       "addedWidgets": {},
       "aggData": [],
       "aggError": "",
       "aggOverflow": false,
       "aggSchema": [],
       "aggSeriesLimitReached": false,
       "aggType": "",
       "arguments": {},
       "columnCustomDisplayInfos": {},
       "data": [
        [
         "amxjo131",
         "Joseph Rice",
         "josephrice131@slingacademy.com",
         "91773 Miller Shoal Diaztown, FL 38841",
         "male",
         "43",
         "07-12-2022 20:15",
         "05-05-2019",
         null,
         "7",
         "568.29",
         "Artist",
         "Playing sports",
         "FALSE"
        ],
        [
         "amxga386",
         "Gary Moore",
         "garymoore386@slingacademy.com",
         "6450 John Lodge Territon, KY 95945",
         "male",
         "71",
         "07-12-2021 20:15",
         "20-05-2020",
         null,
         "11",
         "568.92",
         "Artist",
         "Swimming",
         "TRUE"
        ],
        [
         "amxj944",
         "John Walker",
         "johnwalker944@slingacademy.com",
         "27265 Murray Island Kevinfort, PA 63231",
         "male",
         "44",
         "07-12-2022 20:15",
         "04-04-2020",
         null,
         "11",
         "497.12",
         "Clerk",
         "Painting",
         "FALSE"
        ],
        [
         "amxer176",
         "Eric Carter",
         "ericcarter176@slingacademy.com",
         "USNS Knight FPO AA 76532",
         "male",
         "38",
         "07-12-2022 20:15",
         "30-01-2019",
         null,
         "17",
         "834.6",
         "Butcher",
         "Playing musical instruments",
         "FALSE"
        ],
        [
         "amxwi427",
         "William Jackson",
         "williamjackson427@slingacademy.com",
         "170 Jackson Loaf Kristenland, AS 48876",
         "male",
         "58",
         "10-12-2022 20:15",
         "01-07-2022",
         null,
         "14",
         "151.59",
         "Engineer",
         "Reading",
         "FALSE"
        ],
        [
         "amxni228",
         "Nicole Jones",
         "nicolejones228@slingacademy.com",
         "14354 Baker Harbor Apt. 017 Ericville, HI 11192",
         "female",
         "33",
         "07-12-2022 20:15",
         "07-08-2021",
         null,
         "19",
         "33.17",
         "Unemployed",
         "Running",
         "TRUE"
        ],
        [
         "amxda980",
         "David Davis",
         "daviddavis980@slingacademy.com",
         "021 Katherine Mall Jameston, DC 24685",
         "male",
         "59",
         "07-12-2022 20:15",
         "16-06-2022",
         null,
         "9",
         "970.96",
         "Doctor",
         "Playing sports",
         "FALSE"
        ],
        [
         "amxja889",
         "Jason Montgomery",
         "jasonmontgomery889@slingacademy.com",
         "14657 Scott Loop Apt. 735 Port Ashley, NH 34470",
         "male",
         "58",
         "07-12-2023 20:15",
         "13-11-2021",
         null,
         "12",
         "676.2",
         "Waitress",
         "Collecting",
         "FALSE"
        ],
        [
         "amxke695",
         "Kent Weaver",
         "kentweaver695@slingacademy.com",
         "6644 Mitchell Burg Victorhaven, KS 66356",
         "male",
         "61",
         "07-01-2022 20:15",
         "11-06-2023",
         null,
         "1",
         "674.37",
         "Clerk",
         "Hiking",
         "FALSE"
        ],
        [
         "amxda573",
         "Darrell Dillon",
         "darrelldillon573@slingacademy.com",
         "PSC 7267, Box 9911 APO AE 49343",
         "male",
         "50",
         "07-0-2022 20:15",
         "13-09-2022",
         null,
         "12",
         "750.72",
         "Dentist",
         "Watching movies",
         "FALSE"
        ],
        [
         "amxja322",
         "Jacqueline Wang",
         "jacquelinewang322@slingacademy.com",
         "16963 Stewart Curve Suite 27 South Cameron, ND 25136",
         "female",
         "22",
         "07-12-2022 20:15",
         "08-02-2023",
         null,
         "12",
         "962.47",
         "Housewife",
         "Collecting",
         "FALSE"
        ],
        [
         "amxjo185",
         "Jodi Gonzalez",
         "jodigonzalez185@slingacademy.com",
         "378 Johnson Oval South Stacie, RI 76332",
         "female",
         "69",
         "07-12-2022 20:15",
         "25-06-2021",
         null,
         "12",
         "68.67",
         "Baker",
         "Photography",
         "FALSE"
        ],
        [
         "amxom769",
         "Omar Martin",
         "omarmartin769@slingacademy.com",
         "Unit 9103 Box 4771 DPO AA 16592",
         "male",
         "28",
         "07-12-2022 20:15",
         "28-05-2023",
         null,
         "3",
         "162.58",
         "Doctor",
         "Gardening",
         "TRUE"
        ],
        [
         "amxni473",
         "Nicole Lara",
         "nicolelara473@slingacademy.com",
         "9822 Lisa Courts Johnhaven, IL 80438",
         "female",
         "77",
         "07-01-2022 20:15",
         "03-03-2023",
         null,
         "17",
         "309.81",
         "Janitor",
         "Hiking",
         "TRUE"
        ],
        [
         "amxja753",
         "Jason Brown",
         "jasonbrown753@slingacademy.com",
         "7310 Romero Summit East Scotttown, DC 53183",
         "male",
         "63",
         "07-14-2022  20:15:39",
         "05-12-2022",
         null,
         "13",
         "763.27",
         "Lawyer",
         "Fishing",
         "TRUE"
        ],
        [
         "amxda257",
         "David Benson",
         "davidbenson257@slingacademy.com",
         "444 Derek Summit Lisaborough, WA 20685",
         "male",
         "61",
         "07-12-2022 20:15",
         "15-04-2022",
         null,
         "17",
         "111.11",
         "Lawyer",
         "Meditation",
         "TRUE"
        ],
        [
         "amxki513",
         "Kimberly Mora",
         "kimberlymora513@slingacademy.com",
         "7679 Perry Square West Amybury, RI 15144",
         "female",
         "34",
         "07-12-2022 20:15",
         "19-05-2019",
         null,
         "10",
         "208.46",
         "Farmer",
         "Collecting",
         "FALSE"
        ],
        [
         "amxer904",
         "Erik Macias",
         "erikmacias904@wingacademy.com",
         "568 Christopher Tunnel Toddburgh, DE 86966",
         "male",
         "25",
         "07-12-2022 20:15",
         "18-04-2020",
         null,
         "8",
         "439.53",
         "Accountant",
         "Fishing",
         "FALSE"
        ],
        [
         "amxja681",
         "James Johnson",
         "jamesjohnson681@wingacademy.com",
         "19870 Sean Parkway North Jamesfurt, NC 28950",
         "male",
         "67",
         "07-08-2022 20:15",
         "17-02-2019",
         null,
         "5",
         "394.95",
         "Security Guard",
         "Watching movies",
         "FALSE"
        ],
        [
         "amxde324",
         "Derek Peterson",
         "derekpeterson324@wingacademy.com",
         "70830 Jonathan Pine Wilcoxburgh, MI 38265",
         "male",
         "36",
         "07-12-2022 20:15",
         "15-12-2020",
         null,
         "2",
         "153.8",
         "Architect",
         "Photography",
         "TRUE"
        ],
        [
         "amxdi438",
         "Diane Henson",
         "dianehenson438@wingacademy.com",
         "86382 Baker Ports Apt. 074 Cookfurt, NM 54313",
         "female",
         "74",
         "07-12-2022 20:15",
         "21-03-2020",
         null,
         "19",
         "62.52",
         "Butcher",
         "Playing musical instruments",
         "FALSE"
        ],
        [
         "amxco721",
         "Cody Lyons",
         "codylyons721@wingacademy.com",
         "60971 Carrillo Square Suite 141 New Kimberlybury, AS 02128",
         "male",
         "47",
         "07-12-2022 20:15",
         "25-11-2019",
         null,
         "14",
         "43.17",
         "Baker",
         "Hunting",
         "FALSE"
        ],
        [
         "amxma249",
         "Margaret Hardy",
         "margarethardy249@wingacademy.com",
         "2900 Sandra Villages Apt. 985 Phillipsstad, NH 19830",
         "female",
         "25",
         "07-12-2022 20:15",
         "17-07-2021",
         null,
         "9",
         "455.27",
         "Barber",
         "Other",
         "FALSE"
        ],
        [
         "amxar881",
         "Arthur Hayes",
         "arthurhayes881@wingacademy.com",
         "353 Elizabeth Forest Deannachester, NM 66952",
         "male",
         "75",
         "07-15-2022  20:15:39",
         "01-04-2021",
         null,
         "6",
         "749.78",
         "Chef",
         "Sewing",
         "FALSE"
        ],
        [
         "amxra702",
         "Raymond Taylor",
         "raymondtaylor702@wingacademy.com",
         "07867 John Mills Apt. 985 Tinaville, ID 59142",
         "male",
         "36",
         "07-12-2022 20:15",
         "24-09-2021",
         null,
         "6",
         "125.18",
         "Butcher",
         "Playing musical instruments",
         "FALSE"
        ],
        [
         "amxti476",
         "Tina Moore",
         "tinamoore476@wingacademy.com",
         "50984 Shelly Pass Port Nicholas, SC 48629",
         "female",
         "34",
         "07-12-2022 20:15",
         "15-07-2020",
         null,
         "17",
         "888.53",
         "Chef",
         "Running",
         "FALSE"
        ],
        [
         "amxky170",
         "Kylie White",
         "kyliewhite170@wingacademy.com",
         "5004 Christine Falls Suite 217 Jasonburgh, NJ 75688",
         "female",
         "63",
         "07-12-2022 20:15",
         "03-02-2020",
         null,
         "6",
         "872.18",
         "Janitor",
         "Reading",
         "TRUE"
        ],
        [
         "amxjo648",
         "Jonathan Manning",
         "jonathanmanning648@wingacademy.com",
         "1501 Gregory Glens Suite 940 Stephensstad, GU 55206",
         "male",
         "30",
         "07-12-2022 20:15",
         "21-01-2022",
         null,
         "0",
         "178.54",
         "Librarian",
         "Playing sports",
         "FALSE"
        ],
        [
         "amxan256",
         "Angela Bryant",
         "angelabryant256@wingacademy.com",
         "01454 Christopher Turnpike North Ryanstad, MI 36226",
         "female",
         "23",
         "07-12-2022 20:15",
         "11-09-2019",
         null,
         "3",
         "525.2",
         "Politician",
         "Cycling",
         "FALSE"
        ]
       ],
       "datasetInfos": [],
       "dbfsResultPath": null,
       "isJsonSchema": true,
       "metadata": {},
       "overflow": false,
       "plotOptions": {
        "customPlotOptions": {},
        "displayType": "table",
        "pivotAggregation": null,
        "pivotColumns": null,
        "xColumns": null,
        "yColumns": null
       },
       "removedWidgets": [],
       "schema": [
        {
         "metadata": "{}",
         "name": "Customer Id",
         "type": "\"string\""
        },
        {
         "metadata": "{}",
         "name": "Name",
         "type": "\"string\""
        },
        {
         "metadata": "{}",
         "name": "Email Id",
         "type": "\"string\""
        },
        {
         "metadata": "{}",
         "name": "address",
         "type": "\"string\""
        },
        {
         "metadata": "{}",
         "name": "gender",
         "type": "\"string\""
        },
        {
         "metadata": "{}",
         "name": "age",
         "type": "\"string\""
        },
        {
         "metadata": "{}",
         "name": "Joining Date",
         "type": "\"string\""
        },
        {
         "metadata": "{}",
         "name": "registered",
         "type": "\"string\""
        },
        {
         "metadata": "{}",
         "name": "order ID",
         "type": "\"string\""
        },
        {
         "metadata": "{}",
         "name": "orders",
         "type": "\"string\""
        },
        {
         "metadata": "{}",
         "name": "spent",
         "type": "\"string\""
        },
        {
         "metadata": "{}",
         "name": "job",
         "type": "\"string\""
        },
        {
         "metadata": "{}",
         "name": "hobbies",
         "type": "\"string\""
        },
        {
         "metadata": "{}",
         "name": "is_married",
         "type": "\"string\""
        }
       ],
       "type": "table"
      }
     },
     "output_type": "display_data"
    }
   ],
   "source": [
    "df=spark.read.csv(\"dbfs:/FileStore/20240105_sales_customer.csv\",header=True)\n",
    "display(df)"
   ]
  },
  {
   "cell_type": "code",
   "execution_count": 0,
   "metadata": {
    "application/vnd.databricks.v1+cell": {
     "cellMetadata": {
      "byteLimit": 2048000,
      "rowLimit": 10000
     },
     "inputWidgets": {},
     "nuid": "0a0e8e40-14fa-4258-ac0a-1506ae497748",
     "showTitle": false,
     "title": ""
    }
   },
   "outputs": [
    {
     "output_type": "stream",
     "name": "stdout",
     "output_type": "stream",
     "text": [
      "19"
     ]
    }
   ],
   "source": [
    "male_count = df.filter(col(\"gender\") == \"male\").count()\n",
    "display(male_count)"
   ]
  },
  {
   "cell_type": "code",
   "execution_count": 0,
   "metadata": {
    "application/vnd.databricks.v1+cell": {
     "cellMetadata": {
      "byteLimit": 2048000,
      "rowLimit": 10000
     },
     "inputWidgets": {},
     "nuid": "ea6ab6b6-f47d-425e-87b9-8e1649604d05",
     "showTitle": false,
     "title": ""
    }
   },
   "outputs": [
    {
     "output_type": "stream",
     "name": "stdout",
     "output_type": "stream",
     "text": [
      "+-----------+---------------+--------------------+--------------------+------+---+----------------+----------+--------+------+------+----------+--------------------+----------+\n|Customer Id|           Name|            Email Id|             address|gender|age|    Joining Date|registered|order ID|orders| spent|occupation|             hobbies|is_married|\n+-----------+---------------+--------------------+--------------------+------+---+----------------+----------+--------+------+------+----------+--------------------+----------+\n|   amxjo131|    Joseph Rice|josephrice131@sli...|91773 Miller Shoa...|  male| 43|07-12-2022 20:15|05-05-2019|    null|     7|568.29|    Artist|      Playing sports|     FALSE|\n|   amxga386|     Gary Moore|garymoore386@slin...|6450 John Lodge T...|  male| 71|07-12-2021 20:15|20-05-2020|    null|    11|568.92|    Artist|            Swimming|      TRUE|\n|    amxj944|    John Walker|johnwalker944@sli...|27265 Murray Isla...|  male| 44|07-12-2022 20:15|04-04-2020|    null|    11|497.12|     Clerk|            Painting|     FALSE|\n|   amxer176|    Eric Carter|ericcarter176@sli...|USNS Knight FPO A...|  male| 38|07-12-2022 20:15|30-01-2019|    null|    17| 834.6|   Butcher|Playing musical i...|     FALSE|\n|   amxwi427|William Jackson|williamjackson427...|170 Jackson Loaf ...|  male| 58|10-12-2022 20:15|01-07-2022|    null|    14|151.59|  Engineer|             Reading|     FALSE|\n+-----------+---------------+--------------------+--------------------+------+---+----------------+----------+--------+------+------+----------+--------------------+----------+\nonly showing top 5 rows\n\n"
     ]
    }
   ],
   "source": [
    "df.withColumnRenamed(\"job\",\"occupation\").show(5)"
   ]
  },
  {
   "cell_type": "code",
   "execution_count": 0,
   "metadata": {
    "application/vnd.databricks.v1+cell": {
     "cellMetadata": {
      "byteLimit": 2048000,
      "rowLimit": 10000
     },
     "inputWidgets": {},
     "nuid": "b50f71fd-f21a-40e6-b4da-927bceff1fcf",
     "showTitle": false,
     "title": ""
    }
   },
   "outputs": [
    {
     "output_type": "display_data",
     "data": {
      "text/html": [
       "<style scoped>\n",
       "  .table-result-container {\n",
       "    max-height: 300px;\n",
       "    overflow: auto;\n",
       "  }\n",
       "  table, th, td {\n",
       "    border: 1px solid black;\n",
       "    border-collapse: collapse;\n",
       "  }\n",
       "  th, td {\n",
       "    padding: 5px;\n",
       "  }\n",
       "  th {\n",
       "    text-align: left;\n",
       "  }\n",
       "</style><div class='table-result-container'><table class='table-result'><thead style='background-color: white'><tr><th>CUSTOMER ID</th><th>NAME</th><th>EMAIL ID</th><th>ADDRESS</th><th>GENDER</th><th>AGE</th><th>JOINING DATE</th><th>REGISTERED</th><th>ORDER ID</th><th>ORDERS</th><th>SPENT</th><th>JOB</th><th>HOBBIES</th><th>IS_MARRIED</th></tr></thead><tbody><tr><td>amxjo131</td><td>Joseph Rice</td><td>josephrice131@slingacademy.com</td><td>91773 Miller Shoal Diaztown, FL 38841</td><td>male</td><td>43</td><td>07-12-2022 20:15</td><td>05-05-2019</td><td>null</td><td>7</td><td>568.29</td><td>Artist</td><td>Playing sports</td><td>FALSE</td></tr><tr><td>amxga386</td><td>Gary Moore</td><td>garymoore386@slingacademy.com</td><td>6450 John Lodge Territon, KY 95945</td><td>male</td><td>71</td><td>07-12-2021 20:15</td><td>20-05-2020</td><td>null</td><td>11</td><td>568.92</td><td>Artist</td><td>Swimming</td><td>TRUE</td></tr><tr><td>amxj944</td><td>John Walker</td><td>johnwalker944@slingacademy.com</td><td>27265 Murray Island Kevinfort, PA 63231</td><td>male</td><td>44</td><td>07-12-2022 20:15</td><td>04-04-2020</td><td>null</td><td>11</td><td>497.12</td><td>Clerk</td><td>Painting</td><td>FALSE</td></tr><tr><td>amxer176</td><td>Eric Carter</td><td>ericcarter176@slingacademy.com</td><td>USNS Knight FPO AA 76532</td><td>male</td><td>38</td><td>07-12-2022 20:15</td><td>30-01-2019</td><td>null</td><td>17</td><td>834.6</td><td>Butcher</td><td>Playing musical instruments</td><td>FALSE</td></tr><tr><td>amxwi427</td><td>William Jackson</td><td>williamjackson427@slingacademy.com</td><td>170 Jackson Loaf Kristenland, AS 48876</td><td>male</td><td>58</td><td>10-12-2022 20:15</td><td>01-07-2022</td><td>null</td><td>14</td><td>151.59</td><td>Engineer</td><td>Reading</td><td>FALSE</td></tr><tr><td>amxni228</td><td>Nicole Jones</td><td>nicolejones228@slingacademy.com</td><td>14354 Baker Harbor Apt. 017 Ericville, HI 11192</td><td>female</td><td>33</td><td>07-12-2022 20:15</td><td>07-08-2021</td><td>null</td><td>19</td><td>33.17</td><td>Unemployed</td><td>Running</td><td>TRUE</td></tr><tr><td>amxda980</td><td>David Davis</td><td>daviddavis980@slingacademy.com</td><td>021 Katherine Mall Jameston, DC 24685</td><td>male</td><td>59</td><td>07-12-2022 20:15</td><td>16-06-2022</td><td>null</td><td>9</td><td>970.96</td><td>Doctor</td><td>Playing sports</td><td>FALSE</td></tr><tr><td>amxja889</td><td>Jason Montgomery</td><td>jasonmontgomery889@slingacademy.com</td><td>14657 Scott Loop Apt. 735 Port Ashley, NH 34470</td><td>male</td><td>58</td><td>07-12-2023 20:15</td><td>13-11-2021</td><td>null</td><td>12</td><td>676.2</td><td>Waitress</td><td>Collecting</td><td>FALSE</td></tr><tr><td>amxke695</td><td>Kent Weaver</td><td>kentweaver695@slingacademy.com</td><td>6644 Mitchell Burg Victorhaven, KS 66356</td><td>male</td><td>61</td><td>07-01-2022 20:15</td><td>11-06-2023</td><td>null</td><td>1</td><td>674.37</td><td>Clerk</td><td>Hiking</td><td>FALSE</td></tr><tr><td>amxda573</td><td>Darrell Dillon</td><td>darrelldillon573@slingacademy.com</td><td>PSC 7267, Box 9911 APO AE 49343</td><td>male</td><td>50</td><td>07-0-2022 20:15</td><td>13-09-2022</td><td>null</td><td>12</td><td>750.72</td><td>Dentist</td><td>Watching movies</td><td>FALSE</td></tr><tr><td>amxja322</td><td>Jacqueline Wang</td><td>jacquelinewang322@slingacademy.com</td><td>16963 Stewart Curve Suite 27 South Cameron, ND 25136</td><td>female</td><td>22</td><td>07-12-2022 20:15</td><td>08-02-2023</td><td>null</td><td>12</td><td>962.47</td><td>Housewife</td><td>Collecting</td><td>FALSE</td></tr><tr><td>amxjo185</td><td>Jodi Gonzalez</td><td>jodigonzalez185@slingacademy.com</td><td>378 Johnson Oval South Stacie, RI 76332</td><td>female</td><td>69</td><td>07-12-2022 20:15</td><td>25-06-2021</td><td>null</td><td>12</td><td>68.67</td><td>Baker</td><td>Photography</td><td>FALSE</td></tr><tr><td>amxom769</td><td>Omar Martin</td><td>omarmartin769@slingacademy.com</td><td>Unit 9103 Box 4771 DPO AA 16592</td><td>male</td><td>28</td><td>07-12-2022 20:15</td><td>28-05-2023</td><td>null</td><td>3</td><td>162.58</td><td>Doctor</td><td>Gardening</td><td>TRUE</td></tr><tr><td>amxni473</td><td>Nicole Lara</td><td>nicolelara473@slingacademy.com</td><td>9822 Lisa Courts Johnhaven, IL 80438</td><td>female</td><td>77</td><td>07-01-2022 20:15</td><td>03-03-2023</td><td>null</td><td>17</td><td>309.81</td><td>Janitor</td><td>Hiking</td><td>TRUE</td></tr><tr><td>amxja753</td><td>Jason Brown</td><td>jasonbrown753@slingacademy.com</td><td>7310 Romero Summit East Scotttown, DC 53183</td><td>male</td><td>63</td><td>07-14-2022  20:15:39</td><td>05-12-2022</td><td>null</td><td>13</td><td>763.27</td><td>Lawyer</td><td>Fishing</td><td>TRUE</td></tr><tr><td>amxda257</td><td>David Benson</td><td>davidbenson257@slingacademy.com</td><td>444 Derek Summit Lisaborough, WA 20685</td><td>male</td><td>61</td><td>07-12-2022 20:15</td><td>15-04-2022</td><td>null</td><td>17</td><td>111.11</td><td>Lawyer</td><td>Meditation</td><td>TRUE</td></tr><tr><td>amxki513</td><td>Kimberly Mora</td><td>kimberlymora513@slingacademy.com</td><td>7679 Perry Square West Amybury, RI 15144</td><td>female</td><td>34</td><td>07-12-2022 20:15</td><td>19-05-2019</td><td>null</td><td>10</td><td>208.46</td><td>Farmer</td><td>Collecting</td><td>FALSE</td></tr><tr><td>amxer904</td><td>Erik Macias</td><td>erikmacias904@wingacademy.com</td><td>568 Christopher Tunnel Toddburgh, DE 86966</td><td>male</td><td>25</td><td>07-12-2022 20:15</td><td>18-04-2020</td><td>null</td><td>8</td><td>439.53</td><td>Accountant</td><td>Fishing</td><td>FALSE</td></tr><tr><td>amxja681</td><td>James Johnson</td><td>jamesjohnson681@wingacademy.com</td><td>19870 Sean Parkway North Jamesfurt, NC 28950</td><td>male</td><td>67</td><td>07-08-2022 20:15</td><td>17-02-2019</td><td>null</td><td>5</td><td>394.95</td><td>Security Guard</td><td>Watching movies</td><td>FALSE</td></tr><tr><td>amxde324</td><td>Derek Peterson</td><td>derekpeterson324@wingacademy.com</td><td>70830 Jonathan Pine Wilcoxburgh, MI 38265</td><td>male</td><td>36</td><td>07-12-2022 20:15</td><td>15-12-2020</td><td>null</td><td>2</td><td>153.8</td><td>Architect</td><td>Photography</td><td>TRUE</td></tr><tr><td>amxdi438</td><td>Diane Henson</td><td>dianehenson438@wingacademy.com</td><td>86382 Baker Ports Apt. 074 Cookfurt, NM 54313</td><td>female</td><td>74</td><td>07-12-2022 20:15</td><td>21-03-2020</td><td>null</td><td>19</td><td>62.52</td><td>Butcher</td><td>Playing musical instruments</td><td>FALSE</td></tr><tr><td>amxco721</td><td>Cody Lyons</td><td>codylyons721@wingacademy.com</td><td>60971 Carrillo Square Suite 141 New Kimberlybury, AS 02128</td><td>male</td><td>47</td><td>07-12-2022 20:15</td><td>25-11-2019</td><td>null</td><td>14</td><td>43.17</td><td>Baker</td><td>Hunting</td><td>FALSE</td></tr><tr><td>amxma249</td><td>Margaret Hardy</td><td>margarethardy249@wingacademy.com</td><td>2900 Sandra Villages Apt. 985 Phillipsstad, NH 19830</td><td>female</td><td>25</td><td>07-12-2022 20:15</td><td>17-07-2021</td><td>null</td><td>9</td><td>455.27</td><td>Barber</td><td>Other</td><td>FALSE</td></tr><tr><td>amxar881</td><td>Arthur Hayes</td><td>arthurhayes881@wingacademy.com</td><td>353 Elizabeth Forest Deannachester, NM 66952</td><td>male</td><td>75</td><td>07-15-2022  20:15:39</td><td>01-04-2021</td><td>null</td><td>6</td><td>749.78</td><td>Chef</td><td>Sewing</td><td>FALSE</td></tr><tr><td>amxra702</td><td>Raymond Taylor</td><td>raymondtaylor702@wingacademy.com</td><td>07867 John Mills Apt. 985 Tinaville, ID 59142</td><td>male</td><td>36</td><td>07-12-2022 20:15</td><td>24-09-2021</td><td>null</td><td>6</td><td>125.18</td><td>Butcher</td><td>Playing musical instruments</td><td>FALSE</td></tr><tr><td>amxti476</td><td>Tina Moore</td><td>tinamoore476@wingacademy.com</td><td>50984 Shelly Pass Port Nicholas, SC 48629</td><td>female</td><td>34</td><td>07-12-2022 20:15</td><td>15-07-2020</td><td>null</td><td>17</td><td>888.53</td><td>Chef</td><td>Running</td><td>FALSE</td></tr><tr><td>amxky170</td><td>Kylie White</td><td>kyliewhite170@wingacademy.com</td><td>5004 Christine Falls Suite 217 Jasonburgh, NJ 75688</td><td>female</td><td>63</td><td>07-12-2022 20:15</td><td>03-02-2020</td><td>null</td><td>6</td><td>872.18</td><td>Janitor</td><td>Reading</td><td>TRUE</td></tr><tr><td>amxjo648</td><td>Jonathan Manning</td><td>jonathanmanning648@wingacademy.com</td><td>1501 Gregory Glens Suite 940 Stephensstad, GU 55206</td><td>male</td><td>30</td><td>07-12-2022 20:15</td><td>21-01-2022</td><td>null</td><td>0</td><td>178.54</td><td>Librarian</td><td>Playing sports</td><td>FALSE</td></tr><tr><td>amxan256</td><td>Angela Bryant</td><td>angelabryant256@wingacademy.com</td><td>01454 Christopher Turnpike North Ryanstad, MI 36226</td><td>female</td><td>23</td><td>07-12-2022 20:15</td><td>11-09-2019</td><td>null</td><td>3</td><td>525.2</td><td>Politician</td><td>Cycling</td><td>FALSE</td></tr></tbody></table></div>"
      ]
     },
     "metadata": {
      "application/vnd.databricks.v1+output": {
       "addedWidgets": {},
       "aggData": [],
       "aggError": "",
       "aggOverflow": false,
       "aggSchema": [],
       "aggSeriesLimitReached": false,
       "aggType": "",
       "arguments": {},
       "columnCustomDisplayInfos": {},
       "data": [
        [
         "amxjo131",
         "Joseph Rice",
         "josephrice131@slingacademy.com",
         "91773 Miller Shoal Diaztown, FL 38841",
         "male",
         "43",
         "07-12-2022 20:15",
         "05-05-2019",
         null,
         "7",
         "568.29",
         "Artist",
         "Playing sports",
         "FALSE"
        ],
        [
         "amxga386",
         "Gary Moore",
         "garymoore386@slingacademy.com",
         "6450 John Lodge Territon, KY 95945",
         "male",
         "71",
         "07-12-2021 20:15",
         "20-05-2020",
         null,
         "11",
         "568.92",
         "Artist",
         "Swimming",
         "TRUE"
        ],
        [
         "amxj944",
         "John Walker",
         "johnwalker944@slingacademy.com",
         "27265 Murray Island Kevinfort, PA 63231",
         "male",
         "44",
         "07-12-2022 20:15",
         "04-04-2020",
         null,
         "11",
         "497.12",
         "Clerk",
         "Painting",
         "FALSE"
        ],
        [
         "amxer176",
         "Eric Carter",
         "ericcarter176@slingacademy.com",
         "USNS Knight FPO AA 76532",
         "male",
         "38",
         "07-12-2022 20:15",
         "30-01-2019",
         null,
         "17",
         "834.6",
         "Butcher",
         "Playing musical instruments",
         "FALSE"
        ],
        [
         "amxwi427",
         "William Jackson",
         "williamjackson427@slingacademy.com",
         "170 Jackson Loaf Kristenland, AS 48876",
         "male",
         "58",
         "10-12-2022 20:15",
         "01-07-2022",
         null,
         "14",
         "151.59",
         "Engineer",
         "Reading",
         "FALSE"
        ],
        [
         "amxni228",
         "Nicole Jones",
         "nicolejones228@slingacademy.com",
         "14354 Baker Harbor Apt. 017 Ericville, HI 11192",
         "female",
         "33",
         "07-12-2022 20:15",
         "07-08-2021",
         null,
         "19",
         "33.17",
         "Unemployed",
         "Running",
         "TRUE"
        ],
        [
         "amxda980",
         "David Davis",
         "daviddavis980@slingacademy.com",
         "021 Katherine Mall Jameston, DC 24685",
         "male",
         "59",
         "07-12-2022 20:15",
         "16-06-2022",
         null,
         "9",
         "970.96",
         "Doctor",
         "Playing sports",
         "FALSE"
        ],
        [
         "amxja889",
         "Jason Montgomery",
         "jasonmontgomery889@slingacademy.com",
         "14657 Scott Loop Apt. 735 Port Ashley, NH 34470",
         "male",
         "58",
         "07-12-2023 20:15",
         "13-11-2021",
         null,
         "12",
         "676.2",
         "Waitress",
         "Collecting",
         "FALSE"
        ],
        [
         "amxke695",
         "Kent Weaver",
         "kentweaver695@slingacademy.com",
         "6644 Mitchell Burg Victorhaven, KS 66356",
         "male",
         "61",
         "07-01-2022 20:15",
         "11-06-2023",
         null,
         "1",
         "674.37",
         "Clerk",
         "Hiking",
         "FALSE"
        ],
        [
         "amxda573",
         "Darrell Dillon",
         "darrelldillon573@slingacademy.com",
         "PSC 7267, Box 9911 APO AE 49343",
         "male",
         "50",
         "07-0-2022 20:15",
         "13-09-2022",
         null,
         "12",
         "750.72",
         "Dentist",
         "Watching movies",
         "FALSE"
        ],
        [
         "amxja322",
         "Jacqueline Wang",
         "jacquelinewang322@slingacademy.com",
         "16963 Stewart Curve Suite 27 South Cameron, ND 25136",
         "female",
         "22",
         "07-12-2022 20:15",
         "08-02-2023",
         null,
         "12",
         "962.47",
         "Housewife",
         "Collecting",
         "FALSE"
        ],
        [
         "amxjo185",
         "Jodi Gonzalez",
         "jodigonzalez185@slingacademy.com",
         "378 Johnson Oval South Stacie, RI 76332",
         "female",
         "69",
         "07-12-2022 20:15",
         "25-06-2021",
         null,
         "12",
         "68.67",
         "Baker",
         "Photography",
         "FALSE"
        ],
        [
         "amxom769",
         "Omar Martin",
         "omarmartin769@slingacademy.com",
         "Unit 9103 Box 4771 DPO AA 16592",
         "male",
         "28",
         "07-12-2022 20:15",
         "28-05-2023",
         null,
         "3",
         "162.58",
         "Doctor",
         "Gardening",
         "TRUE"
        ],
        [
         "amxni473",
         "Nicole Lara",
         "nicolelara473@slingacademy.com",
         "9822 Lisa Courts Johnhaven, IL 80438",
         "female",
         "77",
         "07-01-2022 20:15",
         "03-03-2023",
         null,
         "17",
         "309.81",
         "Janitor",
         "Hiking",
         "TRUE"
        ],
        [
         "amxja753",
         "Jason Brown",
         "jasonbrown753@slingacademy.com",
         "7310 Romero Summit East Scotttown, DC 53183",
         "male",
         "63",
         "07-14-2022  20:15:39",
         "05-12-2022",
         null,
         "13",
         "763.27",
         "Lawyer",
         "Fishing",
         "TRUE"
        ],
        [
         "amxda257",
         "David Benson",
         "davidbenson257@slingacademy.com",
         "444 Derek Summit Lisaborough, WA 20685",
         "male",
         "61",
         "07-12-2022 20:15",
         "15-04-2022",
         null,
         "17",
         "111.11",
         "Lawyer",
         "Meditation",
         "TRUE"
        ],
        [
         "amxki513",
         "Kimberly Mora",
         "kimberlymora513@slingacademy.com",
         "7679 Perry Square West Amybury, RI 15144",
         "female",
         "34",
         "07-12-2022 20:15",
         "19-05-2019",
         null,
         "10",
         "208.46",
         "Farmer",
         "Collecting",
         "FALSE"
        ],
        [
         "amxer904",
         "Erik Macias",
         "erikmacias904@wingacademy.com",
         "568 Christopher Tunnel Toddburgh, DE 86966",
         "male",
         "25",
         "07-12-2022 20:15",
         "18-04-2020",
         null,
         "8",
         "439.53",
         "Accountant",
         "Fishing",
         "FALSE"
        ],
        [
         "amxja681",
         "James Johnson",
         "jamesjohnson681@wingacademy.com",
         "19870 Sean Parkway North Jamesfurt, NC 28950",
         "male",
         "67",
         "07-08-2022 20:15",
         "17-02-2019",
         null,
         "5",
         "394.95",
         "Security Guard",
         "Watching movies",
         "FALSE"
        ],
        [
         "amxde324",
         "Derek Peterson",
         "derekpeterson324@wingacademy.com",
         "70830 Jonathan Pine Wilcoxburgh, MI 38265",
         "male",
         "36",
         "07-12-2022 20:15",
         "15-12-2020",
         null,
         "2",
         "153.8",
         "Architect",
         "Photography",
         "TRUE"
        ],
        [
         "amxdi438",
         "Diane Henson",
         "dianehenson438@wingacademy.com",
         "86382 Baker Ports Apt. 074 Cookfurt, NM 54313",
         "female",
         "74",
         "07-12-2022 20:15",
         "21-03-2020",
         null,
         "19",
         "62.52",
         "Butcher",
         "Playing musical instruments",
         "FALSE"
        ],
        [
         "amxco721",
         "Cody Lyons",
         "codylyons721@wingacademy.com",
         "60971 Carrillo Square Suite 141 New Kimberlybury, AS 02128",
         "male",
         "47",
         "07-12-2022 20:15",
         "25-11-2019",
         null,
         "14",
         "43.17",
         "Baker",
         "Hunting",
         "FALSE"
        ],
        [
         "amxma249",
         "Margaret Hardy",
         "margarethardy249@wingacademy.com",
         "2900 Sandra Villages Apt. 985 Phillipsstad, NH 19830",
         "female",
         "25",
         "07-12-2022 20:15",
         "17-07-2021",
         null,
         "9",
         "455.27",
         "Barber",
         "Other",
         "FALSE"
        ],
        [
         "amxar881",
         "Arthur Hayes",
         "arthurhayes881@wingacademy.com",
         "353 Elizabeth Forest Deannachester, NM 66952",
         "male",
         "75",
         "07-15-2022  20:15:39",
         "01-04-2021",
         null,
         "6",
         "749.78",
         "Chef",
         "Sewing",
         "FALSE"
        ],
        [
         "amxra702",
         "Raymond Taylor",
         "raymondtaylor702@wingacademy.com",
         "07867 John Mills Apt. 985 Tinaville, ID 59142",
         "male",
         "36",
         "07-12-2022 20:15",
         "24-09-2021",
         null,
         "6",
         "125.18",
         "Butcher",
         "Playing musical instruments",
         "FALSE"
        ],
        [
         "amxti476",
         "Tina Moore",
         "tinamoore476@wingacademy.com",
         "50984 Shelly Pass Port Nicholas, SC 48629",
         "female",
         "34",
         "07-12-2022 20:15",
         "15-07-2020",
         null,
         "17",
         "888.53",
         "Chef",
         "Running",
         "FALSE"
        ],
        [
         "amxky170",
         "Kylie White",
         "kyliewhite170@wingacademy.com",
         "5004 Christine Falls Suite 217 Jasonburgh, NJ 75688",
         "female",
         "63",
         "07-12-2022 20:15",
         "03-02-2020",
         null,
         "6",
         "872.18",
         "Janitor",
         "Reading",
         "TRUE"
        ],
        [
         "amxjo648",
         "Jonathan Manning",
         "jonathanmanning648@wingacademy.com",
         "1501 Gregory Glens Suite 940 Stephensstad, GU 55206",
         "male",
         "30",
         "07-12-2022 20:15",
         "21-01-2022",
         null,
         "0",
         "178.54",
         "Librarian",
         "Playing sports",
         "FALSE"
        ],
        [
         "amxan256",
         "Angela Bryant",
         "angelabryant256@wingacademy.com",
         "01454 Christopher Turnpike North Ryanstad, MI 36226",
         "female",
         "23",
         "07-12-2022 20:15",
         "11-09-2019",
         null,
         "3",
         "525.2",
         "Politician",
         "Cycling",
         "FALSE"
        ]
       ],
       "datasetInfos": [],
       "dbfsResultPath": null,
       "isJsonSchema": true,
       "metadata": {},
       "overflow": false,
       "plotOptions": {
        "customPlotOptions": {},
        "displayType": "table",
        "pivotAggregation": null,
        "pivotColumns": null,
        "xColumns": null,
        "yColumns": null
       },
       "removedWidgets": [],
       "schema": [
        {
         "metadata": "{}",
         "name": "CUSTOMER ID",
         "type": "\"string\""
        },
        {
         "metadata": "{}",
         "name": "NAME",
         "type": "\"string\""
        },
        {
         "metadata": "{}",
         "name": "EMAIL ID",
         "type": "\"string\""
        },
        {
         "metadata": "{}",
         "name": "ADDRESS",
         "type": "\"string\""
        },
        {
         "metadata": "{}",
         "name": "GENDER",
         "type": "\"string\""
        },
        {
         "metadata": "{}",
         "name": "AGE",
         "type": "\"string\""
        },
        {
         "metadata": "{}",
         "name": "JOINING DATE",
         "type": "\"string\""
        },
        {
         "metadata": "{}",
         "name": "REGISTERED",
         "type": "\"string\""
        },
        {
         "metadata": "{}",
         "name": "ORDER ID",
         "type": "\"string\""
        },
        {
         "metadata": "{}",
         "name": "ORDERS",
         "type": "\"string\""
        },
        {
         "metadata": "{}",
         "name": "SPENT",
         "type": "\"string\""
        },
        {
         "metadata": "{}",
         "name": "JOB",
         "type": "\"string\""
        },
        {
         "metadata": "{}",
         "name": "HOBBIES",
         "type": "\"string\""
        },
        {
         "metadata": "{}",
         "name": "IS_MARRIED",
         "type": "\"string\""
        }
       ],
       "type": "table"
      }
     },
     "output_type": "display_data"
    }
   ],
   "source": [
    "df_upper = df.toDF(*[col.upper() for col in df.columns])\n",
    "display(df_upper)"
   ]
  },
  {
   "cell_type": "code",
   "execution_count": 0,
   "metadata": {
    "application/vnd.databricks.v1+cell": {
     "cellMetadata": {
      "byteLimit": 2048000,
      "rowLimit": 10000
     },
     "inputWidgets": {},
     "nuid": "f1f66a58-ad3e-49ea-9c5f-1c8b3ebd3cbb",
     "showTitle": false,
     "title": ""
    }
   },
   "outputs": [
    {
     "output_type": "display_data",
     "data": {
      "text/html": [
       "<style scoped>\n",
       "  .table-result-container {\n",
       "    max-height: 300px;\n",
       "    overflow: auto;\n",
       "  }\n",
       "  table, th, td {\n",
       "    border: 1px solid black;\n",
       "    border-collapse: collapse;\n",
       "  }\n",
       "  th, td {\n",
       "    padding: 5px;\n",
       "  }\n",
       "  th {\n",
       "    text-align: left;\n",
       "  }\n",
       "</style><div class='table-result-container'><table class='table-result'><thead style='background-color: white'><tr><th>Customer Id</th><th>Email Id</th><th>address</th><th>gender</th><th>age</th><th>Joining Date</th><th>registered</th><th>order ID</th><th>orders</th><th>spent</th><th>job</th><th>hobbies</th><th>is_married</th><th>first_name</th><th>last_name</th></tr></thead><tbody><tr><td>amxjo131</td><td>josephrice131@slingacademy.com</td><td>91773 Miller Shoal Diaztown, FL 38841</td><td>male</td><td>43</td><td>07-12-2022 20:15</td><td>05-05-2019</td><td>null</td><td>7</td><td>568.29</td><td>Artist</td><td>Playing sports</td><td>FALSE</td><td>Joseph</td><td>Rice</td></tr><tr><td>amxga386</td><td>garymoore386@slingacademy.com</td><td>6450 John Lodge Territon, KY 95945</td><td>male</td><td>71</td><td>07-12-2021 20:15</td><td>20-05-2020</td><td>null</td><td>11</td><td>568.92</td><td>Artist</td><td>Swimming</td><td>TRUE</td><td>Gary</td><td>Moore</td></tr><tr><td>amxj944</td><td>johnwalker944@slingacademy.com</td><td>27265 Murray Island Kevinfort, PA 63231</td><td>male</td><td>44</td><td>07-12-2022 20:15</td><td>04-04-2020</td><td>null</td><td>11</td><td>497.12</td><td>Clerk</td><td>Painting</td><td>FALSE</td><td>John</td><td>Walker</td></tr><tr><td>amxer176</td><td>ericcarter176@slingacademy.com</td><td>USNS Knight FPO AA 76532</td><td>male</td><td>38</td><td>07-12-2022 20:15</td><td>30-01-2019</td><td>null</td><td>17</td><td>834.6</td><td>Butcher</td><td>Playing musical instruments</td><td>FALSE</td><td>Eric</td><td>Carter</td></tr><tr><td>amxwi427</td><td>williamjackson427@slingacademy.com</td><td>170 Jackson Loaf Kristenland, AS 48876</td><td>male</td><td>58</td><td>10-12-2022 20:15</td><td>01-07-2022</td><td>null</td><td>14</td><td>151.59</td><td>Engineer</td><td>Reading</td><td>FALSE</td><td>William</td><td>Jackson</td></tr><tr><td>amxni228</td><td>nicolejones228@slingacademy.com</td><td>14354 Baker Harbor Apt. 017 Ericville, HI 11192</td><td>female</td><td>33</td><td>07-12-2022 20:15</td><td>07-08-2021</td><td>null</td><td>19</td><td>33.17</td><td>Unemployed</td><td>Running</td><td>TRUE</td><td>Nicole</td><td>Jones</td></tr><tr><td>amxda980</td><td>daviddavis980@slingacademy.com</td><td>021 Katherine Mall Jameston, DC 24685</td><td>male</td><td>59</td><td>07-12-2022 20:15</td><td>16-06-2022</td><td>null</td><td>9</td><td>970.96</td><td>Doctor</td><td>Playing sports</td><td>FALSE</td><td>David</td><td>Davis</td></tr><tr><td>amxja889</td><td>jasonmontgomery889@slingacademy.com</td><td>14657 Scott Loop Apt. 735 Port Ashley, NH 34470</td><td>male</td><td>58</td><td>07-12-2023 20:15</td><td>13-11-2021</td><td>null</td><td>12</td><td>676.2</td><td>Waitress</td><td>Collecting</td><td>FALSE</td><td>Jason</td><td>Montgomery</td></tr><tr><td>amxke695</td><td>kentweaver695@slingacademy.com</td><td>6644 Mitchell Burg Victorhaven, KS 66356</td><td>male</td><td>61</td><td>07-01-2022 20:15</td><td>11-06-2023</td><td>null</td><td>1</td><td>674.37</td><td>Clerk</td><td>Hiking</td><td>FALSE</td><td>Kent</td><td>Weaver</td></tr><tr><td>amxda573</td><td>darrelldillon573@slingacademy.com</td><td>PSC 7267, Box 9911 APO AE 49343</td><td>male</td><td>50</td><td>07-0-2022 20:15</td><td>13-09-2022</td><td>null</td><td>12</td><td>750.72</td><td>Dentist</td><td>Watching movies</td><td>FALSE</td><td>Darrell</td><td>Dillon</td></tr><tr><td>amxja322</td><td>jacquelinewang322@slingacademy.com</td><td>16963 Stewart Curve Suite 27 South Cameron, ND 25136</td><td>female</td><td>22</td><td>07-12-2022 20:15</td><td>08-02-2023</td><td>null</td><td>12</td><td>962.47</td><td>Housewife</td><td>Collecting</td><td>FALSE</td><td>Jacqueline</td><td>Wang</td></tr><tr><td>amxjo185</td><td>jodigonzalez185@slingacademy.com</td><td>378 Johnson Oval South Stacie, RI 76332</td><td>female</td><td>69</td><td>07-12-2022 20:15</td><td>25-06-2021</td><td>null</td><td>12</td><td>68.67</td><td>Baker</td><td>Photography</td><td>FALSE</td><td>Jodi</td><td>Gonzalez</td></tr><tr><td>amxom769</td><td>omarmartin769@slingacademy.com</td><td>Unit 9103 Box 4771 DPO AA 16592</td><td>male</td><td>28</td><td>07-12-2022 20:15</td><td>28-05-2023</td><td>null</td><td>3</td><td>162.58</td><td>Doctor</td><td>Gardening</td><td>TRUE</td><td>Omar</td><td>Martin</td></tr><tr><td>amxni473</td><td>nicolelara473@slingacademy.com</td><td>9822 Lisa Courts Johnhaven, IL 80438</td><td>female</td><td>77</td><td>07-01-2022 20:15</td><td>03-03-2023</td><td>null</td><td>17</td><td>309.81</td><td>Janitor</td><td>Hiking</td><td>TRUE</td><td>Nicole</td><td>Lara</td></tr><tr><td>amxja753</td><td>jasonbrown753@slingacademy.com</td><td>7310 Romero Summit East Scotttown, DC 53183</td><td>male</td><td>63</td><td>07-14-2022  20:15:39</td><td>05-12-2022</td><td>null</td><td>13</td><td>763.27</td><td>Lawyer</td><td>Fishing</td><td>TRUE</td><td>Jason</td><td>Brown</td></tr><tr><td>amxda257</td><td>davidbenson257@slingacademy.com</td><td>444 Derek Summit Lisaborough, WA 20685</td><td>male</td><td>61</td><td>07-12-2022 20:15</td><td>15-04-2022</td><td>null</td><td>17</td><td>111.11</td><td>Lawyer</td><td>Meditation</td><td>TRUE</td><td>David</td><td>Benson</td></tr><tr><td>amxki513</td><td>kimberlymora513@slingacademy.com</td><td>7679 Perry Square West Amybury, RI 15144</td><td>female</td><td>34</td><td>07-12-2022 20:15</td><td>19-05-2019</td><td>null</td><td>10</td><td>208.46</td><td>Farmer</td><td>Collecting</td><td>FALSE</td><td>Kimberly</td><td>Mora</td></tr><tr><td>amxer904</td><td>erikmacias904@wingacademy.com</td><td>568 Christopher Tunnel Toddburgh, DE 86966</td><td>male</td><td>25</td><td>07-12-2022 20:15</td><td>18-04-2020</td><td>null</td><td>8</td><td>439.53</td><td>Accountant</td><td>Fishing</td><td>FALSE</td><td>Erik</td><td>Macias</td></tr><tr><td>amxja681</td><td>jamesjohnson681@wingacademy.com</td><td>19870 Sean Parkway North Jamesfurt, NC 28950</td><td>male</td><td>67</td><td>07-08-2022 20:15</td><td>17-02-2019</td><td>null</td><td>5</td><td>394.95</td><td>Security Guard</td><td>Watching movies</td><td>FALSE</td><td>James</td><td>Johnson</td></tr><tr><td>amxde324</td><td>derekpeterson324@wingacademy.com</td><td>70830 Jonathan Pine Wilcoxburgh, MI 38265</td><td>male</td><td>36</td><td>07-12-2022 20:15</td><td>15-12-2020</td><td>null</td><td>2</td><td>153.8</td><td>Architect</td><td>Photography</td><td>TRUE</td><td>Derek</td><td>Peterson</td></tr><tr><td>amxdi438</td><td>dianehenson438@wingacademy.com</td><td>86382 Baker Ports Apt. 074 Cookfurt, NM 54313</td><td>female</td><td>74</td><td>07-12-2022 20:15</td><td>21-03-2020</td><td>null</td><td>19</td><td>62.52</td><td>Butcher</td><td>Playing musical instruments</td><td>FALSE</td><td>Diane</td><td>Henson</td></tr><tr><td>amxco721</td><td>codylyons721@wingacademy.com</td><td>60971 Carrillo Square Suite 141 New Kimberlybury, AS 02128</td><td>male</td><td>47</td><td>07-12-2022 20:15</td><td>25-11-2019</td><td>null</td><td>14</td><td>43.17</td><td>Baker</td><td>Hunting</td><td>FALSE</td><td>Cody</td><td>Lyons</td></tr><tr><td>amxma249</td><td>margarethardy249@wingacademy.com</td><td>2900 Sandra Villages Apt. 985 Phillipsstad, NH 19830</td><td>female</td><td>25</td><td>07-12-2022 20:15</td><td>17-07-2021</td><td>null</td><td>9</td><td>455.27</td><td>Barber</td><td>Other</td><td>FALSE</td><td>Margaret</td><td>Hardy</td></tr><tr><td>amxar881</td><td>arthurhayes881@wingacademy.com</td><td>353 Elizabeth Forest Deannachester, NM 66952</td><td>male</td><td>75</td><td>07-15-2022  20:15:39</td><td>01-04-2021</td><td>null</td><td>6</td><td>749.78</td><td>Chef</td><td>Sewing</td><td>FALSE</td><td>Arthur</td><td>Hayes</td></tr><tr><td>amxra702</td><td>raymondtaylor702@wingacademy.com</td><td>07867 John Mills Apt. 985 Tinaville, ID 59142</td><td>male</td><td>36</td><td>07-12-2022 20:15</td><td>24-09-2021</td><td>null</td><td>6</td><td>125.18</td><td>Butcher</td><td>Playing musical instruments</td><td>FALSE</td><td>Raymond</td><td>Taylor</td></tr><tr><td>amxti476</td><td>tinamoore476@wingacademy.com</td><td>50984 Shelly Pass Port Nicholas, SC 48629</td><td>female</td><td>34</td><td>07-12-2022 20:15</td><td>15-07-2020</td><td>null</td><td>17</td><td>888.53</td><td>Chef</td><td>Running</td><td>FALSE</td><td>Tina</td><td>Moore</td></tr><tr><td>amxky170</td><td>kyliewhite170@wingacademy.com</td><td>5004 Christine Falls Suite 217 Jasonburgh, NJ 75688</td><td>female</td><td>63</td><td>07-12-2022 20:15</td><td>03-02-2020</td><td>null</td><td>6</td><td>872.18</td><td>Janitor</td><td>Reading</td><td>TRUE</td><td>Kylie</td><td>White</td></tr><tr><td>amxjo648</td><td>jonathanmanning648@wingacademy.com</td><td>1501 Gregory Glens Suite 940 Stephensstad, GU 55206</td><td>male</td><td>30</td><td>07-12-2022 20:15</td><td>21-01-2022</td><td>null</td><td>0</td><td>178.54</td><td>Librarian</td><td>Playing sports</td><td>FALSE</td><td>Jonathan</td><td>Manning</td></tr><tr><td>amxan256</td><td>angelabryant256@wingacademy.com</td><td>01454 Christopher Turnpike North Ryanstad, MI 36226</td><td>female</td><td>23</td><td>07-12-2022 20:15</td><td>11-09-2019</td><td>null</td><td>3</td><td>525.2</td><td>Politician</td><td>Cycling</td><td>FALSE</td><td>Angela</td><td>Bryant</td></tr></tbody></table></div>"
      ]
     },
     "metadata": {
      "application/vnd.databricks.v1+output": {
       "addedWidgets": {},
       "aggData": [],
       "aggError": "",
       "aggOverflow": false,
       "aggSchema": [],
       "aggSeriesLimitReached": false,
       "aggType": "",
       "arguments": {},
       "columnCustomDisplayInfos": {},
       "data": [
        [
         "amxjo131",
         "josephrice131@slingacademy.com",
         "91773 Miller Shoal Diaztown, FL 38841",
         "male",
         "43",
         "07-12-2022 20:15",
         "05-05-2019",
         null,
         "7",
         "568.29",
         "Artist",
         "Playing sports",
         "FALSE",
         "Joseph",
         "Rice"
        ],
        [
         "amxga386",
         "garymoore386@slingacademy.com",
         "6450 John Lodge Territon, KY 95945",
         "male",
         "71",
         "07-12-2021 20:15",
         "20-05-2020",
         null,
         "11",
         "568.92",
         "Artist",
         "Swimming",
         "TRUE",
         "Gary",
         "Moore"
        ],
        [
         "amxj944",
         "johnwalker944@slingacademy.com",
         "27265 Murray Island Kevinfort, PA 63231",
         "male",
         "44",
         "07-12-2022 20:15",
         "04-04-2020",
         null,
         "11",
         "497.12",
         "Clerk",
         "Painting",
         "FALSE",
         "John",
         "Walker"
        ],
        [
         "amxer176",
         "ericcarter176@slingacademy.com",
         "USNS Knight FPO AA 76532",
         "male",
         "38",
         "07-12-2022 20:15",
         "30-01-2019",
         null,
         "17",
         "834.6",
         "Butcher",
         "Playing musical instruments",
         "FALSE",
         "Eric",
         "Carter"
        ],
        [
         "amxwi427",
         "williamjackson427@slingacademy.com",
         "170 Jackson Loaf Kristenland, AS 48876",
         "male",
         "58",
         "10-12-2022 20:15",
         "01-07-2022",
         null,
         "14",
         "151.59",
         "Engineer",
         "Reading",
         "FALSE",
         "William",
         "Jackson"
        ],
        [
         "amxni228",
         "nicolejones228@slingacademy.com",
         "14354 Baker Harbor Apt. 017 Ericville, HI 11192",
         "female",
         "33",
         "07-12-2022 20:15",
         "07-08-2021",
         null,
         "19",
         "33.17",
         "Unemployed",
         "Running",
         "TRUE",
         "Nicole",
         "Jones"
        ],
        [
         "amxda980",
         "daviddavis980@slingacademy.com",
         "021 Katherine Mall Jameston, DC 24685",
         "male",
         "59",
         "07-12-2022 20:15",
         "16-06-2022",
         null,
         "9",
         "970.96",
         "Doctor",
         "Playing sports",
         "FALSE",
         "David",
         "Davis"
        ],
        [
         "amxja889",
         "jasonmontgomery889@slingacademy.com",
         "14657 Scott Loop Apt. 735 Port Ashley, NH 34470",
         "male",
         "58",
         "07-12-2023 20:15",
         "13-11-2021",
         null,
         "12",
         "676.2",
         "Waitress",
         "Collecting",
         "FALSE",
         "Jason",
         "Montgomery"
        ],
        [
         "amxke695",
         "kentweaver695@slingacademy.com",
         "6644 Mitchell Burg Victorhaven, KS 66356",
         "male",
         "61",
         "07-01-2022 20:15",
         "11-06-2023",
         null,
         "1",
         "674.37",
         "Clerk",
         "Hiking",
         "FALSE",
         "Kent",
         "Weaver"
        ],
        [
         "amxda573",
         "darrelldillon573@slingacademy.com",
         "PSC 7267, Box 9911 APO AE 49343",
         "male",
         "50",
         "07-0-2022 20:15",
         "13-09-2022",
         null,
         "12",
         "750.72",
         "Dentist",
         "Watching movies",
         "FALSE",
         "Darrell",
         "Dillon"
        ],
        [
         "amxja322",
         "jacquelinewang322@slingacademy.com",
         "16963 Stewart Curve Suite 27 South Cameron, ND 25136",
         "female",
         "22",
         "07-12-2022 20:15",
         "08-02-2023",
         null,
         "12",
         "962.47",
         "Housewife",
         "Collecting",
         "FALSE",
         "Jacqueline",
         "Wang"
        ],
        [
         "amxjo185",
         "jodigonzalez185@slingacademy.com",
         "378 Johnson Oval South Stacie, RI 76332",
         "female",
         "69",
         "07-12-2022 20:15",
         "25-06-2021",
         null,
         "12",
         "68.67",
         "Baker",
         "Photography",
         "FALSE",
         "Jodi",
         "Gonzalez"
        ],
        [
         "amxom769",
         "omarmartin769@slingacademy.com",
         "Unit 9103 Box 4771 DPO AA 16592",
         "male",
         "28",
         "07-12-2022 20:15",
         "28-05-2023",
         null,
         "3",
         "162.58",
         "Doctor",
         "Gardening",
         "TRUE",
         "Omar",
         "Martin"
        ],
        [
         "amxni473",
         "nicolelara473@slingacademy.com",
         "9822 Lisa Courts Johnhaven, IL 80438",
         "female",
         "77",
         "07-01-2022 20:15",
         "03-03-2023",
         null,
         "17",
         "309.81",
         "Janitor",
         "Hiking",
         "TRUE",
         "Nicole",
         "Lara"
        ],
        [
         "amxja753",
         "jasonbrown753@slingacademy.com",
         "7310 Romero Summit East Scotttown, DC 53183",
         "male",
         "63",
         "07-14-2022  20:15:39",
         "05-12-2022",
         null,
         "13",
         "763.27",
         "Lawyer",
         "Fishing",
         "TRUE",
         "Jason",
         "Brown"
        ],
        [
         "amxda257",
         "davidbenson257@slingacademy.com",
         "444 Derek Summit Lisaborough, WA 20685",
         "male",
         "61",
         "07-12-2022 20:15",
         "15-04-2022",
         null,
         "17",
         "111.11",
         "Lawyer",
         "Meditation",
         "TRUE",
         "David",
         "Benson"
        ],
        [
         "amxki513",
         "kimberlymora513@slingacademy.com",
         "7679 Perry Square West Amybury, RI 15144",
         "female",
         "34",
         "07-12-2022 20:15",
         "19-05-2019",
         null,
         "10",
         "208.46",
         "Farmer",
         "Collecting",
         "FALSE",
         "Kimberly",
         "Mora"
        ],
        [
         "amxer904",
         "erikmacias904@wingacademy.com",
         "568 Christopher Tunnel Toddburgh, DE 86966",
         "male",
         "25",
         "07-12-2022 20:15",
         "18-04-2020",
         null,
         "8",
         "439.53",
         "Accountant",
         "Fishing",
         "FALSE",
         "Erik",
         "Macias"
        ],
        [
         "amxja681",
         "jamesjohnson681@wingacademy.com",
         "19870 Sean Parkway North Jamesfurt, NC 28950",
         "male",
         "67",
         "07-08-2022 20:15",
         "17-02-2019",
         null,
         "5",
         "394.95",
         "Security Guard",
         "Watching movies",
         "FALSE",
         "James",
         "Johnson"
        ],
        [
         "amxde324",
         "derekpeterson324@wingacademy.com",
         "70830 Jonathan Pine Wilcoxburgh, MI 38265",
         "male",
         "36",
         "07-12-2022 20:15",
         "15-12-2020",
         null,
         "2",
         "153.8",
         "Architect",
         "Photography",
         "TRUE",
         "Derek",
         "Peterson"
        ],
        [
         "amxdi438",
         "dianehenson438@wingacademy.com",
         "86382 Baker Ports Apt. 074 Cookfurt, NM 54313",
         "female",
         "74",
         "07-12-2022 20:15",
         "21-03-2020",
         null,
         "19",
         "62.52",
         "Butcher",
         "Playing musical instruments",
         "FALSE",
         "Diane",
         "Henson"
        ],
        [
         "amxco721",
         "codylyons721@wingacademy.com",
         "60971 Carrillo Square Suite 141 New Kimberlybury, AS 02128",
         "male",
         "47",
         "07-12-2022 20:15",
         "25-11-2019",
         null,
         "14",
         "43.17",
         "Baker",
         "Hunting",
         "FALSE",
         "Cody",
         "Lyons"
        ],
        [
         "amxma249",
         "margarethardy249@wingacademy.com",
         "2900 Sandra Villages Apt. 985 Phillipsstad, NH 19830",
         "female",
         "25",
         "07-12-2022 20:15",
         "17-07-2021",
         null,
         "9",
         "455.27",
         "Barber",
         "Other",
         "FALSE",
         "Margaret",
         "Hardy"
        ],
        [
         "amxar881",
         "arthurhayes881@wingacademy.com",
         "353 Elizabeth Forest Deannachester, NM 66952",
         "male",
         "75",
         "07-15-2022  20:15:39",
         "01-04-2021",
         null,
         "6",
         "749.78",
         "Chef",
         "Sewing",
         "FALSE",
         "Arthur",
         "Hayes"
        ],
        [
         "amxra702",
         "raymondtaylor702@wingacademy.com",
         "07867 John Mills Apt. 985 Tinaville, ID 59142",
         "male",
         "36",
         "07-12-2022 20:15",
         "24-09-2021",
         null,
         "6",
         "125.18",
         "Butcher",
         "Playing musical instruments",
         "FALSE",
         "Raymond",
         "Taylor"
        ],
        [
         "amxti476",
         "tinamoore476@wingacademy.com",
         "50984 Shelly Pass Port Nicholas, SC 48629",
         "female",
         "34",
         "07-12-2022 20:15",
         "15-07-2020",
         null,
         "17",
         "888.53",
         "Chef",
         "Running",
         "FALSE",
         "Tina",
         "Moore"
        ],
        [
         "amxky170",
         "kyliewhite170@wingacademy.com",
         "5004 Christine Falls Suite 217 Jasonburgh, NJ 75688",
         "female",
         "63",
         "07-12-2022 20:15",
         "03-02-2020",
         null,
         "6",
         "872.18",
         "Janitor",
         "Reading",
         "TRUE",
         "Kylie",
         "White"
        ],
        [
         "amxjo648",
         "jonathanmanning648@wingacademy.com",
         "1501 Gregory Glens Suite 940 Stephensstad, GU 55206",
         "male",
         "30",
         "07-12-2022 20:15",
         "21-01-2022",
         null,
         "0",
         "178.54",
         "Librarian",
         "Playing sports",
         "FALSE",
         "Jonathan",
         "Manning"
        ],
        [
         "amxan256",
         "angelabryant256@wingacademy.com",
         "01454 Christopher Turnpike North Ryanstad, MI 36226",
         "female",
         "23",
         "07-12-2022 20:15",
         "11-09-2019",
         null,
         "3",
         "525.2",
         "Politician",
         "Cycling",
         "FALSE",
         "Angela",
         "Bryant"
        ]
       ],
       "datasetInfos": [],
       "dbfsResultPath": null,
       "isJsonSchema": true,
       "metadata": {},
       "overflow": false,
       "plotOptions": {
        "customPlotOptions": {},
        "displayType": "table",
        "pivotAggregation": null,
        "pivotColumns": null,
        "xColumns": null,
        "yColumns": null
       },
       "removedWidgets": [],
       "schema": [
        {
         "metadata": "{}",
         "name": "Customer Id",
         "type": "\"string\""
        },
        {
         "metadata": "{}",
         "name": "Email Id",
         "type": "\"string\""
        },
        {
         "metadata": "{}",
         "name": "address",
         "type": "\"string\""
        },
        {
         "metadata": "{}",
         "name": "gender",
         "type": "\"string\""
        },
        {
         "metadata": "{}",
         "name": "age",
         "type": "\"string\""
        },
        {
         "metadata": "{}",
         "name": "Joining Date",
         "type": "\"string\""
        },
        {
         "metadata": "{}",
         "name": "registered",
         "type": "\"string\""
        },
        {
         "metadata": "{}",
         "name": "order ID",
         "type": "\"string\""
        },
        {
         "metadata": "{}",
         "name": "orders",
         "type": "\"string\""
        },
        {
         "metadata": "{}",
         "name": "spent",
         "type": "\"string\""
        },
        {
         "metadata": "{}",
         "name": "job",
         "type": "\"string\""
        },
        {
         "metadata": "{}",
         "name": "hobbies",
         "type": "\"string\""
        },
        {
         "metadata": "{}",
         "name": "is_married",
         "type": "\"string\""
        },
        {
         "metadata": "{}",
         "name": "first_name",
         "type": "\"string\""
        },
        {
         "metadata": "{}",
         "name": "last_name",
         "type": "\"string\""
        }
       ],
       "type": "table"
      }
     },
     "output_type": "display_data"
    }
   ],
   "source": [
    "split_df = df.withColumn(\"first_name\", split(df[\"name\"], \" \")[0]).withColumn(\"last_name\", split(df[\"name\"], \" \")[1]).drop(\"name\")\n",
    "display(split_df)"
   ]
  },
  {
   "cell_type": "code",
   "execution_count": 0,
   "metadata": {
    "application/vnd.databricks.v1+cell": {
     "cellMetadata": {
      "byteLimit": 2048000,
      "rowLimit": 10000
     },
     "inputWidgets": {},
     "nuid": "3e68bcd5-7f48-4009-9242-3df0bf975187",
     "showTitle": false,
     "title": ""
    }
   },
   "outputs": [
    {
     "output_type": "display_data",
     "data": {
      "text/html": [
       "<style scoped>\n",
       "  .table-result-container {\n",
       "    max-height: 300px;\n",
       "    overflow: auto;\n",
       "  }\n",
       "  table, th, td {\n",
       "    border: 1px solid black;\n",
       "    border-collapse: collapse;\n",
       "  }\n",
       "  th, td {\n",
       "    padding: 5px;\n",
       "  }\n",
       "  th {\n",
       "    text-align: left;\n",
       "  }\n",
       "</style><div class='table-result-container'><table class='table-result'><thead style='background-color: white'><tr><th>Customer Id</th><th>Name</th><th>Email Id</th><th>address</th><th>gender</th><th>age</th><th>Joining Date</th><th>registered</th><th>order ID</th><th>orders</th><th>spent</th><th>job</th><th>hobbies</th><th>is_married</th></tr></thead><tbody><tr><td>amxjo131</td><td>Joseph Rice</td><td>josephrice131@slingacademy.com</td><td>91773 Miller Shoal Diaztown, FL 38841</td><td>male</td><td>43</td><td>07-12-2022 20:15</td><td>05-05-2019</td><td>null</td><td>7</td><td>568.29</td><td>Artist</td><td>Playing sports</td><td>FALSE</td></tr><tr><td>amxj944</td><td>John Walker</td><td>johnwalker944@slingacademy.com</td><td>27265 Murray Island Kevinfort, PA 63231</td><td>male</td><td>44</td><td>07-12-2022 20:15</td><td>04-04-2020</td><td>null</td><td>11</td><td>497.12</td><td>Clerk</td><td>Painting</td><td>FALSE</td></tr><tr><td>amxja889</td><td>Jason Montgomery</td><td>jasonmontgomery889@slingacademy.com</td><td>14657 Scott Loop Apt. 735 Port Ashley, NH 34470</td><td>male</td><td>58</td><td>07-12-2023 20:15</td><td>13-11-2021</td><td>null</td><td>12</td><td>676.2</td><td>Waitress</td><td>Collecting</td><td>FALSE</td></tr><tr><td>amxja322</td><td>Jacqueline Wang</td><td>jacquelinewang322@slingacademy.com</td><td>16963 Stewart Curve Suite 27 South Cameron, ND 25136</td><td>female</td><td>22</td><td>07-12-2022 20:15</td><td>08-02-2023</td><td>null</td><td>12</td><td>962.47</td><td>Housewife</td><td>Collecting</td><td>FALSE</td></tr><tr><td>amxjo185</td><td>Jodi Gonzalez</td><td>jodigonzalez185@slingacademy.com</td><td>378 Johnson Oval South Stacie, RI 76332</td><td>female</td><td>69</td><td>07-12-2022 20:15</td><td>25-06-2021</td><td>null</td><td>12</td><td>68.67</td><td>Baker</td><td>Photography</td><td>FALSE</td></tr><tr><td>amxja753</td><td>Jason Brown</td><td>jasonbrown753@slingacademy.com</td><td>7310 Romero Summit East Scotttown, DC 53183</td><td>male</td><td>63</td><td>07-14-2022  20:15:39</td><td>05-12-2022</td><td>null</td><td>13</td><td>763.27</td><td>Lawyer</td><td>Fishing</td><td>TRUE</td></tr><tr><td>amxja681</td><td>James Johnson</td><td>jamesjohnson681@wingacademy.com</td><td>19870 Sean Parkway North Jamesfurt, NC 28950</td><td>male</td><td>67</td><td>07-08-2022 20:15</td><td>17-02-2019</td><td>null</td><td>5</td><td>394.95</td><td>Security Guard</td><td>Watching movies</td><td>FALSE</td></tr><tr><td>amxjo648</td><td>Jonathan Manning</td><td>jonathanmanning648@wingacademy.com</td><td>1501 Gregory Glens Suite 940 Stephensstad, GU 55206</td><td>male</td><td>30</td><td>07-12-2022 20:15</td><td>21-01-2022</td><td>null</td><td>0</td><td>178.54</td><td>Librarian</td><td>Playing sports</td><td>FALSE</td></tr></tbody></table></div>"
      ]
     },
     "metadata": {
      "application/vnd.databricks.v1+output": {
       "addedWidgets": {},
       "aggData": [],
       "aggError": "",
       "aggOverflow": false,
       "aggSchema": [],
       "aggSeriesLimitReached": false,
       "aggType": "",
       "arguments": {},
       "columnCustomDisplayInfos": {},
       "data": [
        [
         "amxjo131",
         "Joseph Rice",
         "josephrice131@slingacademy.com",
         "91773 Miller Shoal Diaztown, FL 38841",
         "male",
         "43",
         "07-12-2022 20:15",
         "05-05-2019",
         null,
         "7",
         "568.29",
         "Artist",
         "Playing sports",
         "FALSE"
        ],
        [
         "amxj944",
         "John Walker",
         "johnwalker944@slingacademy.com",
         "27265 Murray Island Kevinfort, PA 63231",
         "male",
         "44",
         "07-12-2022 20:15",
         "04-04-2020",
         null,
         "11",
         "497.12",
         "Clerk",
         "Painting",
         "FALSE"
        ],
        [
         "amxja889",
         "Jason Montgomery",
         "jasonmontgomery889@slingacademy.com",
         "14657 Scott Loop Apt. 735 Port Ashley, NH 34470",
         "male",
         "58",
         "07-12-2023 20:15",
         "13-11-2021",
         null,
         "12",
         "676.2",
         "Waitress",
         "Collecting",
         "FALSE"
        ],
        [
         "amxja322",
         "Jacqueline Wang",
         "jacquelinewang322@slingacademy.com",
         "16963 Stewart Curve Suite 27 South Cameron, ND 25136",
         "female",
         "22",
         "07-12-2022 20:15",
         "08-02-2023",
         null,
         "12",
         "962.47",
         "Housewife",
         "Collecting",
         "FALSE"
        ],
        [
         "amxjo185",
         "Jodi Gonzalez",
         "jodigonzalez185@slingacademy.com",
         "378 Johnson Oval South Stacie, RI 76332",
         "female",
         "69",
         "07-12-2022 20:15",
         "25-06-2021",
         null,
         "12",
         "68.67",
         "Baker",
         "Photography",
         "FALSE"
        ],
        [
         "amxja753",
         "Jason Brown",
         "jasonbrown753@slingacademy.com",
         "7310 Romero Summit East Scotttown, DC 53183",
         "male",
         "63",
         "07-14-2022  20:15:39",
         "05-12-2022",
         null,
         "13",
         "763.27",
         "Lawyer",
         "Fishing",
         "TRUE"
        ],
        [
         "amxja681",
         "James Johnson",
         "jamesjohnson681@wingacademy.com",
         "19870 Sean Parkway North Jamesfurt, NC 28950",
         "male",
         "67",
         "07-08-2022 20:15",
         "17-02-2019",
         null,
         "5",
         "394.95",
         "Security Guard",
         "Watching movies",
         "FALSE"
        ],
        [
         "amxjo648",
         "Jonathan Manning",
         "jonathanmanning648@wingacademy.com",
         "1501 Gregory Glens Suite 940 Stephensstad, GU 55206",
         "male",
         "30",
         "07-12-2022 20:15",
         "21-01-2022",
         null,
         "0",
         "178.54",
         "Librarian",
         "Playing sports",
         "FALSE"
        ]
       ],
       "datasetInfos": [],
       "dbfsResultPath": null,
       "isJsonSchema": true,
       "metadata": {},
       "overflow": false,
       "plotOptions": {
        "customPlotOptions": {},
        "displayType": "table",
        "pivotAggregation": null,
        "pivotColumns": null,
        "xColumns": null,
        "yColumns": null
       },
       "removedWidgets": [],
       "schema": [
        {
         "metadata": "{}",
         "name": "Customer Id",
         "type": "\"string\""
        },
        {
         "metadata": "{}",
         "name": "Name",
         "type": "\"string\""
        },
        {
         "metadata": "{}",
         "name": "Email Id",
         "type": "\"string\""
        },
        {
         "metadata": "{}",
         "name": "address",
         "type": "\"string\""
        },
        {
         "metadata": "{}",
         "name": "gender",
         "type": "\"string\""
        },
        {
         "metadata": "{}",
         "name": "age",
         "type": "\"string\""
        },
        {
         "metadata": "{}",
         "name": "Joining Date",
         "type": "\"string\""
        },
        {
         "metadata": "{}",
         "name": "registered",
         "type": "\"string\""
        },
        {
         "metadata": "{}",
         "name": "order ID",
         "type": "\"string\""
        },
        {
         "metadata": "{}",
         "name": "orders",
         "type": "\"string\""
        },
        {
         "metadata": "{}",
         "name": "spent",
         "type": "\"string\""
        },
        {
         "metadata": "{}",
         "name": "job",
         "type": "\"string\""
        },
        {
         "metadata": "{}",
         "name": "hobbies",
         "type": "\"string\""
        },
        {
         "metadata": "{}",
         "name": "is_married",
         "type": "\"string\""
        }
       ],
       "type": "table"
      }
     },
     "output_type": "display_data"
    }
   ],
   "source": [
    "# df.filter(df.first_name.startswith('J')).display()\n",
    "filtered_df = df.filter(df['Name'].startswith('J'))\n",
    "display(filtered_df)"
   ]
  },
  {
   "cell_type": "code",
   "execution_count": 0,
   "metadata": {
    "application/vnd.databricks.v1+cell": {
     "cellMetadata": {
      "byteLimit": 2048000,
      "rowLimit": 10000
     },
     "inputWidgets": {},
     "nuid": "b93fd185-8507-453b-94d8-00316c2d9a39",
     "showTitle": false,
     "title": ""
    }
   },
   "outputs": [
    {
     "output_type": "display_data",
     "data": {
      "text/html": [
       "<style scoped>\n",
       "  .table-result-container {\n",
       "    max-height: 300px;\n",
       "    overflow: auto;\n",
       "  }\n",
       "  table, th, td {\n",
       "    border: 1px solid black;\n",
       "    border-collapse: collapse;\n",
       "  }\n",
       "  th, td {\n",
       "    padding: 5px;\n",
       "  }\n",
       "  th {\n",
       "    text-align: left;\n",
       "  }\n",
       "</style><div class='table-result-container'><table class='table-result'><thead style='background-color: white'><tr><th>Customer Id</th><th>Name</th><th>Email Id</th><th>address</th><th>gender</th><th>age</th><th>Joining Date</th><th>registered</th><th>order ID</th><th>orders</th><th>spent</th><th>job</th><th>hobbies</th><th>is_married</th></tr></thead><tbody><tr><td>amxwi427</td><td>William Jackson</td><td>williamjackson427@slingacademy.com</td><td>170 Jackson Loaf Kristenland, AS 48876</td><td>male</td><td>58</td><td>10-12-2022 20:15</td><td>01-07-2022</td><td>null</td><td>14</td><td>151.59</td><td>Engineer</td><td>Reading</td><td>FALSE</td></tr><tr><td>amxda573</td><td>Darrell Dillon</td><td>darrelldillon573@slingacademy.com</td><td>PSC 7267, Box 9911 APO AE 49343</td><td>male</td><td>50</td><td>07-0-2022 20:15</td><td>13-09-2022</td><td>null</td><td>12</td><td>750.72</td><td>Dentist</td><td>Watching movies</td><td>FALSE</td></tr><tr><td>amxom769</td><td>Omar Martin</td><td>omarmartin769@slingacademy.com</td><td>Unit 9103 Box 4771 DPO AA 16592</td><td>male</td><td>28</td><td>07-12-2022 20:15</td><td>28-05-2023</td><td>null</td><td>3</td><td>162.58</td><td>Doctor</td><td>Gardening</td><td>TRUE</td></tr><tr><td>amxja753</td><td>Jason Brown</td><td>jasonbrown753@slingacademy.com</td><td>7310 Romero Summit East Scotttown, DC 53183</td><td>male</td><td>63</td><td>07-14-2022  20:15:39</td><td>05-12-2022</td><td>null</td><td>13</td><td>763.27</td><td>Lawyer</td><td>Fishing</td><td>TRUE</td></tr><tr><td>amxda257</td><td>David Benson</td><td>davidbenson257@slingacademy.com</td><td>444 Derek Summit Lisaborough, WA 20685</td><td>male</td><td>61</td><td>07-12-2022 20:15</td><td>15-04-2022</td><td>null</td><td>17</td><td>111.11</td><td>Lawyer</td><td>Meditation</td><td>TRUE</td></tr><tr><td>amxja681</td><td>James Johnson</td><td>jamesjohnson681@wingacademy.com</td><td>19870 Sean Parkway North Jamesfurt, NC 28950</td><td>male</td><td>67</td><td>07-08-2022 20:15</td><td>17-02-2019</td><td>null</td><td>5</td><td>394.95</td><td>Security Guard</td><td>Watching movies</td><td>FALSE</td></tr><tr><td>amxde324</td><td>Derek Peterson</td><td>derekpeterson324@wingacademy.com</td><td>70830 Jonathan Pine Wilcoxburgh, MI 38265</td><td>male</td><td>36</td><td>07-12-2022 20:15</td><td>15-12-2020</td><td>null</td><td>2</td><td>153.8</td><td>Architect</td><td>Photography</td><td>TRUE</td></tr><tr><td>amxdi438</td><td>Diane Henson</td><td>dianehenson438@wingacademy.com</td><td>86382 Baker Ports Apt. 074 Cookfurt, NM 54313</td><td>female</td><td>74</td><td>07-12-2022 20:15</td><td>21-03-2020</td><td>null</td><td>19</td><td>62.52</td><td>Butcher</td><td>Playing musical instruments</td><td>FALSE</td></tr></tbody></table></div>"
      ]
     },
     "metadata": {
      "application/vnd.databricks.v1+output": {
       "addedWidgets": {},
       "aggData": [],
       "aggError": "",
       "aggOverflow": false,
       "aggSchema": [],
       "aggSeriesLimitReached": false,
       "aggType": "",
       "arguments": {},
       "columnCustomDisplayInfos": {},
       "data": [
        [
         "amxwi427",
         "William Jackson",
         "williamjackson427@slingacademy.com",
         "170 Jackson Loaf Kristenland, AS 48876",
         "male",
         "58",
         "10-12-2022 20:15",
         "01-07-2022",
         null,
         "14",
         "151.59",
         "Engineer",
         "Reading",
         "FALSE"
        ],
        [
         "amxda573",
         "Darrell Dillon",
         "darrelldillon573@slingacademy.com",
         "PSC 7267, Box 9911 APO AE 49343",
         "male",
         "50",
         "07-0-2022 20:15",
         "13-09-2022",
         null,
         "12",
         "750.72",
         "Dentist",
         "Watching movies",
         "FALSE"
        ],
        [
         "amxom769",
         "Omar Martin",
         "omarmartin769@slingacademy.com",
         "Unit 9103 Box 4771 DPO AA 16592",
         "male",
         "28",
         "07-12-2022 20:15",
         "28-05-2023",
         null,
         "3",
         "162.58",
         "Doctor",
         "Gardening",
         "TRUE"
        ],
        [
         "amxja753",
         "Jason Brown",
         "jasonbrown753@slingacademy.com",
         "7310 Romero Summit East Scotttown, DC 53183",
         "male",
         "63",
         "07-14-2022  20:15:39",
         "05-12-2022",
         null,
         "13",
         "763.27",
         "Lawyer",
         "Fishing",
         "TRUE"
        ],
        [
         "amxda257",
         "David Benson",
         "davidbenson257@slingacademy.com",
         "444 Derek Summit Lisaborough, WA 20685",
         "male",
         "61",
         "07-12-2022 20:15",
         "15-04-2022",
         null,
         "17",
         "111.11",
         "Lawyer",
         "Meditation",
         "TRUE"
        ],
        [
         "amxja681",
         "James Johnson",
         "jamesjohnson681@wingacademy.com",
         "19870 Sean Parkway North Jamesfurt, NC 28950",
         "male",
         "67",
         "07-08-2022 20:15",
         "17-02-2019",
         null,
         "5",
         "394.95",
         "Security Guard",
         "Watching movies",
         "FALSE"
        ],
        [
         "amxde324",
         "Derek Peterson",
         "derekpeterson324@wingacademy.com",
         "70830 Jonathan Pine Wilcoxburgh, MI 38265",
         "male",
         "36",
         "07-12-2022 20:15",
         "15-12-2020",
         null,
         "2",
         "153.8",
         "Architect",
         "Photography",
         "TRUE"
        ],
        [
         "amxdi438",
         "Diane Henson",
         "dianehenson438@wingacademy.com",
         "86382 Baker Ports Apt. 074 Cookfurt, NM 54313",
         "female",
         "74",
         "07-12-2022 20:15",
         "21-03-2020",
         null,
         "19",
         "62.52",
         "Butcher",
         "Playing musical instruments",
         "FALSE"
        ]
       ],
       "datasetInfos": [],
       "dbfsResultPath": null,
       "isJsonSchema": true,
       "metadata": {},
       "overflow": false,
       "plotOptions": {
        "customPlotOptions": {},
        "displayType": "table",
        "pivotAggregation": null,
        "pivotColumns": null,
        "xColumns": null,
        "yColumns": null
       },
       "removedWidgets": [],
       "schema": [
        {
         "metadata": "{}",
         "name": "Customer Id",
         "type": "\"string\""
        },
        {
         "metadata": "{}",
         "name": "Name",
         "type": "\"string\""
        },
        {
         "metadata": "{}",
         "name": "Email Id",
         "type": "\"string\""
        },
        {
         "metadata": "{}",
         "name": "address",
         "type": "\"string\""
        },
        {
         "metadata": "{}",
         "name": "gender",
         "type": "\"string\""
        },
        {
         "metadata": "{}",
         "name": "age",
         "type": "\"string\""
        },
        {
         "metadata": "{}",
         "name": "Joining Date",
         "type": "\"string\""
        },
        {
         "metadata": "{}",
         "name": "registered",
         "type": "\"string\""
        },
        {
         "metadata": "{}",
         "name": "order ID",
         "type": "\"string\""
        },
        {
         "metadata": "{}",
         "name": "orders",
         "type": "\"string\""
        },
        {
         "metadata": "{}",
         "name": "spent",
         "type": "\"string\""
        },
        {
         "metadata": "{}",
         "name": "job",
         "type": "\"string\""
        },
        {
         "metadata": "{}",
         "name": "hobbies",
         "type": "\"string\""
        },
        {
         "metadata": "{}",
         "name": "is_married",
         "type": "\"string\""
        }
       ],
       "type": "table"
      }
     },
     "output_type": "display_data"
    }
   ],
   "source": [
    "filtered_df = df.filter(df['Name'].endswith('n'))\n",
    "display(filtered_df)"
   ]
  },
  {
   "cell_type": "code",
   "execution_count": 0,
   "metadata": {
    "application/vnd.databricks.v1+cell": {
     "cellMetadata": {
      "byteLimit": 2048000,
      "rowLimit": 10000
     },
     "inputWidgets": {},
     "nuid": "2782c054-3a11-449c-9e79-f9ad183dbc3c",
     "showTitle": false,
     "title": ""
    }
   },
   "outputs": [
    {
     "output_type": "stream",
     "name": "stdout",
     "output_type": "stream",
     "text": [
      "29"
     ]
    }
   ],
   "source": [
    "unique_customers = df.select('Customer Id').distinct().count()\n",
    "display(unique_customers)"
   ]
  },
  {
   "cell_type": "code",
   "execution_count": 0,
   "metadata": {
    "application/vnd.databricks.v1+cell": {
     "cellMetadata": {
      "byteLimit": 2048000,
      "rowLimit": 10000
     },
     "inputWidgets": {},
     "nuid": "0818eb7d-2038-4b2d-94b2-6f4ebd4b3bc3",
     "showTitle": false,
     "title": ""
    }
   },
   "outputs": [
    {
     "output_type": "stream",
     "name": "stdout",
     "output_type": "stream",
     "text": [
      "0"
     ]
    }
   ],
   "source": [
    "missing_email_count = df.filter(col('Email Id').isNull() |col('Email Id').isin('')).count()\n",
    "display(missing_email_count)"
   ]
  },
  {
   "cell_type": "code",
   "execution_count": 0,
   "metadata": {
    "application/vnd.databricks.v1+cell": {
     "cellMetadata": {
      "byteLimit": 2048000,
      "rowLimit": 10000
     },
     "inputWidgets": {},
     "nuid": "3a38fdee-335d-43eb-9319-4f03e1308310",
     "showTitle": false,
     "title": ""
    }
   },
   "outputs": [
    {
     "output_type": "stream",
     "name": "stdout",
     "output_type": "stream",
     "text": [
      "0"
     ]
    }
   ],
   "source": [
    "missing_joining_date_count = df.filter(col('Joining Date').isNull() | col('Joining Date').isin('')).count()\n",
    "display(missing_joining_date_count)"
   ]
  },
  {
   "cell_type": "code",
   "execution_count": 0,
   "metadata": {
    "application/vnd.databricks.v1+cell": {
     "cellMetadata": {
      "byteLimit": 2048000,
      "rowLimit": 10000
     },
     "inputWidgets": {},
     "nuid": "025a7840-bc9c-4ca3-9ffc-436640072a58",
     "showTitle": false,
     "title": ""
    }
   },
   "outputs": [
    {
     "output_type": "display_data",
     "data": {
      "text/html": [
       "<style scoped>\n",
       "  .table-result-container {\n",
       "    max-height: 300px;\n",
       "    overflow: auto;\n",
       "  }\n",
       "  table, th, td {\n",
       "    border: 1px solid black;\n",
       "    border-collapse: collapse;\n",
       "  }\n",
       "  th, td {\n",
       "    padding: 5px;\n",
       "  }\n",
       "  th {\n",
       "    text-align: left;\n",
       "  }\n",
       "</style><div class='table-result-container'><table class='table-result'><thead style='background-color: white'><tr><th>gender</th><th>avg_spent</th></tr></thead><tbody><tr><td>female</td><td>438.628</td></tr><tr><td>male</td><td>463.93052631578956</td></tr></tbody></table></div>"
      ]
     },
     "metadata": {
      "application/vnd.databricks.v1+output": {
       "addedWidgets": {},
       "aggData": [],
       "aggError": "",
       "aggOverflow": false,
       "aggSchema": [],
       "aggSeriesLimitReached": false,
       "aggType": "",
       "arguments": {},
       "columnCustomDisplayInfos": {},
       "data": [
        [
         "female",
         438.628
        ],
        [
         "male",
         463.93052631578956
        ]
       ],
       "datasetInfos": [],
       "dbfsResultPath": null,
       "isJsonSchema": true,
       "metadata": {},
       "overflow": false,
       "plotOptions": {
        "customPlotOptions": {},
        "displayType": "table",
        "pivotAggregation": null,
        "pivotColumns": null,
        "xColumns": null,
        "yColumns": null
       },
       "removedWidgets": [],
       "schema": [
        {
         "metadata": "{}",
         "name": "gender",
         "type": "\"string\""
        },
        {
         "metadata": "{}",
         "name": "avg_spent",
         "type": "\"double\""
        }
       ],
       "type": "table"
      }
     },
     "output_type": "display_data"
    }
   ],
   "source": [
    "average_spent_by_gender = df.groupBy('gender').agg(avg('spent').alias('avg_spent'))\n",
    "average_spent_by_gender.display()"
   ]
  },
  {
   "cell_type": "code",
   "execution_count": 0,
   "metadata": {
    "application/vnd.databricks.v1+cell": {
     "cellMetadata": {
      "byteLimit": 2048000,
      "rowLimit": 10000
     },
     "inputWidgets": {},
     "nuid": "f3ef0bd0-44f8-49f3-a8ad-8051af94da3c",
     "showTitle": false,
     "title": ""
    }
   },
   "outputs": [
    {
     "output_type": "display_data",
     "data": {
      "text/html": [
       "<style scoped>\n",
       "  .table-result-container {\n",
       "    max-height: 300px;\n",
       "    overflow: auto;\n",
       "  }\n",
       "  table, th, td {\n",
       "    border: 1px solid black;\n",
       "    border-collapse: collapse;\n",
       "  }\n",
       "  th, td {\n",
       "    padding: 5px;\n",
       "  }\n",
       "  th {\n",
       "    text-align: left;\n",
       "  }\n",
       "</style><div class='table-result-container'><table class='table-result'><thead style='background-color: white'><tr><th>Customer Id</th><th>Name</th><th>Email Id</th><th>address</th><th>gender</th><th>age</th><th>Joining Date</th><th>registered</th><th>order ID</th><th>orders</th><th>spent</th><th>job</th><th>hobbies</th><th>is_married</th></tr></thead><tbody><tr><td>amxda980</td><td>David Davis</td><td>daviddavis980@slingacademy.com</td><td>021 Katherine Mall Jameston, DC 24685</td><td>male</td><td>59</td><td>null</td><td>null</td><td>null</td><td>9</td><td>970.96</td><td>Doctor</td><td>Playing sports</td><td>FALSE</td></tr><tr><td>amxja322</td><td>Jacqueline Wang</td><td>jacquelinewang322@slingacademy.com</td><td>16963 Stewart Curve Suite 27 South Cameron, ND 25136</td><td>female</td><td>22</td><td>null</td><td>null</td><td>null</td><td>12</td><td>962.47</td><td>Housewife</td><td>Collecting</td><td>FALSE</td></tr><tr><td>amxti476</td><td>Tina Moore</td><td>tinamoore476@wingacademy.com</td><td>50984 Shelly Pass Port Nicholas, SC 48629</td><td>female</td><td>34</td><td>null</td><td>null</td><td>null</td><td>17</td><td>888.53</td><td>Chef</td><td>Running</td><td>FALSE</td></tr><tr><td>amxky170</td><td>Kylie White</td><td>kyliewhite170@wingacademy.com</td><td>5004 Christine Falls Suite 217 Jasonburgh, NJ 75688</td><td>female</td><td>63</td><td>null</td><td>null</td><td>null</td><td>6</td><td>872.18</td><td>Janitor</td><td>Reading</td><td>TRUE</td></tr><tr><td>amxer176</td><td>Eric Carter</td><td>ericcarter176@slingacademy.com</td><td>USNS Knight FPO AA 76532</td><td>male</td><td>38</td><td>null</td><td>null</td><td>null</td><td>17</td><td>834.6</td><td>Butcher</td><td>Playing musical instruments</td><td>FALSE</td></tr></tbody></table></div>"
      ]
     },
     "metadata": {
      "application/vnd.databricks.v1+output": {
       "addedWidgets": {},
       "aggData": [],
       "aggError": "",
       "aggOverflow": false,
       "aggSchema": [],
       "aggSeriesLimitReached": false,
       "aggType": "",
       "arguments": {},
       "columnCustomDisplayInfos": {},
       "data": [
        [
         "amxda980",
         "David Davis",
         "daviddavis980@slingacademy.com",
         "021 Katherine Mall Jameston, DC 24685",
         "male",
         "59",
         null,
         null,
         null,
         "9",
         "970.96",
         "Doctor",
         "Playing sports",
         "FALSE"
        ],
        [
         "amxja322",
         "Jacqueline Wang",
         "jacquelinewang322@slingacademy.com",
         "16963 Stewart Curve Suite 27 South Cameron, ND 25136",
         "female",
         "22",
         null,
         null,
         null,
         "12",
         "962.47",
         "Housewife",
         "Collecting",
         "FALSE"
        ],
        [
         "amxti476",
         "Tina Moore",
         "tinamoore476@wingacademy.com",
         "50984 Shelly Pass Port Nicholas, SC 48629",
         "female",
         "34",
         null,
         null,
         null,
         "17",
         "888.53",
         "Chef",
         "Running",
         "FALSE"
        ],
        [
         "amxky170",
         "Kylie White",
         "kyliewhite170@wingacademy.com",
         "5004 Christine Falls Suite 217 Jasonburgh, NJ 75688",
         "female",
         "63",
         null,
         null,
         null,
         "6",
         "872.18",
         "Janitor",
         "Reading",
         "TRUE"
        ],
        [
         "amxer176",
         "Eric Carter",
         "ericcarter176@slingacademy.com",
         "USNS Knight FPO AA 76532",
         "male",
         "38",
         null,
         null,
         null,
         "17",
         "834.6",
         "Butcher",
         "Playing musical instruments",
         "FALSE"
        ]
       ],
       "datasetInfos": [],
       "dbfsResultPath": null,
       "isJsonSchema": true,
       "metadata": {},
       "overflow": false,
       "plotOptions": {
        "customPlotOptions": {},
        "displayType": "table",
        "pivotAggregation": null,
        "pivotColumns": null,
        "xColumns": null,
        "yColumns": null
       },
       "removedWidgets": [],
       "schema": [
        {
         "metadata": "{}",
         "name": "Customer Id",
         "type": "\"string\""
        },
        {
         "metadata": "{}",
         "name": "Name",
         "type": "\"string\""
        },
        {
         "metadata": "{}",
         "name": "Email Id",
         "type": "\"string\""
        },
        {
         "metadata": "{}",
         "name": "address",
         "type": "\"string\""
        },
        {
         "metadata": "{}",
         "name": "gender",
         "type": "\"string\""
        },
        {
         "metadata": "{}",
         "name": "age",
         "type": "\"string\""
        },
        {
         "metadata": "{}",
         "name": "Joining Date",
         "type": "\"date\""
        },
        {
         "metadata": "{}",
         "name": "registered",
         "type": "\"date\""
        },
        {
         "metadata": "{}",
         "name": "order ID",
         "type": "\"string\""
        },
        {
         "metadata": "{}",
         "name": "orders",
         "type": "\"string\""
        },
        {
         "metadata": "{}",
         "name": "spent",
         "type": "\"string\""
        },
        {
         "metadata": "{}",
         "name": "job",
         "type": "\"string\""
        },
        {
         "metadata": "{}",
         "name": "hobbies",
         "type": "\"string\""
        },
        {
         "metadata": "{}",
         "name": "is_married",
         "type": "\"string\""
        }
       ],
       "type": "table"
      }
     },
     "output_type": "display_data"
    }
   ],
   "source": [
    "top_5_customers = df.orderBy(desc('spent')).limit(5)\n",
    "display(top_5_customers)"
   ]
  },
  {
   "cell_type": "code",
   "execution_count": 0,
   "metadata": {
    "application/vnd.databricks.v1+cell": {
     "cellMetadata": {
      "byteLimit": 2048000,
      "rowLimit": 10000
     },
     "inputWidgets": {},
     "nuid": "d39fc16d-3bc0-48f1-8893-ca320e18d15a",
     "showTitle": false,
     "title": ""
    }
   },
   "outputs": [
    {
     "output_type": "display_data",
     "data": {
      "text/html": [
       "<style scoped>\n",
       "  .table-result-container {\n",
       "    max-height: 300px;\n",
       "    overflow: auto;\n",
       "  }\n",
       "  table, th, td {\n",
       "    border: 1px solid black;\n",
       "    border-collapse: collapse;\n",
       "  }\n",
       "  th, td {\n",
       "    padding: 5px;\n",
       "  }\n",
       "  th {\n",
       "    text-align: left;\n",
       "  }\n",
       "</style><div class='table-result-container'><table class='table-result'><thead style='background-color: white'><tr><th>Customer Id</th><th>Name</th><th>Email Id</th><th>address</th><th>gender</th><th>age</th><th>Joining Date</th><th>registered</th><th>order ID</th><th>orders</th><th>spent</th><th>job</th><th>hobbies</th><th>is_married</th></tr></thead><tbody><tr><td>amxjo131</td><td>Joseph Rice</td><td>josephrice131@slingacademy.com</td><td>91773 Miller Shoal Diaztown, FL 38841</td><td>male</td><td>43</td><td>null</td><td>null</td><td>null</td><td>7</td><td>568.29</td><td>Artist</td><td>Playing sports</td><td>FALSE</td></tr><tr><td>amxga386</td><td>Gary Moore</td><td>garymoore386@slingacademy.com</td><td>6450 John Lodge Territon, KY 95945</td><td>male</td><td>71</td><td>null</td><td>null</td><td>null</td><td>11</td><td>568.92</td><td>Artist</td><td>Swimming</td><td>TRUE</td></tr><tr><td>amxj944</td><td>John Walker</td><td>johnwalker944@slingacademy.com</td><td>27265 Murray Island Kevinfort, PA 63231</td><td>male</td><td>44</td><td>null</td><td>null</td><td>null</td><td>11</td><td>497.12</td><td>Clerk</td><td>Painting</td><td>FALSE</td></tr><tr><td>amxer176</td><td>Eric Carter</td><td>ericcarter176@slingacademy.com</td><td>USNS Knight FPO AA 76532</td><td>male</td><td>38</td><td>null</td><td>null</td><td>null</td><td>17</td><td>834.6</td><td>Butcher</td><td>Playing musical instruments</td><td>FALSE</td></tr><tr><td>amxwi427</td><td>William Jackson</td><td>williamjackson427@slingacademy.com</td><td>170 Jackson Loaf Kristenland, AS 48876</td><td>male</td><td>58</td><td>null</td><td>null</td><td>null</td><td>14</td><td>151.59</td><td>Engineer</td><td>Reading</td><td>FALSE</td></tr><tr><td>amxni228</td><td>Nicole Jones</td><td>nicolejones228@slingacademy.com</td><td>14354 Baker Harbor Apt. 017 Ericville, HI 11192</td><td>female</td><td>33</td><td>null</td><td>null</td><td>null</td><td>19</td><td>33.17</td><td>Unemployed</td><td>Running</td><td>TRUE</td></tr><tr><td>amxda980</td><td>David Davis</td><td>daviddavis980@slingacademy.com</td><td>021 Katherine Mall Jameston, DC 24685</td><td>male</td><td>59</td><td>null</td><td>null</td><td>null</td><td>9</td><td>970.96</td><td>Doctor</td><td>Playing sports</td><td>FALSE</td></tr><tr><td>amxja889</td><td>Jason Montgomery</td><td>jasonmontgomery889@slingacademy.com</td><td>14657 Scott Loop Apt. 735 Port Ashley, NH 34470</td><td>male</td><td>58</td><td>null</td><td>null</td><td>null</td><td>12</td><td>676.2</td><td>Waitress</td><td>Collecting</td><td>FALSE</td></tr><tr><td>amxke695</td><td>Kent Weaver</td><td>kentweaver695@slingacademy.com</td><td>6644 Mitchell Burg Victorhaven, KS 66356</td><td>male</td><td>61</td><td>null</td><td>null</td><td>null</td><td>1</td><td>674.37</td><td>Clerk</td><td>Hiking</td><td>FALSE</td></tr><tr><td>amxda573</td><td>Darrell Dillon</td><td>darrelldillon573@slingacademy.com</td><td>PSC 7267, Box 9911 APO AE 49343</td><td>male</td><td>50</td><td>null</td><td>null</td><td>null</td><td>12</td><td>750.72</td><td>Dentist</td><td>Watching movies</td><td>FALSE</td></tr><tr><td>amxja322</td><td>Jacqueline Wang</td><td>jacquelinewang322@slingacademy.com</td><td>16963 Stewart Curve Suite 27 South Cameron, ND 25136</td><td>female</td><td>22</td><td>null</td><td>null</td><td>null</td><td>12</td><td>962.47</td><td>Housewife</td><td>Collecting</td><td>FALSE</td></tr><tr><td>amxjo185</td><td>Jodi Gonzalez</td><td>jodigonzalez185@slingacademy.com</td><td>378 Johnson Oval South Stacie, RI 76332</td><td>female</td><td>69</td><td>null</td><td>null</td><td>null</td><td>12</td><td>68.67</td><td>Baker</td><td>Photography</td><td>FALSE</td></tr><tr><td>amxom769</td><td>Omar Martin</td><td>omarmartin769@slingacademy.com</td><td>Unit 9103 Box 4771 DPO AA 16592</td><td>male</td><td>28</td><td>null</td><td>null</td><td>null</td><td>3</td><td>162.58</td><td>Doctor</td><td>Gardening</td><td>TRUE</td></tr><tr><td>amxni473</td><td>Nicole Lara</td><td>nicolelara473@slingacademy.com</td><td>9822 Lisa Courts Johnhaven, IL 80438</td><td>female</td><td>77</td><td>null</td><td>null</td><td>null</td><td>17</td><td>309.81</td><td>Janitor</td><td>Hiking</td><td>TRUE</td></tr><tr><td>amxja753</td><td>Jason Brown</td><td>jasonbrown753@slingacademy.com</td><td>7310 Romero Summit East Scotttown, DC 53183</td><td>male</td><td>63</td><td>null</td><td>null</td><td>null</td><td>13</td><td>763.27</td><td>Lawyer</td><td>Fishing</td><td>TRUE</td></tr><tr><td>amxda257</td><td>David Benson</td><td>davidbenson257@slingacademy.com</td><td>444 Derek Summit Lisaborough, WA 20685</td><td>male</td><td>61</td><td>null</td><td>null</td><td>null</td><td>17</td><td>111.11</td><td>Lawyer</td><td>Meditation</td><td>TRUE</td></tr><tr><td>amxki513</td><td>Kimberly Mora</td><td>kimberlymora513@slingacademy.com</td><td>7679 Perry Square West Amybury, RI 15144</td><td>female</td><td>34</td><td>null</td><td>null</td><td>null</td><td>10</td><td>208.46</td><td>Farmer</td><td>Collecting</td><td>FALSE</td></tr><tr><td>amxer904</td><td>Erik Macias</td><td>erikmacias904@wingacademy.com</td><td>568 Christopher Tunnel Toddburgh, DE 86966</td><td>male</td><td>25</td><td>null</td><td>null</td><td>null</td><td>8</td><td>439.53</td><td>Accountant</td><td>Fishing</td><td>FALSE</td></tr><tr><td>amxja681</td><td>James Johnson</td><td>jamesjohnson681@wingacademy.com</td><td>19870 Sean Parkway North Jamesfurt, NC 28950</td><td>male</td><td>67</td><td>null</td><td>null</td><td>null</td><td>5</td><td>394.95</td><td>Security Guard</td><td>Watching movies</td><td>FALSE</td></tr><tr><td>amxde324</td><td>Derek Peterson</td><td>derekpeterson324@wingacademy.com</td><td>70830 Jonathan Pine Wilcoxburgh, MI 38265</td><td>male</td><td>36</td><td>null</td><td>null</td><td>null</td><td>2</td><td>153.8</td><td>Architect</td><td>Photography</td><td>TRUE</td></tr><tr><td>amxdi438</td><td>Diane Henson</td><td>dianehenson438@wingacademy.com</td><td>86382 Baker Ports Apt. 074 Cookfurt, NM 54313</td><td>female</td><td>74</td><td>null</td><td>null</td><td>null</td><td>19</td><td>62.52</td><td>Butcher</td><td>Playing musical instruments</td><td>FALSE</td></tr><tr><td>amxco721</td><td>Cody Lyons</td><td>codylyons721@wingacademy.com</td><td>60971 Carrillo Square Suite 141 New Kimberlybury, AS 02128</td><td>male</td><td>47</td><td>null</td><td>null</td><td>null</td><td>14</td><td>43.17</td><td>Baker</td><td>Hunting</td><td>FALSE</td></tr><tr><td>amxma249</td><td>Margaret Hardy</td><td>margarethardy249@wingacademy.com</td><td>2900 Sandra Villages Apt. 985 Phillipsstad, NH 19830</td><td>female</td><td>25</td><td>null</td><td>null</td><td>null</td><td>9</td><td>455.27</td><td>Barber</td><td>Other</td><td>FALSE</td></tr><tr><td>amxar881</td><td>Arthur Hayes</td><td>arthurhayes881@wingacademy.com</td><td>353 Elizabeth Forest Deannachester, NM 66952</td><td>male</td><td>75</td><td>null</td><td>null</td><td>null</td><td>6</td><td>749.78</td><td>Chef</td><td>Sewing</td><td>FALSE</td></tr><tr><td>amxra702</td><td>Raymond Taylor</td><td>raymondtaylor702@wingacademy.com</td><td>07867 John Mills Apt. 985 Tinaville, ID 59142</td><td>male</td><td>36</td><td>null</td><td>null</td><td>null</td><td>6</td><td>125.18</td><td>Butcher</td><td>Playing musical instruments</td><td>FALSE</td></tr><tr><td>amxti476</td><td>Tina Moore</td><td>tinamoore476@wingacademy.com</td><td>50984 Shelly Pass Port Nicholas, SC 48629</td><td>female</td><td>34</td><td>null</td><td>null</td><td>null</td><td>17</td><td>888.53</td><td>Chef</td><td>Running</td><td>FALSE</td></tr><tr><td>amxky170</td><td>Kylie White</td><td>kyliewhite170@wingacademy.com</td><td>5004 Christine Falls Suite 217 Jasonburgh, NJ 75688</td><td>female</td><td>63</td><td>null</td><td>null</td><td>null</td><td>6</td><td>872.18</td><td>Janitor</td><td>Reading</td><td>TRUE</td></tr><tr><td>amxjo648</td><td>Jonathan Manning</td><td>jonathanmanning648@wingacademy.com</td><td>1501 Gregory Glens Suite 940 Stephensstad, GU 55206</td><td>male</td><td>30</td><td>null</td><td>null</td><td>null</td><td>0</td><td>178.54</td><td>Librarian</td><td>Playing sports</td><td>FALSE</td></tr><tr><td>amxan256</td><td>Angela Bryant</td><td>angelabryant256@wingacademy.com</td><td>01454 Christopher Turnpike North Ryanstad, MI 36226</td><td>female</td><td>23</td><td>null</td><td>null</td><td>null</td><td>3</td><td>525.2</td><td>Politician</td><td>Cycling</td><td>FALSE</td></tr></tbody></table></div>"
      ]
     },
     "metadata": {
      "application/vnd.databricks.v1+output": {
       "addedWidgets": {},
       "aggData": [],
       "aggError": "",
       "aggOverflow": false,
       "aggSchema": [],
       "aggSeriesLimitReached": false,
       "aggType": "",
       "arguments": {},
       "columnCustomDisplayInfos": {},
       "data": [
        [
         "amxjo131",
         "Joseph Rice",
         "josephrice131@slingacademy.com",
         "91773 Miller Shoal Diaztown, FL 38841",
         "male",
         "43",
         null,
         null,
         null,
         "7",
         "568.29",
         "Artist",
         "Playing sports",
         "FALSE"
        ],
        [
         "amxga386",
         "Gary Moore",
         "garymoore386@slingacademy.com",
         "6450 John Lodge Territon, KY 95945",
         "male",
         "71",
         null,
         null,
         null,
         "11",
         "568.92",
         "Artist",
         "Swimming",
         "TRUE"
        ],
        [
         "amxj944",
         "John Walker",
         "johnwalker944@slingacademy.com",
         "27265 Murray Island Kevinfort, PA 63231",
         "male",
         "44",
         null,
         null,
         null,
         "11",
         "497.12",
         "Clerk",
         "Painting",
         "FALSE"
        ],
        [
         "amxer176",
         "Eric Carter",
         "ericcarter176@slingacademy.com",
         "USNS Knight FPO AA 76532",
         "male",
         "38",
         null,
         null,
         null,
         "17",
         "834.6",
         "Butcher",
         "Playing musical instruments",
         "FALSE"
        ],
        [
         "amxwi427",
         "William Jackson",
         "williamjackson427@slingacademy.com",
         "170 Jackson Loaf Kristenland, AS 48876",
         "male",
         "58",
         null,
         null,
         null,
         "14",
         "151.59",
         "Engineer",
         "Reading",
         "FALSE"
        ],
        [
         "amxni228",
         "Nicole Jones",
         "nicolejones228@slingacademy.com",
         "14354 Baker Harbor Apt. 017 Ericville, HI 11192",
         "female",
         "33",
         null,
         null,
         null,
         "19",
         "33.17",
         "Unemployed",
         "Running",
         "TRUE"
        ],
        [
         "amxda980",
         "David Davis",
         "daviddavis980@slingacademy.com",
         "021 Katherine Mall Jameston, DC 24685",
         "male",
         "59",
         null,
         null,
         null,
         "9",
         "970.96",
         "Doctor",
         "Playing sports",
         "FALSE"
        ],
        [
         "amxja889",
         "Jason Montgomery",
         "jasonmontgomery889@slingacademy.com",
         "14657 Scott Loop Apt. 735 Port Ashley, NH 34470",
         "male",
         "58",
         null,
         null,
         null,
         "12",
         "676.2",
         "Waitress",
         "Collecting",
         "FALSE"
        ],
        [
         "amxke695",
         "Kent Weaver",
         "kentweaver695@slingacademy.com",
         "6644 Mitchell Burg Victorhaven, KS 66356",
         "male",
         "61",
         null,
         null,
         null,
         "1",
         "674.37",
         "Clerk",
         "Hiking",
         "FALSE"
        ],
        [
         "amxda573",
         "Darrell Dillon",
         "darrelldillon573@slingacademy.com",
         "PSC 7267, Box 9911 APO AE 49343",
         "male",
         "50",
         null,
         null,
         null,
         "12",
         "750.72",
         "Dentist",
         "Watching movies",
         "FALSE"
        ],
        [
         "amxja322",
         "Jacqueline Wang",
         "jacquelinewang322@slingacademy.com",
         "16963 Stewart Curve Suite 27 South Cameron, ND 25136",
         "female",
         "22",
         null,
         null,
         null,
         "12",
         "962.47",
         "Housewife",
         "Collecting",
         "FALSE"
        ],
        [
         "amxjo185",
         "Jodi Gonzalez",
         "jodigonzalez185@slingacademy.com",
         "378 Johnson Oval South Stacie, RI 76332",
         "female",
         "69",
         null,
         null,
         null,
         "12",
         "68.67",
         "Baker",
         "Photography",
         "FALSE"
        ],
        [
         "amxom769",
         "Omar Martin",
         "omarmartin769@slingacademy.com",
         "Unit 9103 Box 4771 DPO AA 16592",
         "male",
         "28",
         null,
         null,
         null,
         "3",
         "162.58",
         "Doctor",
         "Gardening",
         "TRUE"
        ],
        [
         "amxni473",
         "Nicole Lara",
         "nicolelara473@slingacademy.com",
         "9822 Lisa Courts Johnhaven, IL 80438",
         "female",
         "77",
         null,
         null,
         null,
         "17",
         "309.81",
         "Janitor",
         "Hiking",
         "TRUE"
        ],
        [
         "amxja753",
         "Jason Brown",
         "jasonbrown753@slingacademy.com",
         "7310 Romero Summit East Scotttown, DC 53183",
         "male",
         "63",
         null,
         null,
         null,
         "13",
         "763.27",
         "Lawyer",
         "Fishing",
         "TRUE"
        ],
        [
         "amxda257",
         "David Benson",
         "davidbenson257@slingacademy.com",
         "444 Derek Summit Lisaborough, WA 20685",
         "male",
         "61",
         null,
         null,
         null,
         "17",
         "111.11",
         "Lawyer",
         "Meditation",
         "TRUE"
        ],
        [
         "amxki513",
         "Kimberly Mora",
         "kimberlymora513@slingacademy.com",
         "7679 Perry Square West Amybury, RI 15144",
         "female",
         "34",
         null,
         null,
         null,
         "10",
         "208.46",
         "Farmer",
         "Collecting",
         "FALSE"
        ],
        [
         "amxer904",
         "Erik Macias",
         "erikmacias904@wingacademy.com",
         "568 Christopher Tunnel Toddburgh, DE 86966",
         "male",
         "25",
         null,
         null,
         null,
         "8",
         "439.53",
         "Accountant",
         "Fishing",
         "FALSE"
        ],
        [
         "amxja681",
         "James Johnson",
         "jamesjohnson681@wingacademy.com",
         "19870 Sean Parkway North Jamesfurt, NC 28950",
         "male",
         "67",
         null,
         null,
         null,
         "5",
         "394.95",
         "Security Guard",
         "Watching movies",
         "FALSE"
        ],
        [
         "amxde324",
         "Derek Peterson",
         "derekpeterson324@wingacademy.com",
         "70830 Jonathan Pine Wilcoxburgh, MI 38265",
         "male",
         "36",
         null,
         null,
         null,
         "2",
         "153.8",
         "Architect",
         "Photography",
         "TRUE"
        ],
        [
         "amxdi438",
         "Diane Henson",
         "dianehenson438@wingacademy.com",
         "86382 Baker Ports Apt. 074 Cookfurt, NM 54313",
         "female",
         "74",
         null,
         null,
         null,
         "19",
         "62.52",
         "Butcher",
         "Playing musical instruments",
         "FALSE"
        ],
        [
         "amxco721",
         "Cody Lyons",
         "codylyons721@wingacademy.com",
         "60971 Carrillo Square Suite 141 New Kimberlybury, AS 02128",
         "male",
         "47",
         null,
         null,
         null,
         "14",
         "43.17",
         "Baker",
         "Hunting",
         "FALSE"
        ],
        [
         "amxma249",
         "Margaret Hardy",
         "margarethardy249@wingacademy.com",
         "2900 Sandra Villages Apt. 985 Phillipsstad, NH 19830",
         "female",
         "25",
         null,
         null,
         null,
         "9",
         "455.27",
         "Barber",
         "Other",
         "FALSE"
        ],
        [
         "amxar881",
         "Arthur Hayes",
         "arthurhayes881@wingacademy.com",
         "353 Elizabeth Forest Deannachester, NM 66952",
         "male",
         "75",
         null,
         null,
         null,
         "6",
         "749.78",
         "Chef",
         "Sewing",
         "FALSE"
        ],
        [
         "amxra702",
         "Raymond Taylor",
         "raymondtaylor702@wingacademy.com",
         "07867 John Mills Apt. 985 Tinaville, ID 59142",
         "male",
         "36",
         null,
         null,
         null,
         "6",
         "125.18",
         "Butcher",
         "Playing musical instruments",
         "FALSE"
        ],
        [
         "amxti476",
         "Tina Moore",
         "tinamoore476@wingacademy.com",
         "50984 Shelly Pass Port Nicholas, SC 48629",
         "female",
         "34",
         null,
         null,
         null,
         "17",
         "888.53",
         "Chef",
         "Running",
         "FALSE"
        ],
        [
         "amxky170",
         "Kylie White",
         "kyliewhite170@wingacademy.com",
         "5004 Christine Falls Suite 217 Jasonburgh, NJ 75688",
         "female",
         "63",
         null,
         null,
         null,
         "6",
         "872.18",
         "Janitor",
         "Reading",
         "TRUE"
        ],
        [
         "amxjo648",
         "Jonathan Manning",
         "jonathanmanning648@wingacademy.com",
         "1501 Gregory Glens Suite 940 Stephensstad, GU 55206",
         "male",
         "30",
         null,
         null,
         null,
         "0",
         "178.54",
         "Librarian",
         "Playing sports",
         "FALSE"
        ],
        [
         "amxan256",
         "Angela Bryant",
         "angelabryant256@wingacademy.com",
         "01454 Christopher Turnpike North Ryanstad, MI 36226",
         "female",
         "23",
         null,
         null,
         null,
         "3",
         "525.2",
         "Politician",
         "Cycling",
         "FALSE"
        ]
       ],
       "datasetInfos": [],
       "dbfsResultPath": null,
       "isJsonSchema": true,
       "metadata": {},
       "overflow": false,
       "plotOptions": {
        "customPlotOptions": {},
        "displayType": "table",
        "pivotAggregation": null,
        "pivotColumns": null,
        "xColumns": null,
        "yColumns": null
       },
       "removedWidgets": [],
       "schema": [
        {
         "metadata": "{}",
         "name": "Customer Id",
         "type": "\"string\""
        },
        {
         "metadata": "{}",
         "name": "Name",
         "type": "\"string\""
        },
        {
         "metadata": "{}",
         "name": "Email Id",
         "type": "\"string\""
        },
        {
         "metadata": "{}",
         "name": "address",
         "type": "\"string\""
        },
        {
         "metadata": "{}",
         "name": "gender",
         "type": "\"string\""
        },
        {
         "metadata": "{}",
         "name": "age",
         "type": "\"string\""
        },
        {
         "metadata": "{}",
         "name": "Joining Date",
         "type": "\"date\""
        },
        {
         "metadata": "{}",
         "name": "registered",
         "type": "\"date\""
        },
        {
         "metadata": "{}",
         "name": "order ID",
         "type": "\"string\""
        },
        {
         "metadata": "{}",
         "name": "orders",
         "type": "\"string\""
        },
        {
         "metadata": "{}",
         "name": "spent",
         "type": "\"string\""
        },
        {
         "metadata": "{}",
         "name": "job",
         "type": "\"string\""
        },
        {
         "metadata": "{}",
         "name": "hobbies",
         "type": "\"string\""
        },
        {
         "metadata": "{}",
         "name": "is_married",
         "type": "\"string\""
        }
       ],
       "type": "table"
      }
     },
     "output_type": "display_data"
    }
   ],
   "source": [
    "df = df.withColumn(\"Joining Date\", to_date(col(\"Joining Date\"), \"yyyy-MM-dd\"))\n",
    "df = df.withColumn(\"registered\", to_date(col(\"registered\"), \"yyyy-MM-dd\"))\n",
    "display(df)"
   ]
  },
  {
   "cell_type": "code",
   "execution_count": 0,
   "metadata": {
    "application/vnd.databricks.v1+cell": {
     "cellMetadata": {
      "byteLimit": 2048000,
      "rowLimit": 10000
     },
     "inputWidgets": {},
     "nuid": "ade81103-3277-40d3-81ab-4bffb410772b",
     "showTitle": false,
     "title": ""
    }
   },
   "outputs": [
    {
     "output_type": "stream",
     "name": "stdout",
     "output_type": "stream",
     "text": [
      "+---------+-----+\n|age_group|count|\n+---------+-----+\n|       20|    5|\n|       30|    7|\n|       40|    3|\n|       50|    4|\n|       60|    6|\n|       70|    4|\n+---------+-----+\n\n"
     ]
    }
   ],
   "source": [
    "# Create age groups (e.g., 20-30, 30-40, etc.) and count the number of customers in each group\n",
    "df_with_age_groups = df.withColumn(\"age_group\", floor(col(\"age\") / 10) * 10)\n",
    "age_group_counts = df_with_age_groups.groupBy(\"age_group\").count().orderBy(\"age_group\")\n",
    "age_group_counts.show()"
   ]
  },
  {
   "cell_type": "code",
   "execution_count": 0,
   "metadata": {
    "application/vnd.databricks.v1+cell": {
     "cellMetadata": {
      "byteLimit": 2048000,
      "rowLimit": 10000
     },
     "inputWidgets": {},
     "nuid": "43a5f719-8549-4c5b-9f54-89252a04c1d2",
     "showTitle": false,
     "title": ""
    }
   },
   "outputs": [
    {
     "output_type": "display_data",
     "data": {
      "text/html": [
       "<style scoped>\n",
       "  .table-result-container {\n",
       "    max-height: 300px;\n",
       "    overflow: auto;\n",
       "  }\n",
       "  table, th, td {\n",
       "    border: 1px solid black;\n",
       "    border-collapse: collapse;\n",
       "  }\n",
       "  th, td {\n",
       "    padding: 5px;\n",
       "  }\n",
       "  th {\n",
       "    text-align: left;\n",
       "  }\n",
       "</style><div class='table-result-container'><table class='table-result'><thead style='background-color: white'><tr><th>Customer Id</th><th>Name</th><th>Email Id</th><th>address</th><th>gender</th><th>age</th><th>Joining Date</th><th>registered</th><th>order ID</th><th>orders</th><th>spent</th><th>job</th><th>hobbies</th><th>is_married</th><th>above_threshold</th></tr></thead><tbody><tr><td>amxjo131</td><td>Joseph Rice</td><td>josephrice131@slingacademy.com</td><td>91773 Miller Shoal Diaztown, FL 38841</td><td>male</td><td>43</td><td>null</td><td>null</td><td>null</td><td>7</td><td>568.29</td><td>Artist</td><td>Playing sports</td><td>FALSE</td><td>Below Threshold</td></tr><tr><td>amxga386</td><td>Gary Moore</td><td>garymoore386@slingacademy.com</td><td>6450 John Lodge Territon, KY 95945</td><td>male</td><td>71</td><td>null</td><td>null</td><td>null</td><td>11</td><td>568.92</td><td>Artist</td><td>Swimming</td><td>TRUE</td><td>Above Threshold</td></tr><tr><td>amxj944</td><td>John Walker</td><td>johnwalker944@slingacademy.com</td><td>27265 Murray Island Kevinfort, PA 63231</td><td>male</td><td>44</td><td>null</td><td>null</td><td>null</td><td>11</td><td>497.12</td><td>Clerk</td><td>Painting</td><td>FALSE</td><td>Below Threshold</td></tr><tr><td>amxer176</td><td>Eric Carter</td><td>ericcarter176@slingacademy.com</td><td>USNS Knight FPO AA 76532</td><td>male</td><td>38</td><td>null</td><td>null</td><td>null</td><td>17</td><td>834.6</td><td>Butcher</td><td>Playing musical instruments</td><td>FALSE</td><td>Below Threshold</td></tr><tr><td>amxwi427</td><td>William Jackson</td><td>williamjackson427@slingacademy.com</td><td>170 Jackson Loaf Kristenland, AS 48876</td><td>male</td><td>58</td><td>null</td><td>null</td><td>null</td><td>14</td><td>151.59</td><td>Engineer</td><td>Reading</td><td>FALSE</td><td>Above Threshold</td></tr><tr><td>amxni228</td><td>Nicole Jones</td><td>nicolejones228@slingacademy.com</td><td>14354 Baker Harbor Apt. 017 Ericville, HI 11192</td><td>female</td><td>33</td><td>null</td><td>null</td><td>null</td><td>19</td><td>33.17</td><td>Unemployed</td><td>Running</td><td>TRUE</td><td>Below Threshold</td></tr><tr><td>amxda980</td><td>David Davis</td><td>daviddavis980@slingacademy.com</td><td>021 Katherine Mall Jameston, DC 24685</td><td>male</td><td>59</td><td>null</td><td>null</td><td>null</td><td>9</td><td>970.96</td><td>Doctor</td><td>Playing sports</td><td>FALSE</td><td>Above Threshold</td></tr><tr><td>amxja889</td><td>Jason Montgomery</td><td>jasonmontgomery889@slingacademy.com</td><td>14657 Scott Loop Apt. 735 Port Ashley, NH 34470</td><td>male</td><td>58</td><td>null</td><td>null</td><td>null</td><td>12</td><td>676.2</td><td>Waitress</td><td>Collecting</td><td>FALSE</td><td>Above Threshold</td></tr><tr><td>amxke695</td><td>Kent Weaver</td><td>kentweaver695@slingacademy.com</td><td>6644 Mitchell Burg Victorhaven, KS 66356</td><td>male</td><td>61</td><td>null</td><td>null</td><td>null</td><td>1</td><td>674.37</td><td>Clerk</td><td>Hiking</td><td>FALSE</td><td>Above Threshold</td></tr><tr><td>amxda573</td><td>Darrell Dillon</td><td>darrelldillon573@slingacademy.com</td><td>PSC 7267, Box 9911 APO AE 49343</td><td>male</td><td>50</td><td>null</td><td>null</td><td>null</td><td>12</td><td>750.72</td><td>Dentist</td><td>Watching movies</td><td>FALSE</td><td>Below Threshold</td></tr><tr><td>amxja322</td><td>Jacqueline Wang</td><td>jacquelinewang322@slingacademy.com</td><td>16963 Stewart Curve Suite 27 South Cameron, ND 25136</td><td>female</td><td>22</td><td>null</td><td>null</td><td>null</td><td>12</td><td>962.47</td><td>Housewife</td><td>Collecting</td><td>FALSE</td><td>Below Threshold</td></tr><tr><td>amxjo185</td><td>Jodi Gonzalez</td><td>jodigonzalez185@slingacademy.com</td><td>378 Johnson Oval South Stacie, RI 76332</td><td>female</td><td>69</td><td>null</td><td>null</td><td>null</td><td>12</td><td>68.67</td><td>Baker</td><td>Photography</td><td>FALSE</td><td>Above Threshold</td></tr><tr><td>amxom769</td><td>Omar Martin</td><td>omarmartin769@slingacademy.com</td><td>Unit 9103 Box 4771 DPO AA 16592</td><td>male</td><td>28</td><td>null</td><td>null</td><td>null</td><td>3</td><td>162.58</td><td>Doctor</td><td>Gardening</td><td>TRUE</td><td>Below Threshold</td></tr><tr><td>amxni473</td><td>Nicole Lara</td><td>nicolelara473@slingacademy.com</td><td>9822 Lisa Courts Johnhaven, IL 80438</td><td>female</td><td>77</td><td>null</td><td>null</td><td>null</td><td>17</td><td>309.81</td><td>Janitor</td><td>Hiking</td><td>TRUE</td><td>Above Threshold</td></tr><tr><td>amxja753</td><td>Jason Brown</td><td>jasonbrown753@slingacademy.com</td><td>7310 Romero Summit East Scotttown, DC 53183</td><td>male</td><td>63</td><td>null</td><td>null</td><td>null</td><td>13</td><td>763.27</td><td>Lawyer</td><td>Fishing</td><td>TRUE</td><td>Above Threshold</td></tr><tr><td>amxda257</td><td>David Benson</td><td>davidbenson257@slingacademy.com</td><td>444 Derek Summit Lisaborough, WA 20685</td><td>male</td><td>61</td><td>null</td><td>null</td><td>null</td><td>17</td><td>111.11</td><td>Lawyer</td><td>Meditation</td><td>TRUE</td><td>Above Threshold</td></tr><tr><td>amxki513</td><td>Kimberly Mora</td><td>kimberlymora513@slingacademy.com</td><td>7679 Perry Square West Amybury, RI 15144</td><td>female</td><td>34</td><td>null</td><td>null</td><td>null</td><td>10</td><td>208.46</td><td>Farmer</td><td>Collecting</td><td>FALSE</td><td>Below Threshold</td></tr><tr><td>amxer904</td><td>Erik Macias</td><td>erikmacias904@wingacademy.com</td><td>568 Christopher Tunnel Toddburgh, DE 86966</td><td>male</td><td>25</td><td>null</td><td>null</td><td>null</td><td>8</td><td>439.53</td><td>Accountant</td><td>Fishing</td><td>FALSE</td><td>Below Threshold</td></tr><tr><td>amxja681</td><td>James Johnson</td><td>jamesjohnson681@wingacademy.com</td><td>19870 Sean Parkway North Jamesfurt, NC 28950</td><td>male</td><td>67</td><td>null</td><td>null</td><td>null</td><td>5</td><td>394.95</td><td>Security Guard</td><td>Watching movies</td><td>FALSE</td><td>Above Threshold</td></tr><tr><td>amxde324</td><td>Derek Peterson</td><td>derekpeterson324@wingacademy.com</td><td>70830 Jonathan Pine Wilcoxburgh, MI 38265</td><td>male</td><td>36</td><td>null</td><td>null</td><td>null</td><td>2</td><td>153.8</td><td>Architect</td><td>Photography</td><td>TRUE</td><td>Below Threshold</td></tr><tr><td>amxdi438</td><td>Diane Henson</td><td>dianehenson438@wingacademy.com</td><td>86382 Baker Ports Apt. 074 Cookfurt, NM 54313</td><td>female</td><td>74</td><td>null</td><td>null</td><td>null</td><td>19</td><td>62.52</td><td>Butcher</td><td>Playing musical instruments</td><td>FALSE</td><td>Above Threshold</td></tr><tr><td>amxco721</td><td>Cody Lyons</td><td>codylyons721@wingacademy.com</td><td>60971 Carrillo Square Suite 141 New Kimberlybury, AS 02128</td><td>male</td><td>47</td><td>null</td><td>null</td><td>null</td><td>14</td><td>43.17</td><td>Baker</td><td>Hunting</td><td>FALSE</td><td>Below Threshold</td></tr><tr><td>amxma249</td><td>Margaret Hardy</td><td>margarethardy249@wingacademy.com</td><td>2900 Sandra Villages Apt. 985 Phillipsstad, NH 19830</td><td>female</td><td>25</td><td>null</td><td>null</td><td>null</td><td>9</td><td>455.27</td><td>Barber</td><td>Other</td><td>FALSE</td><td>Below Threshold</td></tr><tr><td>amxar881</td><td>Arthur Hayes</td><td>arthurhayes881@wingacademy.com</td><td>353 Elizabeth Forest Deannachester, NM 66952</td><td>male</td><td>75</td><td>null</td><td>null</td><td>null</td><td>6</td><td>749.78</td><td>Chef</td><td>Sewing</td><td>FALSE</td><td>Above Threshold</td></tr><tr><td>amxra702</td><td>Raymond Taylor</td><td>raymondtaylor702@wingacademy.com</td><td>07867 John Mills Apt. 985 Tinaville, ID 59142</td><td>male</td><td>36</td><td>null</td><td>null</td><td>null</td><td>6</td><td>125.18</td><td>Butcher</td><td>Playing musical instruments</td><td>FALSE</td><td>Below Threshold</td></tr><tr><td>amxti476</td><td>Tina Moore</td><td>tinamoore476@wingacademy.com</td><td>50984 Shelly Pass Port Nicholas, SC 48629</td><td>female</td><td>34</td><td>null</td><td>null</td><td>null</td><td>17</td><td>888.53</td><td>Chef</td><td>Running</td><td>FALSE</td><td>Below Threshold</td></tr><tr><td>amxky170</td><td>Kylie White</td><td>kyliewhite170@wingacademy.com</td><td>5004 Christine Falls Suite 217 Jasonburgh, NJ 75688</td><td>female</td><td>63</td><td>null</td><td>null</td><td>null</td><td>6</td><td>872.18</td><td>Janitor</td><td>Reading</td><td>TRUE</td><td>Above Threshold</td></tr><tr><td>amxjo648</td><td>Jonathan Manning</td><td>jonathanmanning648@wingacademy.com</td><td>1501 Gregory Glens Suite 940 Stephensstad, GU 55206</td><td>male</td><td>30</td><td>null</td><td>null</td><td>null</td><td>0</td><td>178.54</td><td>Librarian</td><td>Playing sports</td><td>FALSE</td><td>Below Threshold</td></tr><tr><td>amxan256</td><td>Angela Bryant</td><td>angelabryant256@wingacademy.com</td><td>01454 Christopher Turnpike North Ryanstad, MI 36226</td><td>female</td><td>23</td><td>null</td><td>null</td><td>null</td><td>3</td><td>525.2</td><td>Politician</td><td>Cycling</td><td>FALSE</td><td>Below Threshold</td></tr></tbody></table></div>"
      ]
     },
     "metadata": {
      "application/vnd.databricks.v1+output": {
       "addedWidgets": {},
       "aggData": [],
       "aggError": "",
       "aggOverflow": false,
       "aggSchema": [],
       "aggSeriesLimitReached": false,
       "aggType": "",
       "arguments": {},
       "columnCustomDisplayInfos": {},
       "data": [
        [
         "amxjo131",
         "Joseph Rice",
         "josephrice131@slingacademy.com",
         "91773 Miller Shoal Diaztown, FL 38841",
         "male",
         "43",
         null,
         null,
         null,
         "7",
         "568.29",
         "Artist",
         "Playing sports",
         "FALSE",
         "Below Threshold"
        ],
        [
         "amxga386",
         "Gary Moore",
         "garymoore386@slingacademy.com",
         "6450 John Lodge Territon, KY 95945",
         "male",
         "71",
         null,
         null,
         null,
         "11",
         "568.92",
         "Artist",
         "Swimming",
         "TRUE",
         "Above Threshold"
        ],
        [
         "amxj944",
         "John Walker",
         "johnwalker944@slingacademy.com",
         "27265 Murray Island Kevinfort, PA 63231",
         "male",
         "44",
         null,
         null,
         null,
         "11",
         "497.12",
         "Clerk",
         "Painting",
         "FALSE",
         "Below Threshold"
        ],
        [
         "amxer176",
         "Eric Carter",
         "ericcarter176@slingacademy.com",
         "USNS Knight FPO AA 76532",
         "male",
         "38",
         null,
         null,
         null,
         "17",
         "834.6",
         "Butcher",
         "Playing musical instruments",
         "FALSE",
         "Below Threshold"
        ],
        [
         "amxwi427",
         "William Jackson",
         "williamjackson427@slingacademy.com",
         "170 Jackson Loaf Kristenland, AS 48876",
         "male",
         "58",
         null,
         null,
         null,
         "14",
         "151.59",
         "Engineer",
         "Reading",
         "FALSE",
         "Above Threshold"
        ],
        [
         "amxni228",
         "Nicole Jones",
         "nicolejones228@slingacademy.com",
         "14354 Baker Harbor Apt. 017 Ericville, HI 11192",
         "female",
         "33",
         null,
         null,
         null,
         "19",
         "33.17",
         "Unemployed",
         "Running",
         "TRUE",
         "Below Threshold"
        ],
        [
         "amxda980",
         "David Davis",
         "daviddavis980@slingacademy.com",
         "021 Katherine Mall Jameston, DC 24685",
         "male",
         "59",
         null,
         null,
         null,
         "9",
         "970.96",
         "Doctor",
         "Playing sports",
         "FALSE",
         "Above Threshold"
        ],
        [
         "amxja889",
         "Jason Montgomery",
         "jasonmontgomery889@slingacademy.com",
         "14657 Scott Loop Apt. 735 Port Ashley, NH 34470",
         "male",
         "58",
         null,
         null,
         null,
         "12",
         "676.2",
         "Waitress",
         "Collecting",
         "FALSE",
         "Above Threshold"
        ],
        [
         "amxke695",
         "Kent Weaver",
         "kentweaver695@slingacademy.com",
         "6644 Mitchell Burg Victorhaven, KS 66356",
         "male",
         "61",
         null,
         null,
         null,
         "1",
         "674.37",
         "Clerk",
         "Hiking",
         "FALSE",
         "Above Threshold"
        ],
        [
         "amxda573",
         "Darrell Dillon",
         "darrelldillon573@slingacademy.com",
         "PSC 7267, Box 9911 APO AE 49343",
         "male",
         "50",
         null,
         null,
         null,
         "12",
         "750.72",
         "Dentist",
         "Watching movies",
         "FALSE",
         "Below Threshold"
        ],
        [
         "amxja322",
         "Jacqueline Wang",
         "jacquelinewang322@slingacademy.com",
         "16963 Stewart Curve Suite 27 South Cameron, ND 25136",
         "female",
         "22",
         null,
         null,
         null,
         "12",
         "962.47",
         "Housewife",
         "Collecting",
         "FALSE",
         "Below Threshold"
        ],
        [
         "amxjo185",
         "Jodi Gonzalez",
         "jodigonzalez185@slingacademy.com",
         "378 Johnson Oval South Stacie, RI 76332",
         "female",
         "69",
         null,
         null,
         null,
         "12",
         "68.67",
         "Baker",
         "Photography",
         "FALSE",
         "Above Threshold"
        ],
        [
         "amxom769",
         "Omar Martin",
         "omarmartin769@slingacademy.com",
         "Unit 9103 Box 4771 DPO AA 16592",
         "male",
         "28",
         null,
         null,
         null,
         "3",
         "162.58",
         "Doctor",
         "Gardening",
         "TRUE",
         "Below Threshold"
        ],
        [
         "amxni473",
         "Nicole Lara",
         "nicolelara473@slingacademy.com",
         "9822 Lisa Courts Johnhaven, IL 80438",
         "female",
         "77",
         null,
         null,
         null,
         "17",
         "309.81",
         "Janitor",
         "Hiking",
         "TRUE",
         "Above Threshold"
        ],
        [
         "amxja753",
         "Jason Brown",
         "jasonbrown753@slingacademy.com",
         "7310 Romero Summit East Scotttown, DC 53183",
         "male",
         "63",
         null,
         null,
         null,
         "13",
         "763.27",
         "Lawyer",
         "Fishing",
         "TRUE",
         "Above Threshold"
        ],
        [
         "amxda257",
         "David Benson",
         "davidbenson257@slingacademy.com",
         "444 Derek Summit Lisaborough, WA 20685",
         "male",
         "61",
         null,
         null,
         null,
         "17",
         "111.11",
         "Lawyer",
         "Meditation",
         "TRUE",
         "Above Threshold"
        ],
        [
         "amxki513",
         "Kimberly Mora",
         "kimberlymora513@slingacademy.com",
         "7679 Perry Square West Amybury, RI 15144",
         "female",
         "34",
         null,
         null,
         null,
         "10",
         "208.46",
         "Farmer",
         "Collecting",
         "FALSE",
         "Below Threshold"
        ],
        [
         "amxer904",
         "Erik Macias",
         "erikmacias904@wingacademy.com",
         "568 Christopher Tunnel Toddburgh, DE 86966",
         "male",
         "25",
         null,
         null,
         null,
         "8",
         "439.53",
         "Accountant",
         "Fishing",
         "FALSE",
         "Below Threshold"
        ],
        [
         "amxja681",
         "James Johnson",
         "jamesjohnson681@wingacademy.com",
         "19870 Sean Parkway North Jamesfurt, NC 28950",
         "male",
         "67",
         null,
         null,
         null,
         "5",
         "394.95",
         "Security Guard",
         "Watching movies",
         "FALSE",
         "Above Threshold"
        ],
        [
         "amxde324",
         "Derek Peterson",
         "derekpeterson324@wingacademy.com",
         "70830 Jonathan Pine Wilcoxburgh, MI 38265",
         "male",
         "36",
         null,
         null,
         null,
         "2",
         "153.8",
         "Architect",
         "Photography",
         "TRUE",
         "Below Threshold"
        ],
        [
         "amxdi438",
         "Diane Henson",
         "dianehenson438@wingacademy.com",
         "86382 Baker Ports Apt. 074 Cookfurt, NM 54313",
         "female",
         "74",
         null,
         null,
         null,
         "19",
         "62.52",
         "Butcher",
         "Playing musical instruments",
         "FALSE",
         "Above Threshold"
        ],
        [
         "amxco721",
         "Cody Lyons",
         "codylyons721@wingacademy.com",
         "60971 Carrillo Square Suite 141 New Kimberlybury, AS 02128",
         "male",
         "47",
         null,
         null,
         null,
         "14",
         "43.17",
         "Baker",
         "Hunting",
         "FALSE",
         "Below Threshold"
        ],
        [
         "amxma249",
         "Margaret Hardy",
         "margarethardy249@wingacademy.com",
         "2900 Sandra Villages Apt. 985 Phillipsstad, NH 19830",
         "female",
         "25",
         null,
         null,
         null,
         "9",
         "455.27",
         "Barber",
         "Other",
         "FALSE",
         "Below Threshold"
        ],
        [
         "amxar881",
         "Arthur Hayes",
         "arthurhayes881@wingacademy.com",
         "353 Elizabeth Forest Deannachester, NM 66952",
         "male",
         "75",
         null,
         null,
         null,
         "6",
         "749.78",
         "Chef",
         "Sewing",
         "FALSE",
         "Above Threshold"
        ],
        [
         "amxra702",
         "Raymond Taylor",
         "raymondtaylor702@wingacademy.com",
         "07867 John Mills Apt. 985 Tinaville, ID 59142",
         "male",
         "36",
         null,
         null,
         null,
         "6",
         "125.18",
         "Butcher",
         "Playing musical instruments",
         "FALSE",
         "Below Threshold"
        ],
        [
         "amxti476",
         "Tina Moore",
         "tinamoore476@wingacademy.com",
         "50984 Shelly Pass Port Nicholas, SC 48629",
         "female",
         "34",
         null,
         null,
         null,
         "17",
         "888.53",
         "Chef",
         "Running",
         "FALSE",
         "Below Threshold"
        ],
        [
         "amxky170",
         "Kylie White",
         "kyliewhite170@wingacademy.com",
         "5004 Christine Falls Suite 217 Jasonburgh, NJ 75688",
         "female",
         "63",
         null,
         null,
         null,
         "6",
         "872.18",
         "Janitor",
         "Reading",
         "TRUE",
         "Above Threshold"
        ],
        [
         "amxjo648",
         "Jonathan Manning",
         "jonathanmanning648@wingacademy.com",
         "1501 Gregory Glens Suite 940 Stephensstad, GU 55206",
         "male",
         "30",
         null,
         null,
         null,
         "0",
         "178.54",
         "Librarian",
         "Playing sports",
         "FALSE",
         "Below Threshold"
        ],
        [
         "amxan256",
         "Angela Bryant",
         "angelabryant256@wingacademy.com",
         "01454 Christopher Turnpike North Ryanstad, MI 36226",
         "female",
         "23",
         null,
         null,
         null,
         "3",
         "525.2",
         "Politician",
         "Cycling",
         "FALSE",
         "Below Threshold"
        ]
       ],
       "datasetInfos": [],
       "dbfsResultPath": null,
       "isJsonSchema": true,
       "metadata": {},
       "overflow": false,
       "plotOptions": {
        "customPlotOptions": {},
        "displayType": "table",
        "pivotAggregation": null,
        "pivotColumns": null,
        "xColumns": null,
        "yColumns": null
       },
       "removedWidgets": [],
       "schema": [
        {
         "metadata": "{}",
         "name": "Customer Id",
         "type": "\"string\""
        },
        {
         "metadata": "{}",
         "name": "Name",
         "type": "\"string\""
        },
        {
         "metadata": "{}",
         "name": "Email Id",
         "type": "\"string\""
        },
        {
         "metadata": "{}",
         "name": "address",
         "type": "\"string\""
        },
        {
         "metadata": "{}",
         "name": "gender",
         "type": "\"string\""
        },
        {
         "metadata": "{}",
         "name": "age",
         "type": "\"string\""
        },
        {
         "metadata": "{}",
         "name": "Joining Date",
         "type": "\"date\""
        },
        {
         "metadata": "{}",
         "name": "registered",
         "type": "\"date\""
        },
        {
         "metadata": "{}",
         "name": "order ID",
         "type": "\"string\""
        },
        {
         "metadata": "{}",
         "name": "orders",
         "type": "\"string\""
        },
        {
         "metadata": "{}",
         "name": "spent",
         "type": "\"string\""
        },
        {
         "metadata": "{}",
         "name": "job",
         "type": "\"string\""
        },
        {
         "metadata": "{}",
         "name": "hobbies",
         "type": "\"string\""
        },
        {
         "metadata": "{}",
         "name": "is_married",
         "type": "\"string\""
        },
        {
         "metadata": "{}",
         "name": "above_threshold",
         "type": "\"string\""
        }
       ],
       "type": "table"
      }
     },
     "output_type": "display_data"
    }
   ],
   "source": [
    "age_threshold = 50\n",
    "df = df.withColumn(\"above_threshold\",when(col(\"age\") > age_threshold, \"Above Threshold\").otherwise(\"Below Threshold\"))\n",
    "display(df)"
   ]
  }
 ],
 "metadata": {
  "application/vnd.databricks.v1+notebook": {
   "dashboards": [],
   "language": "python",
   "notebookMetadata": {
    "pythonIndentUnit": 4
   },
   "notebookName": "pyspark_transformation",
   "widgets": {}
  }
 },
 "nbformat": 4,
 "nbformat_minor": 0
}
