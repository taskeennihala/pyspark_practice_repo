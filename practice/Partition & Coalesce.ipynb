{
 "cells": [
  {
   "cell_type": "markdown",
   "metadata": {
    "application/vnd.databricks.v1+cell": {
     "cellMetadata": {
      "byteLimit": 2048000,
      "rowLimit": 10000
     },
     "inputWidgets": {},
     "nuid": "d25e900d-5829-4308-b745-8fcb075d1f3c",
     "showTitle": false,
     "title": ""
    }
   },
   "source": [
    "# Repartition vs Coalesce"
   ]
  },
  {
   "cell_type": "markdown",
   "metadata": {
    "application/vnd.databricks.v1+cell": {
     "cellMetadata": {
      "byteLimit": 2048000,
      "rowLimit": 10000
     },
     "inputWidgets": {},
     "nuid": "c4540ca1-72ec-4bb0-8eb1-bc4e76655246",
     "showTitle": false,
     "title": ""
    }
   },
   "source": [
    "### Check default parameter "
   ]
  },
  {
   "cell_type": "code",
   "execution_count": 0,
   "metadata": {
    "application/vnd.databricks.v1+cell": {
     "cellMetadata": {
      "byteLimit": 2048000,
      "rowLimit": 10000
     },
     "inputWidgets": {},
     "nuid": "67b062b0-4182-4d97-9e2d-fc32c138b80e",
     "showTitle": false,
     "title": ""
    }
   },
   "outputs": [
    {
     "output_type": "stream",
     "name": "stdout",
     "output_type": "stream",
     "text": [
      "Out[3]: 8"
     ]
    }
   ],
   "source": [
    "sc.defaultParallelism"
   ]
  },
  {
   "cell_type": "code",
   "execution_count": 0,
   "metadata": {
    "application/vnd.databricks.v1+cell": {
     "cellMetadata": {
      "byteLimit": 2048000,
      "rowLimit": 10000
     },
     "inputWidgets": {},
     "nuid": "3121852e-8d04-4cb7-8c56-9ffc2d696d20",
     "showTitle": false,
     "title": ""
    }
   },
   "outputs": [
    {
     "output_type": "stream",
     "name": "stdout",
     "output_type": "stream",
     "text": [
      "Out[4]: '134217728b'"
     ]
    }
   ],
   "source": [
    "spark.conf.get(\"spark.sql.files.maxPartitionBytes\") #128 mb"
   ]
  },
  {
   "cell_type": "markdown",
   "metadata": {
    "application/vnd.databricks.v1+cell": {
     "cellMetadata": {
      "byteLimit": 2048000,
      "rowLimit": 10000
     },
     "inputWidgets": {},
     "nuid": "e6b4d018-016c-4aed-a27c-6cbc2e04d5c4",
     "showTitle": false,
     "title": ""
    }
   },
   "source": [
    "### Generating data within spark enviroment"
   ]
  },
  {
   "cell_type": "code",
   "execution_count": 0,
   "metadata": {
    "application/vnd.databricks.v1+cell": {
     "cellMetadata": {
      "byteLimit": 2048000,
      "rowLimit": 10000
     },
     "inputWidgets": {},
     "nuid": "55c8efed-595c-4b78-ac0d-c5ed9dafa9e8",
     "showTitle": false,
     "title": ""
    }
   },
   "outputs": [
    {
     "output_type": "display_data",
     "data": {
      "text/html": [
       "<style scoped>\n",
       "  .table-result-container {\n",
       "    max-height: 300px;\n",
       "    overflow: auto;\n",
       "  }\n",
       "  table, th, td {\n",
       "    border: 1px solid black;\n",
       "    border-collapse: collapse;\n",
       "  }\n",
       "  th, td {\n",
       "    padding: 5px;\n",
       "  }\n",
       "  th {\n",
       "    text-align: left;\n",
       "  }\n",
       "</style><div class='table-result-container'><table class='table-result'><thead style='background-color: white'><tr><th>value</th></tr></thead><tbody><tr><td>0</td></tr><tr><td>1</td></tr><tr><td>2</td></tr><tr><td>3</td></tr><tr><td>4</td></tr><tr><td>5</td></tr><tr><td>6</td></tr><tr><td>7</td></tr><tr><td>8</td></tr><tr><td>9</td></tr></tbody></table></div>"
      ]
     },
     "metadata": {
      "application/vnd.databricks.v1+output": {
       "addedWidgets": {},
       "aggData": [],
       "aggError": "",
       "aggOverflow": false,
       "aggSchema": [],
       "aggSeriesLimitReached": false,
       "aggType": "",
       "arguments": {},
       "columnCustomDisplayInfos": {},
       "data": [
        [
         0
        ],
        [
         1
        ],
        [
         2
        ],
        [
         3
        ],
        [
         4
        ],
        [
         5
        ],
        [
         6
        ],
        [
         7
        ],
        [
         8
        ],
        [
         9
        ]
       ],
       "datasetInfos": [],
       "dbfsResultPath": null,
       "isJsonSchema": true,
       "metadata": {},
       "overflow": false,
       "plotOptions": {
        "customPlotOptions": {},
        "displayType": "table",
        "pivotAggregation": null,
        "pivotColumns": null,
        "xColumns": null,
        "yColumns": null
       },
       "removedWidgets": [],
       "schema": [
        {
         "metadata": "{}",
         "name": "value",
         "type": "\"integer\""
        }
       ],
       "type": "table"
      }
     },
     "output_type": "display_data"
    },
    {
     "output_type": "stream",
     "name": "stdout",
     "output_type": "stream",
     "text": [
      "Out[7]: 8"
     ]
    }
   ],
   "source": [
    "from pyspark.sql.types import IntegerType\n",
    "df=spark.createDataFrame(range(10),IntegerType())\n",
    "df.display()\n",
    "df.rdd.getNumPartitions()"
   ]
  },
  {
   "cell_type": "markdown",
   "metadata": {
    "application/vnd.databricks.v1+cell": {
     "cellMetadata": {},
     "inputWidgets": {},
     "nuid": "9d2536b4-2b2a-4f85-a06a-2d22950ebc86",
     "showTitle": false,
     "title": ""
    }
   },
   "source": [
    "### Read external file in Spark"
   ]
  },
  {
   "cell_type": "code",
   "execution_count": 0,
   "metadata": {
    "application/vnd.databricks.v1+cell": {
     "cellMetadata": {
      "byteLimit": 2048000,
      "rowLimit": 10000
     },
     "inputWidgets": {},
     "nuid": "060efa94-17e0-4552-8657-7003a121aaaa",
     "showTitle": false,
     "title": ""
    }
   },
   "outputs": [
    {
     "output_type": "stream",
     "name": "stdout",
     "output_type": "stream",
     "text": [
      "Out[8]: [[Row(value=0)],\n [Row(value=1)],\n [Row(value=2)],\n [Row(value=3), Row(value=4)],\n [Row(value=5)],\n [Row(value=6)],\n [Row(value=7)],\n [Row(value=8), Row(value=9)]]"
     ]
    }
   ],
   "source": [
    "df.rdd.glom().collect()"
   ]
  },
  {
   "cell_type": "markdown",
   "metadata": {
    "application/vnd.databricks.v1+cell": {
     "cellMetadata": {},
     "inputWidgets": {},
     "nuid": "956fba7c-f9ff-41e0-90aa-e44de19dbf81",
     "showTitle": false,
     "title": ""
    }
   },
   "source": [
    "### Read external file in Spark"
   ]
  },
  {
   "cell_type": "code",
   "execution_count": 0,
   "metadata": {
    "application/vnd.databricks.v1+cell": {
     "cellMetadata": {
      "byteLimit": 2048000,
      "rowLimit": 10000
     },
     "inputWidgets": {},
     "nuid": "78227707-5969-4ab0-aacd-4ea332c9856e",
     "showTitle": false,
     "title": ""
    }
   },
   "outputs": [
    {
     "output_type": "stream",
     "name": "stdout",
     "output_type": "stream",
     "text": [
      "Out[17]: [FileInfo(path='dbfs:/FileStore/sample_json_1.json', name='sample_json_1.json', size=11543, modificationTime=1695380116000)]"
     ]
    }
   ],
   "source": [
    "dbutils.fs.ls(\"dbfs:/FileStore/sample_json_1.json\")"
   ]
  },
  {
   "cell_type": "code",
   "execution_count": 0,
   "metadata": {
    "application/vnd.databricks.v1+cell": {
     "cellMetadata": {
      "byteLimit": 2048000,
      "rowLimit": 10000
     },
     "inputWidgets": {},
     "nuid": "e71ffb31-8896-47ea-be3a-4f1503a0688a",
     "showTitle": false,
     "title": ""
    }
   },
   "outputs": [
    {
     "output_type": "display_data",
     "data": {
      "text/html": [
       "<style scoped>\n",
       "  .table-result-container {\n",
       "    max-height: 300px;\n",
       "    overflow: auto;\n",
       "  }\n",
       "  table, th, td {\n",
       "    border: 1px solid black;\n",
       "    border-collapse: collapse;\n",
       "  }\n",
       "  th, td {\n",
       "    padding: 5px;\n",
       "  }\n",
       "  th {\n",
       "    text-align: left;\n",
       "  }\n",
       "</style><div class='table-result-container'><table class='table-result'><thead style='background-color: white'><tr><th>[</th></tr></thead><tbody><tr><td>  {</td></tr><tr><td>    \"id\": 1</td></tr><tr><td>    \"salary\": 50000</td></tr><tr><td>    \"department\": \"Sales\"</td></tr><tr><td>    \"projects\": [</td></tr><tr><td>      {</td></tr><tr><td>        \"name\": \"Project A\"</td></tr><tr><td>        \"status\": \"Completed\"</td></tr><tr><td>      }</td></tr><tr><td>      {</td></tr><tr><td>        \"name\": \"Project B\"</td></tr><tr><td>        \"status\": \"In Progress\"</td></tr><tr><td>      }</td></tr><tr><td>    ]</td></tr><tr><td>  }</td></tr><tr><td>  {</td></tr><tr><td>    \"id\": 2</td></tr><tr><td>    \"salary\": 60000</td></tr><tr><td>    \"department\": \"Marketing\"</td></tr><tr><td>    \"projects\": [</td></tr><tr><td>      {</td></tr><tr><td>        \"name\": \"Project C\"</td></tr><tr><td>        \"status\": \"Completed\"</td></tr><tr><td>      }</td></tr><tr><td>      {</td></tr><tr><td>        \"name\": \"Project D\"</td></tr><tr><td>        \"status\": \"In Progress\"</td></tr><tr><td>      }</td></tr><tr><td>    ]</td></tr><tr><td>  }</td></tr><tr><td>  {</td></tr><tr><td>    \"id\": 3</td></tr><tr><td>    \"salary\": 70000</td></tr><tr><td>    \"department\": \"Finance\"</td></tr><tr><td>    \"projects\": []</td></tr><tr><td>  }</td></tr><tr><td>  {</td></tr><tr><td>    \"id\": 4</td></tr><tr><td>    \"salary\": 55000</td></tr><tr><td>    \"department\": \"HR\"</td></tr><tr><td>    \"projects\": [</td></tr><tr><td>      {</td></tr><tr><td>        \"name\": \"Project E\"</td></tr><tr><td>        \"status\": \"Completed\"</td></tr><tr><td>      }</td></tr><tr><td>    ]</td></tr><tr><td>  }</td></tr><tr><td>  {</td></tr><tr><td>    \"id\": 5</td></tr><tr><td>    \"salary\": 65000</td></tr><tr><td>    \"department\": \"IT\"</td></tr><tr><td>    \"projects\": [</td></tr><tr><td>      {</td></tr><tr><td>        \"name\": \"Project F\"</td></tr><tr><td>        \"status\": \"In Progress\"</td></tr><tr><td>      }</td></tr><tr><td>      {</td></tr><tr><td>        \"name\": \"Project G\"</td></tr><tr><td>        \"status\": \"In Progress\"</td></tr><tr><td>      }</td></tr><tr><td>    ]</td></tr><tr><td>  }</td></tr><tr><td>  {</td></tr><tr><td>    \"id\": 6</td></tr><tr><td>    \"salary\": 55000</td></tr><tr><td>    \"department\": \"HR\"</td></tr><tr><td>    \"projects\": [</td></tr><tr><td>      {</td></tr><tr><td>        \"name\": \"Project H\"</td></tr><tr><td>        \"status\": \"Completed\"</td></tr><tr><td>      }</td></tr><tr><td>      {</td></tr><tr><td>        \"name\": \"Project I\"</td></tr><tr><td>        \"status\": \"In Progress\"</td></tr><tr><td>      }</td></tr><tr><td>    ]</td></tr><tr><td>  }</td></tr><tr><td>  {</td></tr><tr><td>    \"id\": 7</td></tr><tr><td>    \"salary\": 75000</td></tr><tr><td>    \"department\": \"IT\"</td></tr><tr><td>    \"projects\": [</td></tr><tr><td>      {</td></tr><tr><td>        \"name\": \"Project J\"</td></tr><tr><td>        \"status\": \"Completed\"</td></tr><tr><td>      }</td></tr><tr><td>      {</td></tr><tr><td>        \"name\": \"Project K\"</td></tr><tr><td>        \"status\": \"In Progress\"</td></tr><tr><td>      }</td></tr><tr><td>    ]</td></tr><tr><td>  }</td></tr><tr><td>  {</td></tr><tr><td>    \"id\": 8</td></tr><tr><td>    \"salary\": 90000</td></tr><tr><td>    \"department\": \"Finance\"</td></tr><tr><td>    \"projects\": [</td></tr><tr><td>      {</td></tr><tr><td>        \"name\": \"Project L\"</td></tr><tr><td>        \"status\": \"Completed\"</td></tr><tr><td>      }</td></tr><tr><td>      {</td></tr><tr><td>        \"name\": \"Project M\"</td></tr><tr><td>        \"status\": \"Completed\"</td></tr><tr><td>      }</td></tr><tr><td>    ]</td></tr><tr><td>  }</td></tr><tr><td>  {</td></tr><tr><td>    \"id\": 9</td></tr><tr><td>    \"salary\": null</td></tr><tr><td>    \"department\": \"Marketing\"</td></tr><tr><td>    \"projects\": [</td></tr><tr><td>      {</td></tr><tr><td>        \"name\": \"Project N\"</td></tr><tr><td>        \"status\": \"In Progress\"</td></tr><tr><td>      }</td></tr><tr><td>    ]</td></tr><tr><td>  }</td></tr><tr><td>  {</td></tr><tr><td>    \"id\": 10</td></tr><tr><td>    \"salary\": 80000</td></tr><tr><td>    \"department\": \"IT\"</td></tr><tr><td>    \"projects\": [</td></tr><tr><td>      {</td></tr><tr><td>        \"name\": \"Project O\"</td></tr><tr><td>        \"status\": \"Completed\"</td></tr><tr><td>      }</td></tr><tr><td>      {</td></tr><tr><td>        \"name\": \"Project P\"</td></tr><tr><td>        \"status\": \"In Progress\"</td></tr><tr><td>      }</td></tr><tr><td>    ]</td></tr><tr><td>  }</td></tr><tr><td>  {</td></tr><tr><td>    \"id\": 11</td></tr><tr><td>    \"salary\": 45000</td></tr><tr><td>    \"department\": \"Sales\"</td></tr><tr><td>    \"projects\": [</td></tr><tr><td>      {</td></tr><tr><td>        \"name\": \"Project Q\"</td></tr><tr><td>        \"status\": \"In Progress\"</td></tr><tr><td>      }</td></tr><tr><td>      {</td></tr><tr><td>        \"name\": \"Project R\"</td></tr><tr><td>        \"status\": \"In Progress\"</td></tr><tr><td>      }</td></tr><tr><td>    ]</td></tr><tr><td>  }</td></tr><tr><td>  {</td></tr><tr><td>    \"id\": 12</td></tr><tr><td>    \"salary\": 70000</td></tr><tr><td>    \"department\": \"Marketing\"</td></tr><tr><td>    \"projects\": [</td></tr><tr><td>      {</td></tr><tr><td>        \"name\": \"Project S\"</td></tr><tr><td>        \"status\": \"Completed\"</td></tr><tr><td>      }</td></tr><tr><td>      {</td></tr><tr><td>        \"name\": \"Project T\"</td></tr><tr><td>        \"status\": \"In Progress\"</td></tr><tr><td>      }</td></tr><tr><td>    ]</td></tr><tr><td>  }</td></tr><tr><td>  {</td></tr><tr><td>    \"id\": 13</td></tr><tr><td>    \"salary\": 60000</td></tr><tr><td>    \"department\": \"Finance\"</td></tr><tr><td>    \"projects\": []</td></tr><tr><td>  }</td></tr><tr><td>  {</td></tr><tr><td>    \"id\": 14</td></tr><tr><td>    \"salary\": 50000</td></tr><tr><td>    \"department\": \"HR\"</td></tr><tr><td>    \"projects\": [</td></tr><tr><td>      {</td></tr><tr><td>        \"name\": \"Project U\"</td></tr><tr><td>        \"status\": \"Completed\"</td></tr><tr><td>      }</td></tr><tr><td>    ]</td></tr><tr><td>  }</td></tr><tr><td>  {</td></tr><tr><td>    \"id\": 15</td></tr><tr><td>    \"salary\": 55000</td></tr><tr><td>    \"department\": \"IT\"</td></tr><tr><td>    \"projects\": [</td></tr><tr><td>      {</td></tr><tr><td>        \"name\": \"Project V\"</td></tr><tr><td>        \"status\": \"In Progress\"</td></tr><tr><td>      }</td></tr><tr><td>      {</td></tr><tr><td>        \"name\": \"Project W\"</td></tr><tr><td>        \"status\": \"In Progress\"</td></tr><tr><td>      }</td></tr><tr><td>    ]</td></tr><tr><td>  }</td></tr><tr><td>  {</td></tr><tr><td>    \"id\": 16</td></tr><tr><td>    \"salary\": 50000</td></tr><tr><td>    \"department\": \"HR\"</td></tr><tr><td>    \"projects\": [</td></tr><tr><td>      {</td></tr><tr><td>        \"name\": \"Project X\"</td></tr><tr><td>        \"status\": \"Completed\"</td></tr><tr><td>      }</td></tr><tr><td>      {</td></tr><tr><td>        \"name\": \"Project Y\"</td></tr><tr><td>        \"status\": \"In Progress\"</td></tr><tr><td>      }</td></tr><tr><td>    ]</td></tr><tr><td>  }</td></tr><tr><td>  {</td></tr><tr><td>    \"id\": 17</td></tr><tr><td>    \"salary\": 75000</td></tr><tr><td>    \"department\": \"IT\"</td></tr><tr><td>    \"projects\": [</td></tr><tr><td>      {</td></tr><tr><td>        \"name\": \"Project Z\"</td></tr><tr><td>        \"status\": \"Completed\"</td></tr><tr><td>      }</td></tr><tr><td>      {</td></tr><tr><td>        \"name\": \"Project A1\"</td></tr><tr><td>        \"status\": \"In Progress\"</td></tr><tr><td>      }</td></tr><tr><td>    ]</td></tr><tr><td>  }</td></tr><tr><td>  {</td></tr><tr><td>    \"id\": 18</td></tr><tr><td>    \"salary\": 80000</td></tr><tr><td>    \"department\": \"Finance\"</td></tr><tr><td>    \"projects\": [</td></tr><tr><td>      {</td></tr><tr><td>        \"name\": \"Project B1\"</td></tr><tr><td>        \"status\": \"Completed\"</td></tr><tr><td>      }</td></tr><tr><td>      {</td></tr><tr><td>        \"name\": \"Project C1\"</td></tr><tr><td>        \"status\": \"Completed\"</td></tr><tr><td>      }</td></tr><tr><td>    ]</td></tr><tr><td>  }</td></tr><tr><td>  {</td></tr><tr><td>    \"id\": 19</td></tr><tr><td>    \"salary\": null</td></tr><tr><td>    \"department\": \"Marketing\"</td></tr><tr><td>    \"projects\": [</td></tr><tr><td>      {</td></tr><tr><td>        \"name\": \"Project D1\"</td></tr><tr><td>        \"status\": \"In Progress\"</td></tr><tr><td>      }</td></tr><tr><td>    ]</td></tr><tr><td>  }</td></tr><tr><td>  {</td></tr><tr><td>    \"id\": 20</td></tr><tr><td>    \"salary\": 85000</td></tr><tr><td>    \"department\": \"IT\"</td></tr><tr><td>    \"projects\": [</td></tr><tr><td>      {</td></tr><tr><td>        \"name\": \"Project E1\"</td></tr><tr><td>        \"status\": \"Completed\"</td></tr><tr><td>      }</td></tr><tr><td>      {</td></tr><tr><td>        \"name\": \"Project F1\"</td></tr><tr><td>        \"status\": \"In Progress\"</td></tr><tr><td>      }</td></tr><tr><td>    ]</td></tr><tr><td>  }</td></tr><tr><td>  {</td></tr><tr><td>    \"id\": 21</td></tr><tr><td>    \"salary\": 55000</td></tr><tr><td>    \"department\": \"Sales\"</td></tr><tr><td>    \"projects\": [</td></tr><tr><td>      {</td></tr><tr><td>        \"name\": \"Project G1\"</td></tr><tr><td>        \"status\": \"In Progress\"</td></tr><tr><td>      }</td></tr><tr><td>      {</td></tr><tr><td>        \"name\": \"Project H1\"</td></tr><tr><td>        \"status\": \"In Progress\"</td></tr><tr><td>      }</td></tr><tr><td>    ]</td></tr><tr><td>  }</td></tr><tr><td>  {</td></tr><tr><td>    \"id\": 22</td></tr><tr><td>    \"salary\": 65000</td></tr><tr><td>    \"department\": \"Marketing\"</td></tr><tr><td>    \"projects\": [</td></tr><tr><td>      {</td></tr><tr><td>        \"name\": \"Project I1\"</td></tr><tr><td>        \"status\": \"Completed\"</td></tr><tr><td>      }</td></tr><tr><td>      {</td></tr><tr><td>        \"name\": \"Project J1\"</td></tr><tr><td>        \"status\": \"In Progress\"</td></tr><tr><td>      }</td></tr><tr><td>    ]</td></tr><tr><td>  }</td></tr><tr><td>  {</td></tr><tr><td>    \"id\": 23</td></tr><tr><td>    \"salary\": 60000</td></tr><tr><td>    \"department\": \"Finance\"</td></tr><tr><td>    \"projects\": []</td></tr><tr><td>  }</td></tr><tr><td>  {</td></tr><tr><td>    \"id\": 24</td></tr><tr><td>    \"salary\": 50000</td></tr><tr><td>    \"department\": \"HR\"</td></tr><tr><td>    \"projects\": [</td></tr><tr><td>      {</td></tr><tr><td>        \"name\": \"Project K1\"</td></tr><tr><td>        \"status\": \"Completed\"</td></tr><tr><td>      }</td></tr><tr><td>    ]</td></tr><tr><td>  }</td></tr><tr><td>  {</td></tr><tr><td>    \"id\": 25</td></tr><tr><td>    \"salary\": 55000</td></tr><tr><td>    \"department\": \"IT\"</td></tr><tr><td>    \"projects\": [</td></tr><tr><td>      {</td></tr><tr><td>        \"name\": \"Project L1\"</td></tr><tr><td>        \"status\": \"In Progress\"</td></tr><tr><td>      }</td></tr><tr><td>      {</td></tr><tr><td>        \"name\": \"Project M1\"</td></tr><tr><td>        \"status\": \"In Progress\"</td></tr><tr><td>      }</td></tr><tr><td>    ]</td></tr><tr><td>  }</td></tr><tr><td>  {</td></tr><tr><td>    \"id\": 26</td></tr><tr><td>    \"salary\": 50000</td></tr><tr><td>    \"department\": \"HR\"</td></tr><tr><td>    \"projects\": [</td></tr><tr><td>      {</td></tr><tr><td>        \"name\": \"Project N1\"</td></tr><tr><td>        \"status\": \"Completed\"</td></tr><tr><td>      }</td></tr><tr><td>      {</td></tr><tr><td>        \"name\": \"Project O1\"</td></tr><tr><td>        \"status\": \"In Progress\"</td></tr><tr><td>      }</td></tr><tr><td>    ]</td></tr><tr><td>  }</td></tr><tr><td>  {</td></tr><tr><td>    \"id\": 27</td></tr><tr><td>    \"salary\": 75000</td></tr><tr><td>    \"department\": \"IT\"</td></tr><tr><td>    \"projects\": [</td></tr><tr><td>      {</td></tr><tr><td>        \"name\": \"Project P1\"</td></tr><tr><td>        \"status\": \"Completed\"</td></tr><tr><td>      }</td></tr><tr><td>      {</td></tr><tr><td>        \"name\": \"Project Q1\"</td></tr><tr><td>        \"status\": \"In Progress\"</td></tr><tr><td>      }</td></tr><tr><td>    ]</td></tr><tr><td>  }</td></tr><tr><td>  {</td></tr><tr><td>    \"id\": 28</td></tr><tr><td>    \"salary\": 80000</td></tr><tr><td>    \"department\": \"Finance\"</td></tr><tr><td>    \"projects\": [</td></tr><tr><td>      {</td></tr><tr><td>        \"name\": \"Project R1\"</td></tr><tr><td>        \"status\": \"Completed\"</td></tr><tr><td>      }</td></tr><tr><td>      {</td></tr><tr><td>        \"name\": \"Project S1\"</td></tr><tr><td>        \"status\": \"Completed\"</td></tr><tr><td>      }</td></tr><tr><td>    ]</td></tr><tr><td>  }</td></tr><tr><td>  {</td></tr><tr><td>    \"id\": 29</td></tr><tr><td>    \"salary\": null</td></tr><tr><td>    \"department\": \"Marketing\"</td></tr><tr><td>    \"projects\": [</td></tr><tr><td>      {</td></tr><tr><td>        \"name\": \"Project T1\"</td></tr><tr><td>        \"status\": \"In Progress\"</td></tr><tr><td>      }</td></tr><tr><td>    ]</td></tr><tr><td>  }</td></tr><tr><td>  {</td></tr><tr><td>    \"id\": 30</td></tr><tr><td>    \"salary\": 85000</td></tr><tr><td>    \"department\": \"IT\"</td></tr><tr><td>    \"projects\": [</td></tr><tr><td>      {</td></tr><tr><td>        \"name\": \"Project U1\"</td></tr><tr><td>        \"status\": \"Completed\"</td></tr><tr><td>      }</td></tr><tr><td>      {</td></tr><tr><td>        \"name\": \"Project V1\"</td></tr><tr><td>        \"status\": \"In Progress\"</td></tr><tr><td>      }</td></tr><tr><td>    ]</td></tr><tr><td>  }</td></tr><tr><td>  {</td></tr><tr><td>    \"id\": 31</td></tr><tr><td>    \"salary\": 45000</td></tr><tr><td>    \"department\": \"Sales\"</td></tr><tr><td>    \"projects\": [</td></tr><tr><td>      {</td></tr><tr><td>        \"name\": \"Project W1\"</td></tr><tr><td>        \"status\": \"In Progress\"</td></tr><tr><td>      }</td></tr><tr><td>      {</td></tr><tr><td>        \"name\": \"Project X1\"</td></tr><tr><td>        \"status\": \"In Progress\"</td></tr><tr><td>      }</td></tr><tr><td>    ]</td></tr><tr><td>  }</td></tr><tr><td>  {</td></tr><tr><td>    \"id\": 32</td></tr><tr><td>    \"salary\": 70000</td></tr><tr><td>    \"department\": \"Marketing\"</td></tr><tr><td>    \"projects\": [</td></tr><tr><td>      {</td></tr><tr><td>        \"name\": \"Project Y1\"</td></tr><tr><td>        \"status\": \"Completed\"</td></tr><tr><td>      }</td></tr><tr><td>      {</td></tr><tr><td>        \"name\": \"Project Z1\"</td></tr><tr><td>        \"status\": \"In Progress\"</td></tr><tr><td>      }</td></tr><tr><td>    ]</td></tr><tr><td>  }</td></tr><tr><td>  {</td></tr><tr><td>    \"id\": 33</td></tr><tr><td>    \"salary\": 60000</td></tr><tr><td>    \"department\": \"Finance\"</td></tr><tr><td>    \"projects\": []</td></tr><tr><td>  }</td></tr><tr><td>  {</td></tr><tr><td>    \"id\": 34</td></tr><tr><td>    \"salary\": 50000</td></tr><tr><td>    \"department\": \"HR\"</td></tr><tr><td>    \"projects\": [</td></tr><tr><td>      {</td></tr><tr><td>        \"name\": \"Project A2\"</td></tr><tr><td>        \"status\": \"Completed\"</td></tr><tr><td>      }</td></tr><tr><td>    ]</td></tr><tr><td>  }</td></tr><tr><td>  {</td></tr><tr><td>    \"id\": 35</td></tr><tr><td>    \"salary\": 55000</td></tr><tr><td>    \"department\": \"IT\"</td></tr><tr><td>    \"projects\": [</td></tr><tr><td>      {</td></tr><tr><td>        \"name\": \"Project B2\"</td></tr><tr><td>        \"status\": \"In Progress\"</td></tr><tr><td>      }</td></tr><tr><td>      {</td></tr><tr><td>        \"name\": \"Project C2\"</td></tr><tr><td>        \"status\": \"In Progress\"</td></tr><tr><td>      }</td></tr><tr><td>    ]</td></tr><tr><td>  }</td></tr><tr><td>  {</td></tr><tr><td>    \"id\": 36</td></tr><tr><td>    \"salary\": 50000</td></tr><tr><td>    \"department\": \"HR\"</td></tr><tr><td>    \"projects\": [</td></tr><tr><td>      {</td></tr><tr><td>        \"name\": \"Project D2\"</td></tr><tr><td>        \"status\": \"Completed\"</td></tr><tr><td>      }</td></tr><tr><td>      {</td></tr><tr><td>        \"name\": \"Project E2\"</td></tr><tr><td>        \"status\": \"In Progress\"</td></tr><tr><td>      }</td></tr><tr><td>    ]</td></tr><tr><td>  }</td></tr><tr><td>  {</td></tr><tr><td>    \"id\": 37</td></tr><tr><td>    \"salary\": 75000</td></tr><tr><td>    \"department\": \"IT\"</td></tr><tr><td>    \"projects\": [</td></tr><tr><td>      {</td></tr><tr><td>        \"name\": \"Project F2\"</td></tr><tr><td>        \"status\": \"Completed\"</td></tr><tr><td>      }</td></tr><tr><td>      {</td></tr><tr><td>        \"name\": \"Project G2\"</td></tr><tr><td>        \"status\": \"In Progress\"</td></tr><tr><td>      }</td></tr><tr><td>    ]</td></tr><tr><td>  }</td></tr><tr><td>  {</td></tr><tr><td>    \"id\": 38</td></tr><tr><td>    \"salary\": 80000</td></tr><tr><td>    \"department\": \"Finance\"</td></tr><tr><td>    \"projects\": [</td></tr><tr><td>      {</td></tr><tr><td>        \"name\": \"Project H2\"</td></tr><tr><td>        \"status\": \"Completed\"</td></tr><tr><td>      }</td></tr><tr><td>      {</td></tr><tr><td>        \"name\": \"Project I2\"</td></tr><tr><td>        \"status\": \"Completed\"</td></tr><tr><td>      }</td></tr><tr><td>    ]</td></tr><tr><td>  }</td></tr><tr><td>  {</td></tr><tr><td>    \"id\": 39</td></tr><tr><td>    \"salary\": null</td></tr><tr><td>    \"department\": \"Marketing\"</td></tr><tr><td>    \"projects\": [</td></tr><tr><td>      {</td></tr><tr><td>        \"name\": \"Project J2\"</td></tr><tr><td>        \"status\": \"In Progress\"</td></tr><tr><td>      }</td></tr><tr><td>    ]</td></tr><tr><td>  }</td></tr><tr><td>  {</td></tr><tr><td>    \"id\": 40</td></tr><tr><td>    \"salary\": 85000</td></tr><tr><td>    \"department\": \"IT\"</td></tr><tr><td>    \"projects\": [</td></tr><tr><td>      {</td></tr><tr><td>        \"name\": \"Project K2\"</td></tr><tr><td>        \"status\": \"Completed\"</td></tr><tr><td>      }</td></tr><tr><td>      {</td></tr><tr><td>        \"name\": \"Project L2\"</td></tr><tr><td>        \"status\": \"In Progress\"</td></tr><tr><td>      }</td></tr><tr><td>    ]</td></tr><tr><td>  }</td></tr><tr><td>  {</td></tr><tr><td>    \"id\": 41</td></tr><tr><td>    \"salary\": 55000</td></tr><tr><td>    \"department\": \"Sales\"</td></tr><tr><td>    \"projects\": [</td></tr><tr><td>      {</td></tr><tr><td>        \"name\": \"Project M2\"</td></tr><tr><td>        \"status\": \"In Progress\"</td></tr><tr><td>      }</td></tr><tr><td>      {</td></tr><tr><td>        \"name\": \"Project N2\"</td></tr><tr><td>        \"status\": \"In Progress\"</td></tr><tr><td>      }</td></tr><tr><td>    ]</td></tr><tr><td>  }</td></tr><tr><td>  {</td></tr><tr><td>    \"id\": 42</td></tr><tr><td>    \"salary\": 65000</td></tr><tr><td>    \"department\": \"Marketing\"</td></tr><tr><td>    \"projects\": [</td></tr><tr><td>      {</td></tr><tr><td>        \"name\": \"Project O2\"</td></tr><tr><td>        \"status\": \"Completed\"</td></tr><tr><td>      }</td></tr><tr><td>      {</td></tr><tr><td>        \"name\": \"Project P2\"</td></tr><tr><td>        \"status\": \"In Progress\"</td></tr><tr><td>      }</td></tr><tr><td>    ]</td></tr><tr><td>  }</td></tr><tr><td>  {</td></tr><tr><td>    \"id\": 43</td></tr><tr><td>    \"salary\": 60000</td></tr><tr><td>    \"department\": \"Finance\"</td></tr><tr><td>    \"projects\": []</td></tr><tr><td>  }</td></tr><tr><td>  {</td></tr><tr><td>    \"id\": 44</td></tr><tr><td>    \"salary\": 50000</td></tr><tr><td>    \"department\": \"HR\"</td></tr><tr><td>    \"projects\": [</td></tr><tr><td>      {</td></tr><tr><td>        \"name\": \"Project Q2\"</td></tr><tr><td>        \"status\": \"Completed\"</td></tr><tr><td>      }</td></tr><tr><td>    ]</td></tr><tr><td>  }</td></tr><tr><td>  {</td></tr><tr><td>    \"id\": 45</td></tr><tr><td>    \"salary\": 55000</td></tr><tr><td>    \"department\": \"IT\"</td></tr><tr><td>    \"projects\": [</td></tr><tr><td>      {</td></tr><tr><td>        \"name\": \"Project R2\"</td></tr><tr><td>        \"status\": \"In Progress\"</td></tr><tr><td>      }</td></tr><tr><td>      {</td></tr><tr><td>        \"name\": \"Project S2\"</td></tr><tr><td>        \"status\": \"In Progress\"</td></tr><tr><td>      }</td></tr><tr><td>    ]</td></tr><tr><td>  }</td></tr><tr><td>  {</td></tr><tr><td>    \"id\": 46</td></tr><tr><td>    \"salary\": 50000</td></tr><tr><td>    \"department\": \"HR\"</td></tr><tr><td>    \"projects\": [</td></tr><tr><td>      {</td></tr><tr><td>        \"name\": \"Project T2\"</td></tr><tr><td>        \"status\": \"Completed\"</td></tr><tr><td>      }</td></tr><tr><td>      {</td></tr><tr><td>        \"name\": \"Project U2\"</td></tr><tr><td>        \"status\": \"In Progress\"</td></tr><tr><td>      }</td></tr><tr><td>    ]</td></tr><tr><td>  }</td></tr><tr><td>  {</td></tr><tr><td>    \"id\": 47</td></tr><tr><td>    \"salary\": 75000</td></tr><tr><td>    \"department\": \"IT\"</td></tr><tr><td>    \"projects\": [</td></tr><tr><td>      {</td></tr><tr><td>        \"name\": \"Project V2\"</td></tr><tr><td>        \"status\": \"Completed\"</td></tr><tr><td>      }</td></tr><tr><td>      {</td></tr><tr><td>        \"name\": \"Project W2\"</td></tr><tr><td>        \"status\": \"In Progress\"</td></tr><tr><td>      }</td></tr><tr><td>    ]</td></tr><tr><td>  }</td></tr><tr><td>  {</td></tr><tr><td>    \"id\": 48</td></tr><tr><td>    \"salary\": 80000</td></tr><tr><td>    \"department\": \"Finance\"</td></tr><tr><td>    \"projects\": [</td></tr><tr><td>      {</td></tr><tr><td>        \"name\": \"Project X2\"</td></tr><tr><td>        \"status\": \"Completed\"</td></tr><tr><td>      }</td></tr><tr><td>      {</td></tr><tr><td>        \"name\": \"Project Y2\"</td></tr><tr><td>        \"status\": \"Completed\"</td></tr><tr><td>      }</td></tr><tr><td>    ]</td></tr><tr><td>  }</td></tr><tr><td>  {</td></tr><tr><td>    \"id\": 49</td></tr><tr><td>    \"salary\": null</td></tr><tr><td>    \"department\": \"Marketing\"</td></tr><tr><td>    \"projects\": [</td></tr><tr><td>      {</td></tr><tr><td>        \"name\": \"Project Z2\"</td></tr><tr><td>        \"status\": \"In Progress\"</td></tr><tr><td>      }</td></tr><tr><td>    ]</td></tr><tr><td>  }</td></tr><tr><td>  {</td></tr><tr><td>    \"id\": 50</td></tr><tr><td>    \"salary\": 85000</td></tr><tr><td>    \"department\": \"IT\"</td></tr><tr><td>    \"projects\": [</td></tr><tr><td>      {</td></tr><tr><td>        \"name\": \"Project A3\"</td></tr><tr><td>        \"status\": \"Completed\"</td></tr><tr><td>      }</td></tr><tr><td>      {</td></tr><tr><td>        \"name\": \"Project B3\"</td></tr><tr><td>        \"status\": \"In Progress\"</td></tr><tr><td>      }</td></tr><tr><td>    ]</td></tr><tr><td>  }</td></tr><tr><td>]</td></tr></tbody></table></div>"
      ]
     },
     "metadata": {
      "application/vnd.databricks.v1+output": {
       "addedWidgets": {},
       "aggData": [],
       "aggError": "",
       "aggOverflow": false,
       "aggSchema": [],
       "aggSeriesLimitReached": false,
       "aggType": "",
       "arguments": {},
       "columnCustomDisplayInfos": {},
       "data": [
        [
         "  {"
        ],
        [
         "    \"id\": 1"
        ],
        [
         "    \"salary\": 50000"
        ],
        [
         "    \"department\": \"Sales\""
        ],
        [
         "    \"projects\": ["
        ],
        [
         "      {"
        ],
        [
         "        \"name\": \"Project A\""
        ],
        [
         "        \"status\": \"Completed\""
        ],
        [
         "      }"
        ],
        [
         "      {"
        ],
        [
         "        \"name\": \"Project B\""
        ],
        [
         "        \"status\": \"In Progress\""
        ],
        [
         "      }"
        ],
        [
         "    ]"
        ],
        [
         "  }"
        ],
        [
         "  {"
        ],
        [
         "    \"id\": 2"
        ],
        [
         "    \"salary\": 60000"
        ],
        [
         "    \"department\": \"Marketing\""
        ],
        [
         "    \"projects\": ["
        ],
        [
         "      {"
        ],
        [
         "        \"name\": \"Project C\""
        ],
        [
         "        \"status\": \"Completed\""
        ],
        [
         "      }"
        ],
        [
         "      {"
        ],
        [
         "        \"name\": \"Project D\""
        ],
        [
         "        \"status\": \"In Progress\""
        ],
        [
         "      }"
        ],
        [
         "    ]"
        ],
        [
         "  }"
        ],
        [
         "  {"
        ],
        [
         "    \"id\": 3"
        ],
        [
         "    \"salary\": 70000"
        ],
        [
         "    \"department\": \"Finance\""
        ],
        [
         "    \"projects\": []"
        ],
        [
         "  }"
        ],
        [
         "  {"
        ],
        [
         "    \"id\": 4"
        ],
        [
         "    \"salary\": 55000"
        ],
        [
         "    \"department\": \"HR\""
        ],
        [
         "    \"projects\": ["
        ],
        [
         "      {"
        ],
        [
         "        \"name\": \"Project E\""
        ],
        [
         "        \"status\": \"Completed\""
        ],
        [
         "      }"
        ],
        [
         "    ]"
        ],
        [
         "  }"
        ],
        [
         "  {"
        ],
        [
         "    \"id\": 5"
        ],
        [
         "    \"salary\": 65000"
        ],
        [
         "    \"department\": \"IT\""
        ],
        [
         "    \"projects\": ["
        ],
        [
         "      {"
        ],
        [
         "        \"name\": \"Project F\""
        ],
        [
         "        \"status\": \"In Progress\""
        ],
        [
         "      }"
        ],
        [
         "      {"
        ],
        [
         "        \"name\": \"Project G\""
        ],
        [
         "        \"status\": \"In Progress\""
        ],
        [
         "      }"
        ],
        [
         "    ]"
        ],
        [
         "  }"
        ],
        [
         "  {"
        ],
        [
         "    \"id\": 6"
        ],
        [
         "    \"salary\": 55000"
        ],
        [
         "    \"department\": \"HR\""
        ],
        [
         "    \"projects\": ["
        ],
        [
         "      {"
        ],
        [
         "        \"name\": \"Project H\""
        ],
        [
         "        \"status\": \"Completed\""
        ],
        [
         "      }"
        ],
        [
         "      {"
        ],
        [
         "        \"name\": \"Project I\""
        ],
        [
         "        \"status\": \"In Progress\""
        ],
        [
         "      }"
        ],
        [
         "    ]"
        ],
        [
         "  }"
        ],
        [
         "  {"
        ],
        [
         "    \"id\": 7"
        ],
        [
         "    \"salary\": 75000"
        ],
        [
         "    \"department\": \"IT\""
        ],
        [
         "    \"projects\": ["
        ],
        [
         "      {"
        ],
        [
         "        \"name\": \"Project J\""
        ],
        [
         "        \"status\": \"Completed\""
        ],
        [
         "      }"
        ],
        [
         "      {"
        ],
        [
         "        \"name\": \"Project K\""
        ],
        [
         "        \"status\": \"In Progress\""
        ],
        [
         "      }"
        ],
        [
         "    ]"
        ],
        [
         "  }"
        ],
        [
         "  {"
        ],
        [
         "    \"id\": 8"
        ],
        [
         "    \"salary\": 90000"
        ],
        [
         "    \"department\": \"Finance\""
        ],
        [
         "    \"projects\": ["
        ],
        [
         "      {"
        ],
        [
         "        \"name\": \"Project L\""
        ],
        [
         "        \"status\": \"Completed\""
        ],
        [
         "      }"
        ],
        [
         "      {"
        ],
        [
         "        \"name\": \"Project M\""
        ],
        [
         "        \"status\": \"Completed\""
        ],
        [
         "      }"
        ],
        [
         "    ]"
        ],
        [
         "  }"
        ],
        [
         "  {"
        ],
        [
         "    \"id\": 9"
        ],
        [
         "    \"salary\": null"
        ],
        [
         "    \"department\": \"Marketing\""
        ],
        [
         "    \"projects\": ["
        ],
        [
         "      {"
        ],
        [
         "        \"name\": \"Project N\""
        ],
        [
         "        \"status\": \"In Progress\""
        ],
        [
         "      }"
        ],
        [
         "    ]"
        ],
        [
         "  }"
        ],
        [
         "  {"
        ],
        [
         "    \"id\": 10"
        ],
        [
         "    \"salary\": 80000"
        ],
        [
         "    \"department\": \"IT\""
        ],
        [
         "    \"projects\": ["
        ],
        [
         "      {"
        ],
        [
         "        \"name\": \"Project O\""
        ],
        [
         "        \"status\": \"Completed\""
        ],
        [
         "      }"
        ],
        [
         "      {"
        ],
        [
         "        \"name\": \"Project P\""
        ],
        [
         "        \"status\": \"In Progress\""
        ],
        [
         "      }"
        ],
        [
         "    ]"
        ],
        [
         "  }"
        ],
        [
         "  {"
        ],
        [
         "    \"id\": 11"
        ],
        [
         "    \"salary\": 45000"
        ],
        [
         "    \"department\": \"Sales\""
        ],
        [
         "    \"projects\": ["
        ],
        [
         "      {"
        ],
        [
         "        \"name\": \"Project Q\""
        ],
        [
         "        \"status\": \"In Progress\""
        ],
        [
         "      }"
        ],
        [
         "      {"
        ],
        [
         "        \"name\": \"Project R\""
        ],
        [
         "        \"status\": \"In Progress\""
        ],
        [
         "      }"
        ],
        [
         "    ]"
        ],
        [
         "  }"
        ],
        [
         "  {"
        ],
        [
         "    \"id\": 12"
        ],
        [
         "    \"salary\": 70000"
        ],
        [
         "    \"department\": \"Marketing\""
        ],
        [
         "    \"projects\": ["
        ],
        [
         "      {"
        ],
        [
         "        \"name\": \"Project S\""
        ],
        [
         "        \"status\": \"Completed\""
        ],
        [
         "      }"
        ],
        [
         "      {"
        ],
        [
         "        \"name\": \"Project T\""
        ],
        [
         "        \"status\": \"In Progress\""
        ],
        [
         "      }"
        ],
        [
         "    ]"
        ],
        [
         "  }"
        ],
        [
         "  {"
        ],
        [
         "    \"id\": 13"
        ],
        [
         "    \"salary\": 60000"
        ],
        [
         "    \"department\": \"Finance\""
        ],
        [
         "    \"projects\": []"
        ],
        [
         "  }"
        ],
        [
         "  {"
        ],
        [
         "    \"id\": 14"
        ],
        [
         "    \"salary\": 50000"
        ],
        [
         "    \"department\": \"HR\""
        ],
        [
         "    \"projects\": ["
        ],
        [
         "      {"
        ],
        [
         "        \"name\": \"Project U\""
        ],
        [
         "        \"status\": \"Completed\""
        ],
        [
         "      }"
        ],
        [
         "    ]"
        ],
        [
         "  }"
        ],
        [
         "  {"
        ],
        [
         "    \"id\": 15"
        ],
        [
         "    \"salary\": 55000"
        ],
        [
         "    \"department\": \"IT\""
        ],
        [
         "    \"projects\": ["
        ],
        [
         "      {"
        ],
        [
         "        \"name\": \"Project V\""
        ],
        [
         "        \"status\": \"In Progress\""
        ],
        [
         "      }"
        ],
        [
         "      {"
        ],
        [
         "        \"name\": \"Project W\""
        ],
        [
         "        \"status\": \"In Progress\""
        ],
        [
         "      }"
        ],
        [
         "    ]"
        ],
        [
         "  }"
        ],
        [
         "  {"
        ],
        [
         "    \"id\": 16"
        ],
        [
         "    \"salary\": 50000"
        ],
        [
         "    \"department\": \"HR\""
        ],
        [
         "    \"projects\": ["
        ],
        [
         "      {"
        ],
        [
         "        \"name\": \"Project X\""
        ],
        [
         "        \"status\": \"Completed\""
        ],
        [
         "      }"
        ],
        [
         "      {"
        ],
        [
         "        \"name\": \"Project Y\""
        ],
        [
         "        \"status\": \"In Progress\""
        ],
        [
         "      }"
        ],
        [
         "    ]"
        ],
        [
         "  }"
        ],
        [
         "  {"
        ],
        [
         "    \"id\": 17"
        ],
        [
         "    \"salary\": 75000"
        ],
        [
         "    \"department\": \"IT\""
        ],
        [
         "    \"projects\": ["
        ],
        [
         "      {"
        ],
        [
         "        \"name\": \"Project Z\""
        ],
        [
         "        \"status\": \"Completed\""
        ],
        [
         "      }"
        ],
        [
         "      {"
        ],
        [
         "        \"name\": \"Project A1\""
        ],
        [
         "        \"status\": \"In Progress\""
        ],
        [
         "      }"
        ],
        [
         "    ]"
        ],
        [
         "  }"
        ],
        [
         "  {"
        ],
        [
         "    \"id\": 18"
        ],
        [
         "    \"salary\": 80000"
        ],
        [
         "    \"department\": \"Finance\""
        ],
        [
         "    \"projects\": ["
        ],
        [
         "      {"
        ],
        [
         "        \"name\": \"Project B1\""
        ],
        [
         "        \"status\": \"Completed\""
        ],
        [
         "      }"
        ],
        [
         "      {"
        ],
        [
         "        \"name\": \"Project C1\""
        ],
        [
         "        \"status\": \"Completed\""
        ],
        [
         "      }"
        ],
        [
         "    ]"
        ],
        [
         "  }"
        ],
        [
         "  {"
        ],
        [
         "    \"id\": 19"
        ],
        [
         "    \"salary\": null"
        ],
        [
         "    \"department\": \"Marketing\""
        ],
        [
         "    \"projects\": ["
        ],
        [
         "      {"
        ],
        [
         "        \"name\": \"Project D1\""
        ],
        [
         "        \"status\": \"In Progress\""
        ],
        [
         "      }"
        ],
        [
         "    ]"
        ],
        [
         "  }"
        ],
        [
         "  {"
        ],
        [
         "    \"id\": 20"
        ],
        [
         "    \"salary\": 85000"
        ],
        [
         "    \"department\": \"IT\""
        ],
        [
         "    \"projects\": ["
        ],
        [
         "      {"
        ],
        [
         "        \"name\": \"Project E1\""
        ],
        [
         "        \"status\": \"Completed\""
        ],
        [
         "      }"
        ],
        [
         "      {"
        ],
        [
         "        \"name\": \"Project F1\""
        ],
        [
         "        \"status\": \"In Progress\""
        ],
        [
         "      }"
        ],
        [
         "    ]"
        ],
        [
         "  }"
        ],
        [
         "  {"
        ],
        [
         "    \"id\": 21"
        ],
        [
         "    \"salary\": 55000"
        ],
        [
         "    \"department\": \"Sales\""
        ],
        [
         "    \"projects\": ["
        ],
        [
         "      {"
        ],
        [
         "        \"name\": \"Project G1\""
        ],
        [
         "        \"status\": \"In Progress\""
        ],
        [
         "      }"
        ],
        [
         "      {"
        ],
        [
         "        \"name\": \"Project H1\""
        ],
        [
         "        \"status\": \"In Progress\""
        ],
        [
         "      }"
        ],
        [
         "    ]"
        ],
        [
         "  }"
        ],
        [
         "  {"
        ],
        [
         "    \"id\": 22"
        ],
        [
         "    \"salary\": 65000"
        ],
        [
         "    \"department\": \"Marketing\""
        ],
        [
         "    \"projects\": ["
        ],
        [
         "      {"
        ],
        [
         "        \"name\": \"Project I1\""
        ],
        [
         "        \"status\": \"Completed\""
        ],
        [
         "      }"
        ],
        [
         "      {"
        ],
        [
         "        \"name\": \"Project J1\""
        ],
        [
         "        \"status\": \"In Progress\""
        ],
        [
         "      }"
        ],
        [
         "    ]"
        ],
        [
         "  }"
        ],
        [
         "  {"
        ],
        [
         "    \"id\": 23"
        ],
        [
         "    \"salary\": 60000"
        ],
        [
         "    \"department\": \"Finance\""
        ],
        [
         "    \"projects\": []"
        ],
        [
         "  }"
        ],
        [
         "  {"
        ],
        [
         "    \"id\": 24"
        ],
        [
         "    \"salary\": 50000"
        ],
        [
         "    \"department\": \"HR\""
        ],
        [
         "    \"projects\": ["
        ],
        [
         "      {"
        ],
        [
         "        \"name\": \"Project K1\""
        ],
        [
         "        \"status\": \"Completed\""
        ],
        [
         "      }"
        ],
        [
         "    ]"
        ],
        [
         "  }"
        ],
        [
         "  {"
        ],
        [
         "    \"id\": 25"
        ],
        [
         "    \"salary\": 55000"
        ],
        [
         "    \"department\": \"IT\""
        ],
        [
         "    \"projects\": ["
        ],
        [
         "      {"
        ],
        [
         "        \"name\": \"Project L1\""
        ],
        [
         "        \"status\": \"In Progress\""
        ],
        [
         "      }"
        ],
        [
         "      {"
        ],
        [
         "        \"name\": \"Project M1\""
        ],
        [
         "        \"status\": \"In Progress\""
        ],
        [
         "      }"
        ],
        [
         "    ]"
        ],
        [
         "  }"
        ],
        [
         "  {"
        ],
        [
         "    \"id\": 26"
        ],
        [
         "    \"salary\": 50000"
        ],
        [
         "    \"department\": \"HR\""
        ],
        [
         "    \"projects\": ["
        ],
        [
         "      {"
        ],
        [
         "        \"name\": \"Project N1\""
        ],
        [
         "        \"status\": \"Completed\""
        ],
        [
         "      }"
        ],
        [
         "      {"
        ],
        [
         "        \"name\": \"Project O1\""
        ],
        [
         "        \"status\": \"In Progress\""
        ],
        [
         "      }"
        ],
        [
         "    ]"
        ],
        [
         "  }"
        ],
        [
         "  {"
        ],
        [
         "    \"id\": 27"
        ],
        [
         "    \"salary\": 75000"
        ],
        [
         "    \"department\": \"IT\""
        ],
        [
         "    \"projects\": ["
        ],
        [
         "      {"
        ],
        [
         "        \"name\": \"Project P1\""
        ],
        [
         "        \"status\": \"Completed\""
        ],
        [
         "      }"
        ],
        [
         "      {"
        ],
        [
         "        \"name\": \"Project Q1\""
        ],
        [
         "        \"status\": \"In Progress\""
        ],
        [
         "      }"
        ],
        [
         "    ]"
        ],
        [
         "  }"
        ],
        [
         "  {"
        ],
        [
         "    \"id\": 28"
        ],
        [
         "    \"salary\": 80000"
        ],
        [
         "    \"department\": \"Finance\""
        ],
        [
         "    \"projects\": ["
        ],
        [
         "      {"
        ],
        [
         "        \"name\": \"Project R1\""
        ],
        [
         "        \"status\": \"Completed\""
        ],
        [
         "      }"
        ],
        [
         "      {"
        ],
        [
         "        \"name\": \"Project S1\""
        ],
        [
         "        \"status\": \"Completed\""
        ],
        [
         "      }"
        ],
        [
         "    ]"
        ],
        [
         "  }"
        ],
        [
         "  {"
        ],
        [
         "    \"id\": 29"
        ],
        [
         "    \"salary\": null"
        ],
        [
         "    \"department\": \"Marketing\""
        ],
        [
         "    \"projects\": ["
        ],
        [
         "      {"
        ],
        [
         "        \"name\": \"Project T1\""
        ],
        [
         "        \"status\": \"In Progress\""
        ],
        [
         "      }"
        ],
        [
         "    ]"
        ],
        [
         "  }"
        ],
        [
         "  {"
        ],
        [
         "    \"id\": 30"
        ],
        [
         "    \"salary\": 85000"
        ],
        [
         "    \"department\": \"IT\""
        ],
        [
         "    \"projects\": ["
        ],
        [
         "      {"
        ],
        [
         "        \"name\": \"Project U1\""
        ],
        [
         "        \"status\": \"Completed\""
        ],
        [
         "      }"
        ],
        [
         "      {"
        ],
        [
         "        \"name\": \"Project V1\""
        ],
        [
         "        \"status\": \"In Progress\""
        ],
        [
         "      }"
        ],
        [
         "    ]"
        ],
        [
         "  }"
        ],
        [
         "  {"
        ],
        [
         "    \"id\": 31"
        ],
        [
         "    \"salary\": 45000"
        ],
        [
         "    \"department\": \"Sales\""
        ],
        [
         "    \"projects\": ["
        ],
        [
         "      {"
        ],
        [
         "        \"name\": \"Project W1\""
        ],
        [
         "        \"status\": \"In Progress\""
        ],
        [
         "      }"
        ],
        [
         "      {"
        ],
        [
         "        \"name\": \"Project X1\""
        ],
        [
         "        \"status\": \"In Progress\""
        ],
        [
         "      }"
        ],
        [
         "    ]"
        ],
        [
         "  }"
        ],
        [
         "  {"
        ],
        [
         "    \"id\": 32"
        ],
        [
         "    \"salary\": 70000"
        ],
        [
         "    \"department\": \"Marketing\""
        ],
        [
         "    \"projects\": ["
        ],
        [
         "      {"
        ],
        [
         "        \"name\": \"Project Y1\""
        ],
        [
         "        \"status\": \"Completed\""
        ],
        [
         "      }"
        ],
        [
         "      {"
        ],
        [
         "        \"name\": \"Project Z1\""
        ],
        [
         "        \"status\": \"In Progress\""
        ],
        [
         "      }"
        ],
        [
         "    ]"
        ],
        [
         "  }"
        ],
        [
         "  {"
        ],
        [
         "    \"id\": 33"
        ],
        [
         "    \"salary\": 60000"
        ],
        [
         "    \"department\": \"Finance\""
        ],
        [
         "    \"projects\": []"
        ],
        [
         "  }"
        ],
        [
         "  {"
        ],
        [
         "    \"id\": 34"
        ],
        [
         "    \"salary\": 50000"
        ],
        [
         "    \"department\": \"HR\""
        ],
        [
         "    \"projects\": ["
        ],
        [
         "      {"
        ],
        [
         "        \"name\": \"Project A2\""
        ],
        [
         "        \"status\": \"Completed\""
        ],
        [
         "      }"
        ],
        [
         "    ]"
        ],
        [
         "  }"
        ],
        [
         "  {"
        ],
        [
         "    \"id\": 35"
        ],
        [
         "    \"salary\": 55000"
        ],
        [
         "    \"department\": \"IT\""
        ],
        [
         "    \"projects\": ["
        ],
        [
         "      {"
        ],
        [
         "        \"name\": \"Project B2\""
        ],
        [
         "        \"status\": \"In Progress\""
        ],
        [
         "      }"
        ],
        [
         "      {"
        ],
        [
         "        \"name\": \"Project C2\""
        ],
        [
         "        \"status\": \"In Progress\""
        ],
        [
         "      }"
        ],
        [
         "    ]"
        ],
        [
         "  }"
        ],
        [
         "  {"
        ],
        [
         "    \"id\": 36"
        ],
        [
         "    \"salary\": 50000"
        ],
        [
         "    \"department\": \"HR\""
        ],
        [
         "    \"projects\": ["
        ],
        [
         "      {"
        ],
        [
         "        \"name\": \"Project D2\""
        ],
        [
         "        \"status\": \"Completed\""
        ],
        [
         "      }"
        ],
        [
         "      {"
        ],
        [
         "        \"name\": \"Project E2\""
        ],
        [
         "        \"status\": \"In Progress\""
        ],
        [
         "      }"
        ],
        [
         "    ]"
        ],
        [
         "  }"
        ],
        [
         "  {"
        ],
        [
         "    \"id\": 37"
        ],
        [
         "    \"salary\": 75000"
        ],
        [
         "    \"department\": \"IT\""
        ],
        [
         "    \"projects\": ["
        ],
        [
         "      {"
        ],
        [
         "        \"name\": \"Project F2\""
        ],
        [
         "        \"status\": \"Completed\""
        ],
        [
         "      }"
        ],
        [
         "      {"
        ],
        [
         "        \"name\": \"Project G2\""
        ],
        [
         "        \"status\": \"In Progress\""
        ],
        [
         "      }"
        ],
        [
         "    ]"
        ],
        [
         "  }"
        ],
        [
         "  {"
        ],
        [
         "    \"id\": 38"
        ],
        [
         "    \"salary\": 80000"
        ],
        [
         "    \"department\": \"Finance\""
        ],
        [
         "    \"projects\": ["
        ],
        [
         "      {"
        ],
        [
         "        \"name\": \"Project H2\""
        ],
        [
         "        \"status\": \"Completed\""
        ],
        [
         "      }"
        ],
        [
         "      {"
        ],
        [
         "        \"name\": \"Project I2\""
        ],
        [
         "        \"status\": \"Completed\""
        ],
        [
         "      }"
        ],
        [
         "    ]"
        ],
        [
         "  }"
        ],
        [
         "  {"
        ],
        [
         "    \"id\": 39"
        ],
        [
         "    \"salary\": null"
        ],
        [
         "    \"department\": \"Marketing\""
        ],
        [
         "    \"projects\": ["
        ],
        [
         "      {"
        ],
        [
         "        \"name\": \"Project J2\""
        ],
        [
         "        \"status\": \"In Progress\""
        ],
        [
         "      }"
        ],
        [
         "    ]"
        ],
        [
         "  }"
        ],
        [
         "  {"
        ],
        [
         "    \"id\": 40"
        ],
        [
         "    \"salary\": 85000"
        ],
        [
         "    \"department\": \"IT\""
        ],
        [
         "    \"projects\": ["
        ],
        [
         "      {"
        ],
        [
         "        \"name\": \"Project K2\""
        ],
        [
         "        \"status\": \"Completed\""
        ],
        [
         "      }"
        ],
        [
         "      {"
        ],
        [
         "        \"name\": \"Project L2\""
        ],
        [
         "        \"status\": \"In Progress\""
        ],
        [
         "      }"
        ],
        [
         "    ]"
        ],
        [
         "  }"
        ],
        [
         "  {"
        ],
        [
         "    \"id\": 41"
        ],
        [
         "    \"salary\": 55000"
        ],
        [
         "    \"department\": \"Sales\""
        ],
        [
         "    \"projects\": ["
        ],
        [
         "      {"
        ],
        [
         "        \"name\": \"Project M2\""
        ],
        [
         "        \"status\": \"In Progress\""
        ],
        [
         "      }"
        ],
        [
         "      {"
        ],
        [
         "        \"name\": \"Project N2\""
        ],
        [
         "        \"status\": \"In Progress\""
        ],
        [
         "      }"
        ],
        [
         "    ]"
        ],
        [
         "  }"
        ],
        [
         "  {"
        ],
        [
         "    \"id\": 42"
        ],
        [
         "    \"salary\": 65000"
        ],
        [
         "    \"department\": \"Marketing\""
        ],
        [
         "    \"projects\": ["
        ],
        [
         "      {"
        ],
        [
         "        \"name\": \"Project O2\""
        ],
        [
         "        \"status\": \"Completed\""
        ],
        [
         "      }"
        ],
        [
         "      {"
        ],
        [
         "        \"name\": \"Project P2\""
        ],
        [
         "        \"status\": \"In Progress\""
        ],
        [
         "      }"
        ],
        [
         "    ]"
        ],
        [
         "  }"
        ],
        [
         "  {"
        ],
        [
         "    \"id\": 43"
        ],
        [
         "    \"salary\": 60000"
        ],
        [
         "    \"department\": \"Finance\""
        ],
        [
         "    \"projects\": []"
        ],
        [
         "  }"
        ],
        [
         "  {"
        ],
        [
         "    \"id\": 44"
        ],
        [
         "    \"salary\": 50000"
        ],
        [
         "    \"department\": \"HR\""
        ],
        [
         "    \"projects\": ["
        ],
        [
         "      {"
        ],
        [
         "        \"name\": \"Project Q2\""
        ],
        [
         "        \"status\": \"Completed\""
        ],
        [
         "      }"
        ],
        [
         "    ]"
        ],
        [
         "  }"
        ],
        [
         "  {"
        ],
        [
         "    \"id\": 45"
        ],
        [
         "    \"salary\": 55000"
        ],
        [
         "    \"department\": \"IT\""
        ],
        [
         "    \"projects\": ["
        ],
        [
         "      {"
        ],
        [
         "        \"name\": \"Project R2\""
        ],
        [
         "        \"status\": \"In Progress\""
        ],
        [
         "      }"
        ],
        [
         "      {"
        ],
        [
         "        \"name\": \"Project S2\""
        ],
        [
         "        \"status\": \"In Progress\""
        ],
        [
         "      }"
        ],
        [
         "    ]"
        ],
        [
         "  }"
        ],
        [
         "  {"
        ],
        [
         "    \"id\": 46"
        ],
        [
         "    \"salary\": 50000"
        ],
        [
         "    \"department\": \"HR\""
        ],
        [
         "    \"projects\": ["
        ],
        [
         "      {"
        ],
        [
         "        \"name\": \"Project T2\""
        ],
        [
         "        \"status\": \"Completed\""
        ],
        [
         "      }"
        ],
        [
         "      {"
        ],
        [
         "        \"name\": \"Project U2\""
        ],
        [
         "        \"status\": \"In Progress\""
        ],
        [
         "      }"
        ],
        [
         "    ]"
        ],
        [
         "  }"
        ],
        [
         "  {"
        ],
        [
         "    \"id\": 47"
        ],
        [
         "    \"salary\": 75000"
        ],
        [
         "    \"department\": \"IT\""
        ],
        [
         "    \"projects\": ["
        ],
        [
         "      {"
        ],
        [
         "        \"name\": \"Project V2\""
        ],
        [
         "        \"status\": \"Completed\""
        ],
        [
         "      }"
        ],
        [
         "      {"
        ],
        [
         "        \"name\": \"Project W2\""
        ],
        [
         "        \"status\": \"In Progress\""
        ],
        [
         "      }"
        ],
        [
         "    ]"
        ],
        [
         "  }"
        ],
        [
         "  {"
        ],
        [
         "    \"id\": 48"
        ],
        [
         "    \"salary\": 80000"
        ],
        [
         "    \"department\": \"Finance\""
        ],
        [
         "    \"projects\": ["
        ],
        [
         "      {"
        ],
        [
         "        \"name\": \"Project X2\""
        ],
        [
         "        \"status\": \"Completed\""
        ],
        [
         "      }"
        ],
        [
         "      {"
        ],
        [
         "        \"name\": \"Project Y2\""
        ],
        [
         "        \"status\": \"Completed\""
        ],
        [
         "      }"
        ],
        [
         "    ]"
        ],
        [
         "  }"
        ],
        [
         "  {"
        ],
        [
         "    \"id\": 49"
        ],
        [
         "    \"salary\": null"
        ],
        [
         "    \"department\": \"Marketing\""
        ],
        [
         "    \"projects\": ["
        ],
        [
         "      {"
        ],
        [
         "        \"name\": \"Project Z2\""
        ],
        [
         "        \"status\": \"In Progress\""
        ],
        [
         "      }"
        ],
        [
         "    ]"
        ],
        [
         "  }"
        ],
        [
         "  {"
        ],
        [
         "    \"id\": 50"
        ],
        [
         "    \"salary\": 85000"
        ],
        [
         "    \"department\": \"IT\""
        ],
        [
         "    \"projects\": ["
        ],
        [
         "      {"
        ],
        [
         "        \"name\": \"Project A3\""
        ],
        [
         "        \"status\": \"Completed\""
        ],
        [
         "      }"
        ],
        [
         "      {"
        ],
        [
         "        \"name\": \"Project B3\""
        ],
        [
         "        \"status\": \"In Progress\""
        ],
        [
         "      }"
        ],
        [
         "    ]"
        ],
        [
         "  }"
        ],
        [
         "]"
        ]
       ],
       "datasetInfos": [],
       "dbfsResultPath": null,
       "isJsonSchema": true,
       "metadata": {},
       "overflow": false,
       "plotOptions": {
        "customPlotOptions": {},
        "displayType": "table",
        "pivotAggregation": null,
        "pivotColumns": null,
        "xColumns": null,
        "yColumns": null
       },
       "removedWidgets": [],
       "schema": [
        {
         "metadata": "{}",
         "name": "[",
         "type": "\"string\""
        }
       ],
       "type": "table"
      }
     },
     "output_type": "display_data"
    },
    {
     "output_type": "stream",
     "name": "stdout",
     "output_type": "stream",
     "text": [
      "Out[18]: 1"
     ]
    }
   ],
   "source": [
    "df=spark.read.format(\"csv\").option(\"inferSchema\",True).option(\"header\",True).load(\"dbfs:/FileStore/sample_json_1.json\")\n",
    "df.display()\n",
    "df.rdd.getNumPartitions()"
   ]
  },
  {
   "cell_type": "code",
   "execution_count": 0,
   "metadata": {
    "application/vnd.databricks.v1+cell": {
     "cellMetadata": {
      "byteLimit": 2048000,
      "rowLimit": 10000
     },
     "inputWidgets": {},
     "nuid": "2b0cce77-de5f-4bc5-bcbd-f83cdfdf9ef9",
     "showTitle": false,
     "title": ""
    }
   },
   "outputs": [
    {
     "output_type": "stream",
     "name": "stdout",
     "output_type": "stream",
     "text": [
      "Out[26]: '100000'"
     ]
    }
   ],
   "source": [
    "spark.conf.set(\"spark.sql.files.maxPatitionBytes\",100000)\n",
    "spark.conf.get(\"spark.sql.files.maxPatitionBytes\")"
   ]
  },
  {
   "cell_type": "code",
   "execution_count": 0,
   "metadata": {
    "application/vnd.databricks.v1+cell": {
     "cellMetadata": {
      "byteLimit": 2048000,
      "rowLimit": 10000
     },
     "inputWidgets": {},
     "nuid": "bdf05100-8140-4209-8c1d-04a7a83b63cb",
     "showTitle": false,
     "title": ""
    }
   },
   "outputs": [
    {
     "output_type": "stream",
     "name": "stdout",
     "output_type": "stream",
     "text": [
      "Out[27]: 1"
     ]
    }
   ],
   "source": [
    "df=spark.read.format(\"csv\").option(\"inferSchema\",True).option(\"header\",True).load(\"dbfs:/FileStore/sample_json_1.json\")\n",
    "df.rdd.getNumPartitions()"
   ]
  },
  {
   "cell_type": "markdown",
   "metadata": {
    "application/vnd.databricks.v1+cell": {
     "cellMetadata": {},
     "inputWidgets": {},
     "nuid": "1880b009-b3df-464a-be18-358f50895c6d",
     "showTitle": false,
     "title": ""
    }
   },
   "source": [
    "### Repartition"
   ]
  },
  {
   "cell_type": "code",
   "execution_count": 0,
   "metadata": {
    "application/vnd.databricks.v1+cell": {
     "cellMetadata": {
      "byteLimit": 2048000,
      "rowLimit": 10000
     },
     "inputWidgets": {},
     "nuid": "a9fbf0d9-974d-44f3-a543-9ea71c1d2f70",
     "showTitle": false,
     "title": ""
    }
   },
   "outputs": [
    {
     "output_type": "stream",
     "name": "stdout",
     "output_type": "stream",
     "text": [
      "Out[29]: [[Row(value=0)],\n [Row(value=1)],\n [Row(value=2)],\n [Row(value=3), Row(value=4)],\n [Row(value=5)],\n [Row(value=6)],\n [Row(value=7)],\n [Row(value=8), Row(value=9)]]"
     ]
    }
   ],
   "source": [
    "from pyspark.sql.types import IntegerType\n",
    "df=spark.createDataFrame(range(10),IntegerType())\n",
    "df.rdd.glom().collect()"
   ]
  },
  {
   "cell_type": "code",
   "execution_count": 0,
   "metadata": {
    "application/vnd.databricks.v1+cell": {
     "cellMetadata": {
      "byteLimit": 2048000,
      "rowLimit": 10000
     },
     "inputWidgets": {},
     "nuid": "efbe3fc2-b0b0-45ce-9526-627dabf3ce10",
     "showTitle": false,
     "title": ""
    }
   },
   "outputs": [
    {
     "output_type": "stream",
     "name": "stdout",
     "output_type": "stream",
     "text": [
      "Out[31]: 20"
     ]
    }
   ],
   "source": [
    "df1=df.repartition(20)\n",
    "df1.rdd.getNumPartitions()"
   ]
  },
  {
   "cell_type": "code",
   "execution_count": 0,
   "metadata": {
    "application/vnd.databricks.v1+cell": {
     "cellMetadata": {
      "byteLimit": 2048000,
      "rowLimit": 10000
     },
     "inputWidgets": {},
     "nuid": "414871cc-88a8-4936-93a8-88ecf061e3f8",
     "showTitle": false,
     "title": ""
    }
   },
   "outputs": [
    {
     "output_type": "stream",
     "name": "stdout",
     "output_type": "stream",
     "text": [
      "Out[32]: [[],\n [Row(value=8)],\n [Row(value=9)],\n [],\n [Row(value=1)],\n [],\n [Row(value=6)],\n [],\n [Row(value=3)],\n [Row(value=0), Row(value=2), Row(value=4)],\n [],\n [Row(value=7)],\n [],\n [],\n [Row(value=5)],\n [],\n [],\n [],\n [],\n []]"
     ]
    }
   ],
   "source": [
    "df1.rdd.glom().collect()"
   ]
  },
  {
   "cell_type": "code",
   "execution_count": 0,
   "metadata": {
    "application/vnd.databricks.v1+cell": {
     "cellMetadata": {
      "byteLimit": 2048000,
      "rowLimit": 10000
     },
     "inputWidgets": {},
     "nuid": "047746a6-b30f-4469-beb0-07c3199b1de6",
     "showTitle": false,
     "title": ""
    }
   },
   "outputs": [
    {
     "output_type": "stream",
     "name": "stdout",
     "output_type": "stream",
     "text": [
      "Out[33]: 2"
     ]
    }
   ],
   "source": [
    "df1=df.repartition(2)\n",
    "df1.rdd.getNumPartitions()"
   ]
  },
  {
   "cell_type": "code",
   "execution_count": 0,
   "metadata": {
    "application/vnd.databricks.v1+cell": {
     "cellMetadata": {
      "byteLimit": 2048000,
      "rowLimit": 10000
     },
     "inputWidgets": {},
     "nuid": "ddcf6d15-9f6b-4179-b4b0-2489bd39e68a",
     "showTitle": false,
     "title": ""
    }
   },
   "outputs": [
    {
     "output_type": "stream",
     "name": "stdout",
     "output_type": "stream",
     "text": [
      "Out[34]: [[Row(value=2),\n  Row(value=3),\n  Row(value=5),\n  Row(value=6),\n  Row(value=7),\n  Row(value=9)],\n [Row(value=0), Row(value=1), Row(value=4), Row(value=8)]]"
     ]
    }
   ],
   "source": [
    "df1.rdd.glom().collect()"
   ]
  },
  {
   "cell_type": "markdown",
   "metadata": {
    "application/vnd.databricks.v1+cell": {
     "cellMetadata": {},
     "inputWidgets": {},
     "nuid": "7c350e29-4e5f-48a3-b569-fbba0e85ae4f",
     "showTitle": false,
     "title": ""
    }
   },
   "source": [
    "### Coalesce"
   ]
  },
  {
   "cell_type": "code",
   "execution_count": 0,
   "metadata": {
    "application/vnd.databricks.v1+cell": {
     "cellMetadata": {
      "byteLimit": 2048000,
      "rowLimit": 10000
     },
     "inputWidgets": {},
     "nuid": "949c9e98-1b34-4e99-91cf-b44d271ff37b",
     "showTitle": false,
     "title": ""
    }
   },
   "outputs": [
    {
     "output_type": "stream",
     "name": "stdout",
     "output_type": "stream",
     "text": [
      "Out[37]: [[Row(value=0), Row(value=1), Row(value=2), Row(value=3), Row(value=4)],\n [Row(value=5), Row(value=6), Row(value=7), Row(value=8), Row(value=9)]]"
     ]
    }
   ],
   "source": [
    "df2=df.coalesce(2)\n",
    "\n",
    "df2.rdd.getNumPartitions()\n",
    "df2.rdd.glom().collect()"
   ]
  },
  {
   "cell_type": "code",
   "execution_count": 0,
   "metadata": {
    "application/vnd.databricks.v1+cell": {
     "cellMetadata": {},
     "inputWidgets": {},
     "nuid": "3e810970-efbb-4580-9e5c-aab8e24e8e39",
     "showTitle": false,
     "title": ""
    }
   },
   "outputs": [],
   "source": []
  }
 ],
 "metadata": {
  "application/vnd.databricks.v1+notebook": {
   "dashboards": [],
   "language": "python",
   "notebookMetadata": {
    "pythonIndentUnit": 4
   },
   "notebookName": "Partition & Coalesce",
   "widgets": {}
  }
 },
 "nbformat": 4,
 "nbformat_minor": 0
}
