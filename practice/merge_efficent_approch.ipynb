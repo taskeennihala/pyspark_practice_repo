{
 "cells": [
  {
   "cell_type": "markdown",
   "metadata": {
    "application/vnd.databricks.v1+cell": {
     "cellMetadata": {},
     "inputWidgets": {},
     "nuid": "ecb0c318-48ff-4835-8eb4-a7015251f59b",
     "showTitle": false,
     "title": ""
    }
   },
   "source": [
    "Import Statements"
   ]
  },
  {
   "cell_type": "code",
   "execution_count": 0,
   "metadata": {
    "application/vnd.databricks.v1+cell": {
     "cellMetadata": {
      "byteLimit": 2048000,
      "rowLimit": 10000
     },
     "inputWidgets": {},
     "nuid": "31afa4af-2edf-416f-b43c-eb5c5e41f373",
     "showTitle": false,
     "title": ""
    }
   },
   "outputs": [],
   "source": [
    "from pyspark.sql.types import StructType, StructField, StringType, IntegerType\n",
    "from pyspark.sql.functions import lit,col,expr,when,coalesce\n",
    "from delta.tables import DeltaTable"
   ]
  },
  {
   "cell_type": "markdown",
   "metadata": {
    "application/vnd.databricks.v1+cell": {
     "cellMetadata": {},
     "inputWidgets": {},
     "nuid": "0c198284-37a8-4519-b3cb-2007246bf18d",
     "showTitle": false,
     "title": ""
    }
   },
   "source": [
    "MERGE FUNCTIONS"
   ]
  },
  {
   "cell_type": "code",
   "execution_count": 0,
   "metadata": {
    "application/vnd.databricks.v1+cell": {
     "cellMetadata": {
      "byteLimit": 2048000,
      "rowLimit": 10000
     },
     "inputWidgets": {},
     "nuid": "cdab939f-0748-40c6-9d2e-50a000bdbc03",
     "showTitle": false,
     "title": ""
    }
   },
   "outputs": [],
   "source": [
    "def merge_function(df_new,name,path):\n",
    "    if not DeltaTable.isDeltaTable(spark,path):\n",
    "        df=df_new.withColumn(\"status\",lit(\"Additional\"))\n",
    "        df.write.format('Delta').option(\"mergeSchema\", \"true\").mode('overwrite').saveAsTable(name)\n",
    "    else:\n",
    "        spark.sql(f\"update  {name} set status='Missing'\")\n",
    "        target=DeltaTable.forName(spark,f'{name}')\n",
    "        target.alias(\"target\").merge(\n",
    "        source=df_new.alias(\"source\"),\n",
    "        condition=\"target.employee_id = source.employee_id \"\n",
    "        ).whenMatchedUpdate(\n",
    "                    set={\n",
    "                    \"employee_id\":\"source.employee_id\",\n",
    "                    \"employee_name\" :\"source.employee_name\",\n",
    "                    \"employee_age\":\"source.employee_age\",\n",
    "                    \"month1\":\"source.month1\",\n",
    "                    \"status\":lit(\"Exising\")\n",
    "                   }\n",
    "        ).whenNotMatchedInsert(values={\n",
    "                    \"employee_id\":\"source.employee_id\",\n",
    "                    \"employee_name\" :\"source.employee_name\",\n",
    "                   \"employee_age\":\"source.employee_age\",\n",
    "                   \"month1\":\"source.month1\",\n",
    "                   \"status\":lit(\"Addition\")\n",
    "        }).execute()\n",
    "    \n",
    "\n"
   ]
  },
  {
   "cell_type": "code",
   "execution_count": 0,
   "metadata": {
    "application/vnd.databricks.v1+cell": {
     "cellMetadata": {
      "byteLimit": 2048000,
      "rowLimit": 10000
     },
     "inputWidgets": {},
     "nuid": "e13721a0-2176-4258-84c2-07bae60a7bc7",
     "showTitle": false,
     "title": ""
    }
   },
   "outputs": [
    {
     "output_type": "stream",
     "name": "stdout",
     "output_type": "stream",
     "text": [
      "Out[3]: True"
     ]
    }
   ],
   "source": [
    "DeltaTable.isDeltaTable(spark,'dbfs:/user/hive/warehouse/hr_table')"
   ]
  },
  {
   "cell_type": "markdown",
   "metadata": {
    "application/vnd.databricks.v1+cell": {
     "cellMetadata": {},
     "inputWidgets": {},
     "nuid": "8f874e8b-8573-43b2-b26f-e4d7c7075403",
     "showTitle": false,
     "title": ""
    }
   },
   "source": [
    "Month -1"
   ]
  },
  {
   "cell_type": "code",
   "execution_count": 0,
   "metadata": {
    "application/vnd.databricks.v1+cell": {
     "cellMetadata": {
      "byteLimit": 2048000,
      "rowLimit": 10000
     },
     "inputWidgets": {},
     "nuid": "dda0b4b8-0272-460e-a6b5-b705dfb5a641",
     "showTitle": false,
     "title": ""
    }
   },
   "outputs": [],
   "source": [
    "data = [\n",
    "    (\"dbg01\", \"Luffy\", 20, 1),\n",
    "    (\"dbg02\", \"Zoro\", 22, 1),\n",
    "    (\"dbg03\", \"Sanji\", 22, 1),\n",
    "]\n",
    "\n",
    "# Define the schema with a struct type for 'month1'\n",
    "schema = StructType([\n",
    "    StructField(\"employee_id\", StringType(), True),\n",
    "    StructField(\"employee_name\", StringType(), True),\n",
    "    StructField(\"employee_age\", IntegerType(), True),\n",
    "    StructField(\"month1\", IntegerType(), True)\n",
    "])\n",
    "df = spark.createDataFrame(data, schema)\n",
    "merge_function(df,\"data_source45\",\"/dbfs/FileStore\")"
   ]
  },
  {
   "cell_type": "markdown",
   "metadata": {
    "application/vnd.databricks.v1+cell": {
     "cellMetadata": {
      "byteLimit": 2048000,
      "rowLimit": 10000
     },
     "inputWidgets": {},
     "nuid": "9144ba7d-bd94-4e77-83ad-fff8643f1fde",
     "showTitle": false,
     "title": ""
    }
   },
   "source": [
    "Month - 2"
   ]
  },
  {
   "cell_type": "code",
   "execution_count": 0,
   "metadata": {
    "application/vnd.databricks.v1+cell": {
     "cellMetadata": {
      "byteLimit": 2048000,
      "rowLimit": 10000
     },
     "inputWidgets": {},
     "nuid": "82b4a1c2-f1c3-47bc-96d1-0469093675c3",
     "showTitle": false,
     "title": ""
    }
   },
   "outputs": [],
   "source": [
    "data = [\n",
    "    (\"dbg01\", \"Monkey D luffy\", 21, 2),\n",
    "    (\"dbg04\", \"nami\", 24, 2)\n",
    "]\n",
    "df = spark.createDataFrame(data, schema)\n",
    "merge_function(df,\"data_source45\",\"dbfs:/user/hive/warehouse/data_source45\")"
   ]
  },
  {
   "cell_type": "code",
   "execution_count": 0,
   "metadata": {
    "application/vnd.databricks.v1+cell": {
     "cellMetadata": {
      "byteLimit": 2048000,
      "implicitDf": true,
      "rowLimit": 10000
     },
     "inputWidgets": {},
     "nuid": "ebf6f87d-a6d8-4257-86c2-933a2427aeb7",
     "showTitle": false,
     "title": ""
    }
   },
   "outputs": [
    {
     "output_type": "display_data",
     "data": {
      "text/html": [
       "<style scoped>\n",
       "  .table-result-container {\n",
       "    max-height: 300px;\n",
       "    overflow: auto;\n",
       "  }\n",
       "  table, th, td {\n",
       "    border: 1px solid black;\n",
       "    border-collapse: collapse;\n",
       "  }\n",
       "  th, td {\n",
       "    padding: 5px;\n",
       "  }\n",
       "  th {\n",
       "    text-align: left;\n",
       "  }\n",
       "</style><div class='table-result-container'><table class='table-result'><thead style='background-color: white'><tr><th>employee_id</th><th>employee_name</th><th>employee_age</th><th>month1</th><th>status</th></tr></thead><tbody><tr><td>dbg01</td><td>Monkey D luffy</td><td>21</td><td>2</td><td>Exising</td></tr><tr><td>dbg03</td><td>Sanji</td><td>22</td><td>1</td><td>Missing</td></tr><tr><td>dbg04</td><td>nami</td><td>24</td><td>2</td><td>Addition</td></tr><tr><td>dbg02</td><td>Zoro</td><td>22</td><td>1</td><td>Missing</td></tr></tbody></table></div>"
      ]
     },
     "metadata": {
      "application/vnd.databricks.v1+output": {
       "addedWidgets": {},
       "aggData": [],
       "aggError": "",
       "aggOverflow": false,
       "aggSchema": [],
       "aggSeriesLimitReached": false,
       "aggType": "",
       "arguments": {},
       "columnCustomDisplayInfos": {},
       "data": [
        [
         "dbg01",
         "Monkey D luffy",
         21,
         2,
         "Exising"
        ],
        [
         "dbg03",
         "Sanji",
         22,
         1,
         "Missing"
        ],
        [
         "dbg04",
         "nami",
         24,
         2,
         "Addition"
        ],
        [
         "dbg02",
         "Zoro",
         22,
         1,
         "Missing"
        ]
       ],
       "datasetInfos": [],
       "dbfsResultPath": null,
       "isJsonSchema": true,
       "metadata": {},
       "overflow": false,
       "plotOptions": {
        "customPlotOptions": {},
        "displayType": "table",
        "pivotAggregation": null,
        "pivotColumns": null,
        "xColumns": null,
        "yColumns": null
       },
       "removedWidgets": [],
       "schema": [
        {
         "metadata": "{}",
         "name": "employee_id",
         "type": "\"string\""
        },
        {
         "metadata": "{}",
         "name": "employee_name",
         "type": "\"string\""
        },
        {
         "metadata": "{}",
         "name": "employee_age",
         "type": "\"integer\""
        },
        {
         "metadata": "{}",
         "name": "month1",
         "type": "\"integer\""
        },
        {
         "metadata": "{}",
         "name": "status",
         "type": "\"string\""
        }
       ],
       "type": "table"
      }
     },
     "output_type": "display_data"
    }
   ],
   "source": [
    "%sql\n",
    "select * from data_source45"
   ]
  },
  {
   "cell_type": "markdown",
   "metadata": {
    "application/vnd.databricks.v1+cell": {
     "cellMetadata": {},
     "inputWidgets": {},
     "nuid": "290c15cb-033c-4c42-91ba-e570acf9a3b9",
     "showTitle": false,
     "title": ""
    }
   },
   "source": [
    "Month - 3"
   ]
  },
  {
   "cell_type": "code",
   "execution_count": 0,
   "metadata": {
    "application/vnd.databricks.v1+cell": {
     "cellMetadata": {
      "byteLimit": 2048000,
      "rowLimit": 10000
     },
     "inputWidgets": {},
     "nuid": "c4e31af9-599f-47da-980a-d0890bc394d6",
     "showTitle": false,
     "title": ""
    }
   },
   "outputs": [],
   "source": [
    "data = [\n",
    "    (\"dbg02\", \"Ronovara zora\", 23, 3),\n",
    "    \n",
    "]\n",
    "df = spark.createDataFrame(data, schema)\n",
    "merge_function(df,\"data_source45\",\"dbfs:/user/hive/warehouse/data_source45\")"
   ]
  },
  {
   "cell_type": "code",
   "execution_count": 0,
   "metadata": {
    "application/vnd.databricks.v1+cell": {
     "cellMetadata": {
      "byteLimit": 2048000,
      "implicitDf": true,
      "rowLimit": 10000
     },
     "inputWidgets": {},
     "nuid": "d0d6f109-b977-4545-b26d-613fd8eb3402",
     "showTitle": false,
     "title": ""
    }
   },
   "outputs": [
    {
     "output_type": "display_data",
     "data": {
      "text/html": [
       "<style scoped>\n",
       "  .table-result-container {\n",
       "    max-height: 300px;\n",
       "    overflow: auto;\n",
       "  }\n",
       "  table, th, td {\n",
       "    border: 1px solid black;\n",
       "    border-collapse: collapse;\n",
       "  }\n",
       "  th, td {\n",
       "    padding: 5px;\n",
       "  }\n",
       "  th {\n",
       "    text-align: left;\n",
       "  }\n",
       "</style><div class='table-result-container'><table class='table-result'><thead style='background-color: white'><tr><th>employee_id</th><th>employee_name</th><th>employee_age</th><th>month1</th><th>status</th></tr></thead><tbody><tr><td>dbg01</td><td>Monkey D luffy</td><td>21</td><td>2</td><td>Missing</td></tr><tr><td>dbg02</td><td>Ronovara zora</td><td>23</td><td>3</td><td>Exising</td></tr><tr><td>dbg03</td><td>Sanji</td><td>22</td><td>1</td><td>Missing</td></tr><tr><td>dbg04</td><td>nami</td><td>24</td><td>2</td><td>Missing</td></tr></tbody></table></div>"
      ]
     },
     "metadata": {
      "application/vnd.databricks.v1+output": {
       "addedWidgets": {},
       "aggData": [],
       "aggError": "",
       "aggOverflow": false,
       "aggSchema": [],
       "aggSeriesLimitReached": false,
       "aggType": "",
       "arguments": {},
       "columnCustomDisplayInfos": {},
       "data": [
        [
         "dbg01",
         "Monkey D luffy",
         21,
         2,
         "Missing"
        ],
        [
         "dbg02",
         "Ronovara zora",
         23,
         3,
         "Exising"
        ],
        [
         "dbg03",
         "Sanji",
         22,
         1,
         "Missing"
        ],
        [
         "dbg04",
         "nami",
         24,
         2,
         "Missing"
        ]
       ],
       "datasetInfos": [],
       "dbfsResultPath": null,
       "isJsonSchema": true,
       "metadata": {},
       "overflow": false,
       "plotOptions": {
        "customPlotOptions": {},
        "displayType": "table",
        "pivotAggregation": null,
        "pivotColumns": null,
        "xColumns": null,
        "yColumns": null
       },
       "removedWidgets": [],
       "schema": [
        {
         "metadata": "{}",
         "name": "employee_id",
         "type": "\"string\""
        },
        {
         "metadata": "{}",
         "name": "employee_name",
         "type": "\"string\""
        },
        {
         "metadata": "{}",
         "name": "employee_age",
         "type": "\"long\""
        },
        {
         "metadata": "{}",
         "name": "month1",
         "type": "\"long\""
        },
        {
         "metadata": "{}",
         "name": "status",
         "type": "\"string\""
        }
       ],
       "type": "table"
      }
     },
     "output_type": "display_data"
    }
   ],
   "source": [
    "%sql\n",
    "select * from data_source45"
   ]
  },
  {
   "cell_type": "markdown",
   "metadata": {
    "application/vnd.databricks.v1+cell": {
     "cellMetadata": {},
     "inputWidgets": {},
     "nuid": "4f80f9a0-2276-4736-a80a-fb3c69f9f6b8",
     "showTitle": false,
     "title": ""
    }
   },
   "source": [
    "Month - 4\n"
   ]
  },
  {
   "cell_type": "code",
   "execution_count": 0,
   "metadata": {
    "application/vnd.databricks.v1+cell": {
     "cellMetadata": {
      "byteLimit": 2048000,
      "rowLimit": 10000
     },
     "inputWidgets": {},
     "nuid": "41c467b4-f342-4e30-8b93-5668c5ca2fcc",
     "showTitle": false,
     "title": ""
    }
   },
   "outputs": [],
   "source": [
    "data = [\n",
    "    (\"dbg01\", \"Monkey D luffy\", 21, 4),\n",
    "    (\"dbg03\", \"prince sanji\", 23, 4),\n",
    "    (\"dbg05\", \"ussopu\", 19, 4),\n",
    "]\n",
    "df = spark.createDataFrame(data, schema)\n",
    "merge_function(df,\"data_source45\",\"dbfs:/user/hive/warehouse/data_source45\")"
   ]
  },
  {
   "cell_type": "code",
   "execution_count": 0,
   "metadata": {
    "application/vnd.databricks.v1+cell": {
     "cellMetadata": {
      "byteLimit": 2048000,
      "implicitDf": true,
      "rowLimit": 10000
     },
     "inputWidgets": {},
     "nuid": "d9b62b12-a1f2-48a6-bf5d-823af9164f35",
     "showTitle": false,
     "title": ""
    }
   },
   "outputs": [
    {
     "output_type": "display_data",
     "data": {
      "text/html": [
       "<style scoped>\n",
       "  .table-result-container {\n",
       "    max-height: 300px;\n",
       "    overflow: auto;\n",
       "  }\n",
       "  table, th, td {\n",
       "    border: 1px solid black;\n",
       "    border-collapse: collapse;\n",
       "  }\n",
       "  th, td {\n",
       "    padding: 5px;\n",
       "  }\n",
       "  th {\n",
       "    text-align: left;\n",
       "  }\n",
       "</style><div class='table-result-container'><table class='table-result'><thead style='background-color: white'><tr><th>employee_id</th><th>employee_name</th><th>employee_age</th><th>month1</th><th>status</th></tr></thead><tbody><tr><td>dbg01</td><td>Monkey D luffy</td><td>21</td><td>4</td><td>Exising</td></tr><tr><td>dbg02</td><td>Ronovara zora</td><td>23</td><td>3</td><td>Missing</td></tr><tr><td>dbg03</td><td>prince sanji</td><td>23</td><td>4</td><td>Exising</td></tr><tr><td>dbg05</td><td>ussopu</td><td>19</td><td>4</td><td>Addition</td></tr><tr><td>dbg04</td><td>nami</td><td>24</td><td>2</td><td>Missing</td></tr></tbody></table></div>"
      ]
     },
     "metadata": {
      "application/vnd.databricks.v1+output": {
       "addedWidgets": {},
       "aggData": [],
       "aggError": "",
       "aggOverflow": false,
       "aggSchema": [],
       "aggSeriesLimitReached": false,
       "aggType": "",
       "arguments": {},
       "columnCustomDisplayInfos": {},
       "data": [
        [
         "dbg01",
         "Monkey D luffy",
         21,
         4,
         "Exising"
        ],
        [
         "dbg02",
         "Ronovara zora",
         23,
         3,
         "Missing"
        ],
        [
         "dbg03",
         "prince sanji",
         23,
         4,
         "Exising"
        ],
        [
         "dbg05",
         "ussopu",
         19,
         4,
         "Addition"
        ],
        [
         "dbg04",
         "nami",
         24,
         2,
         "Missing"
        ]
       ],
       "datasetInfos": [],
       "dbfsResultPath": null,
       "isJsonSchema": true,
       "metadata": {},
       "overflow": false,
       "plotOptions": {
        "customPlotOptions": {},
        "displayType": "table",
        "pivotAggregation": null,
        "pivotColumns": null,
        "xColumns": null,
        "yColumns": null
       },
       "removedWidgets": [],
       "schema": [
        {
         "metadata": "{}",
         "name": "employee_id",
         "type": "\"string\""
        },
        {
         "metadata": "{}",
         "name": "employee_name",
         "type": "\"string\""
        },
        {
         "metadata": "{}",
         "name": "employee_age",
         "type": "\"integer\""
        },
        {
         "metadata": "{}",
         "name": "month1",
         "type": "\"integer\""
        },
        {
         "metadata": "{}",
         "name": "status",
         "type": "\"string\""
        }
       ],
       "type": "table"
      }
     },
     "output_type": "display_data"
    }
   ],
   "source": [
    "%sql\n",
    "select * from data_source45"
   ]
  },
  {
   "cell_type": "code",
   "execution_count": 0,
   "metadata": {
    "application/vnd.databricks.v1+cell": {
     "cellMetadata": {},
     "inputWidgets": {},
     "nuid": "e3da935a-3dcf-4fde-9f43-b1cf9257a580",
     "showTitle": false,
     "title": ""
    }
   },
   "outputs": [],
   "source": []
  }
 ],
 "metadata": {
  "application/vnd.databricks.v1+notebook": {
   "dashboards": [],
   "language": "python",
   "notebookMetadata": {
    "mostRecentlyExecutedCommandWithImplicitDF": {
     "commandId": 3466538472569082,
     "dataframes": [
      "_sqldf"
     ]
    },
    "pythonIndentUnit": 4
   },
   "notebookName": "merge_efficent_approch",
   "widgets": {}
  }
 },
 "nbformat": 4,
 "nbformat_minor": 0
}
